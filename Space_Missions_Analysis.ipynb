{
  "cells": [
    {
      "cell_type": "markdown",
      "metadata": {
        "id": "ka_FkvXBiABo"
      },
      "source": [
        "# Introduction"
      ]
    },
    {
      "cell_type": "markdown",
      "metadata": {
        "id": "AWaMmfxXa-p0",
        "papermill": {
          "duration": 0.035434,
          "end_time": "2020-10-20T21:34:01.886225",
          "exception": false,
          "start_time": "2020-10-20T21:34:01.850791",
          "status": "completed"
        },
        "tags": []
      },
      "source": [
        "<center><img src=\"https://i.imgur.com/9hLRsjZ.jpg\" height=400></center>\n",
        "\n",
        "This dataset was scraped from [nextspaceflight.com](https://nextspaceflight.com/launches/past/?page=1) and includes all the space missions since the beginning of Space Race between the USA and the Soviet Union in 1957!"
      ]
    },
    {
      "cell_type": "markdown",
      "metadata": {
        "id": "ufzKRKS3bV0r"
      },
      "source": [
        "### Install Package with Country Codes"
      ]
    },
    {
      "cell_type": "code",
      "execution_count": 1,
      "metadata": {
        "colab": {
          "base_uri": "https://localhost:8080/"
        },
        "id": "0HxV9o6dbRUE",
        "outputId": "35464d43-d601-4b8f-81fd-6dbd400167f5"
      },
      "outputs": [
        {
          "name": "stdout",
          "output_type": "stream",
          "text": [
            "Requirement already satisfied: iso3166 in c:\\users\\dinni\\appdata\\local\\programs\\python\\python311\\lib\\site-packages (2.1.1)\n",
            "Note: you may need to restart the kernel to use updated packages.\n"
          ]
        }
      ],
      "source": [
        "%pip install iso3166"
      ]
    },
    {
      "cell_type": "markdown",
      "metadata": {
        "id": "ErFDBihUi1jN"
      },
      "source": [
        "### Import Statements"
      ]
    },
    {
      "cell_type": "code",
      "execution_count": 2,
      "metadata": {
        "_cell_guid": "b1076dfc-b9ad-4769-8c92-a6c4dae69d19",
        "_kg_hide-input": true,
        "_kg_hide-output": true,
        "_uuid": "8f2839f25d086af736a60e9eeb907d3b93b6e0e5",
        "colab": {
          "base_uri": "https://localhost:8080/"
        },
        "execution": {
          "iopub.execute_input": "2020-10-20T21:34:02.101551Z",
          "iopub.status.busy": "2020-10-20T21:34:02.101085Z",
          "iopub.status.idle": "2020-10-20T21:34:03.726868Z",
          "shell.execute_reply": "2020-10-20T21:34:03.725783Z"
        },
        "id": "xdolY0-Sa-p1",
        "outputId": "7142dedb-82e9-457d-db44-cea4e121bdfe",
        "papermill": {
          "duration": 1.665326,
          "end_time": "2020-10-20T21:34:03.726995",
          "exception": false,
          "start_time": "2020-10-20T21:34:02.061669",
          "status": "completed"
        },
        "tags": []
      },
      "outputs": [],
      "source": [
        "import numpy as np\n",
        "import pandas as pd\n",
        "import plotly.express as px\n",
        "import matplotlib.pyplot as plt\n",
        "import seaborn as sns\n",
        "\n",
        "from iso3166 import countries\n",
        "from datetime import datetime, timedelta"
      ]
    },
    {
      "cell_type": "markdown",
      "metadata": {
        "id": "lovGPRgKxIgo"
      },
      "source": [
        "### Notebook Presentation"
      ]
    },
    {
      "cell_type": "code",
      "execution_count": 3,
      "metadata": {
        "id": "DHEULCOjxIIm"
      },
      "outputs": [],
      "source": [
        "pd.options.display.float_format = '{:,.2f}'.format"
      ]
    },
    {
      "cell_type": "markdown",
      "metadata": {
        "id": "yaT3QbjEa-p4",
        "papermill": {
          "duration": 0.034606,
          "end_time": "2020-10-20T21:34:03.798396",
          "exception": false,
          "start_time": "2020-10-20T21:34:03.763790",
          "status": "completed"
        },
        "tags": []
      },
      "source": [
        "### Load the Data"
      ]
    },
    {
      "cell_type": "code",
      "execution_count": 4,
      "metadata": {
        "_cell_guid": "79c7e3d0-c299-4dcb-8224-4455121ee9b0",
        "_kg_hide-input": true,
        "_uuid": "d629ff2d2480ee46fbb7e2d37f6b5fab8052498a",
        "execution": {
          "iopub.execute_input": "2020-10-20T21:34:03.874195Z",
          "iopub.status.busy": "2020-10-20T21:34:03.873775Z",
          "iopub.status.idle": "2020-10-20T21:34:03.921919Z",
          "shell.execute_reply": "2020-10-20T21:34:03.921418Z"
        },
        "id": "0lDOu8aka-p4",
        "papermill": {
          "duration": 0.08876,
          "end_time": "2020-10-20T21:34:03.922028",
          "exception": false,
          "start_time": "2020-10-20T21:34:03.833268",
          "status": "completed"
        },
        "tags": []
      },
      "outputs": [],
      "source": [
        "df_data = pd.read_csv('mission_launches.csv')"
      ]
    },
    {
      "cell_type": "markdown",
      "metadata": {
        "id": "jAnMiVcVjuKB"
      },
      "source": [
        "# Preliminary Data Exploration\n",
        "\n",
        "* What is the shape of `df_data`? \n",
        "* How many rows and columns does it have?\n",
        "* What are the column names?\n",
        "* Are there any NaN values or duplicates?"
      ]
    },
    {
      "cell_type": "code",
      "execution_count": 5,
      "metadata": {
        "id": "0tIuYcYNlPFQ"
      },
      "outputs": [
        {
          "data": {
            "text/plain": [
              "(4324, 9)"
            ]
          },
          "execution_count": 5,
          "metadata": {},
          "output_type": "execute_result"
        }
      ],
      "source": [
        "df_data.shape"
      ]
    },
    {
      "cell_type": "code",
      "execution_count": 6,
      "metadata": {},
      "outputs": [
        {
          "data": {
            "text/plain": [
              "Index(['Unnamed: 0.1', 'Unnamed: 0', 'Organisation', 'Location', 'Date',\n",
              "       'Detail', 'Rocket_Status', 'Price', 'Mission_Status'],\n",
              "      dtype='object')"
            ]
          },
          "execution_count": 6,
          "metadata": {},
          "output_type": "execute_result"
        }
      ],
      "source": [
        "df_data.columns"
      ]
    },
    {
      "cell_type": "markdown",
      "metadata": {
        "id": "KUN30y6ja-p9",
        "papermill": {
          "duration": 0.05406,
          "end_time": "2020-10-20T21:34:04.149973",
          "exception": false,
          "start_time": "2020-10-20T21:34:04.095913",
          "status": "completed"
        },
        "tags": []
      },
      "source": [
        "## Data Cleaning - Check for Missing Values and Duplicates\n",
        "\n",
        "Consider removing columns containing junk data. "
      ]
    },
    {
      "cell_type": "code",
      "execution_count": 7,
      "metadata": {
        "id": "wWQvnJb0k2Ig"
      },
      "outputs": [
        {
          "name": "stdout",
          "output_type": "stream",
          "text": [
            "Is there any NaN Values? True\n"
          ]
        }
      ],
      "source": [
        "print(f\"Is there any NaN Values? {df_data.isna().values.any()}\")"
      ]
    },
    {
      "cell_type": "code",
      "execution_count": 8,
      "metadata": {},
      "outputs": [
        {
          "name": "stdout",
          "output_type": "stream",
          "text": [
            "Is there any duplicated Values? False\n"
          ]
        }
      ],
      "source": [
        "print(f\"Is there any duplicated Values? {df_data.duplicated().values.any()}\")"
      ]
    },
    {
      "cell_type": "code",
      "execution_count": 9,
      "metadata": {},
      "outputs": [],
      "source": [
        "df_data = df_data.drop([\"Unnamed: 0.1\", \"Unnamed: 0\"], axis=1)"
      ]
    },
    {
      "cell_type": "markdown",
      "metadata": {
        "id": "QHon_T5sa-p_",
        "papermill": {
          "duration": 0.036712,
          "end_time": "2020-10-20T21:34:05.227032",
          "exception": false,
          "start_time": "2020-10-20T21:34:05.190320",
          "status": "completed"
        },
        "tags": []
      },
      "source": [
        "## Descriptive Statistics"
      ]
    },
    {
      "cell_type": "code",
      "execution_count": 10,
      "metadata": {},
      "outputs": [
        {
          "data": {
            "application/vnd.microsoft.datawrangler.viewer.v0+json": {
              "columns": [
                {
                  "name": "index",
                  "rawType": "int64",
                  "type": "integer"
                },
                {
                  "name": "Organisation",
                  "rawType": "object",
                  "type": "string"
                },
                {
                  "name": "Location",
                  "rawType": "object",
                  "type": "string"
                },
                {
                  "name": "Date",
                  "rawType": "object",
                  "type": "string"
                },
                {
                  "name": "Detail",
                  "rawType": "object",
                  "type": "string"
                },
                {
                  "name": "Rocket_Status",
                  "rawType": "object",
                  "type": "string"
                },
                {
                  "name": "Price",
                  "rawType": "object",
                  "type": "unknown"
                },
                {
                  "name": "Mission_Status",
                  "rawType": "object",
                  "type": "string"
                }
              ],
              "conversionMethod": "pd.DataFrame",
              "ref": "811f3133-094b-413d-88a4-644f0351793c",
              "rows": [
                [
                  "0",
                  "SpaceX",
                  "LC-39A, Kennedy Space Center, Florida, USA",
                  "Fri Aug 07, 2020 05:12 UTC",
                  "Falcon 9 Block 5 | Starlink V1 L9 & BlackSky",
                  "StatusActive",
                  "50.0",
                  "Success"
                ],
                [
                  "1",
                  "CASC",
                  "Site 9401 (SLS-2), Jiuquan Satellite Launch Center, China",
                  "Thu Aug 06, 2020 04:01 UTC",
                  "Long March 2D | Gaofen-9 04 & Q-SAT",
                  "StatusActive",
                  "29.75",
                  "Success"
                ],
                [
                  "2",
                  "SpaceX",
                  "Pad A, Boca Chica, Texas, USA",
                  "Tue Aug 04, 2020 23:57 UTC",
                  "Starship Prototype | 150 Meter Hop",
                  "StatusActive",
                  null,
                  "Success"
                ],
                [
                  "3",
                  "Roscosmos",
                  "Site 200/39, Baikonur Cosmodrome, Kazakhstan",
                  "Thu Jul 30, 2020 21:25 UTC",
                  "Proton-M/Briz-M | Ekspress-80 & Ekspress-103",
                  "StatusActive",
                  "65.0",
                  "Success"
                ],
                [
                  "4",
                  "ULA",
                  "SLC-41, Cape Canaveral AFS, Florida, USA",
                  "Thu Jul 30, 2020 11:50 UTC",
                  "Atlas V 541 | Perseverance",
                  "StatusActive",
                  "145.0",
                  "Success"
                ]
              ],
              "shape": {
                "columns": 7,
                "rows": 5
              }
            },
            "text/html": [
              "<div>\n",
              "<style scoped>\n",
              "    .dataframe tbody tr th:only-of-type {\n",
              "        vertical-align: middle;\n",
              "    }\n",
              "\n",
              "    .dataframe tbody tr th {\n",
              "        vertical-align: top;\n",
              "    }\n",
              "\n",
              "    .dataframe thead th {\n",
              "        text-align: right;\n",
              "    }\n",
              "</style>\n",
              "<table border=\"1\" class=\"dataframe\">\n",
              "  <thead>\n",
              "    <tr style=\"text-align: right;\">\n",
              "      <th></th>\n",
              "      <th>Organisation</th>\n",
              "      <th>Location</th>\n",
              "      <th>Date</th>\n",
              "      <th>Detail</th>\n",
              "      <th>Rocket_Status</th>\n",
              "      <th>Price</th>\n",
              "      <th>Mission_Status</th>\n",
              "    </tr>\n",
              "  </thead>\n",
              "  <tbody>\n",
              "    <tr>\n",
              "      <th>0</th>\n",
              "      <td>SpaceX</td>\n",
              "      <td>LC-39A, Kennedy Space Center, Florida, USA</td>\n",
              "      <td>Fri Aug 07, 2020 05:12 UTC</td>\n",
              "      <td>Falcon 9 Block 5 | Starlink V1 L9 &amp; BlackSky</td>\n",
              "      <td>StatusActive</td>\n",
              "      <td>50.0</td>\n",
              "      <td>Success</td>\n",
              "    </tr>\n",
              "    <tr>\n",
              "      <th>1</th>\n",
              "      <td>CASC</td>\n",
              "      <td>Site 9401 (SLS-2), Jiuquan Satellite Launch Ce...</td>\n",
              "      <td>Thu Aug 06, 2020 04:01 UTC</td>\n",
              "      <td>Long March 2D | Gaofen-9 04 &amp; Q-SAT</td>\n",
              "      <td>StatusActive</td>\n",
              "      <td>29.75</td>\n",
              "      <td>Success</td>\n",
              "    </tr>\n",
              "    <tr>\n",
              "      <th>2</th>\n",
              "      <td>SpaceX</td>\n",
              "      <td>Pad A, Boca Chica, Texas, USA</td>\n",
              "      <td>Tue Aug 04, 2020 23:57 UTC</td>\n",
              "      <td>Starship Prototype | 150 Meter Hop</td>\n",
              "      <td>StatusActive</td>\n",
              "      <td>NaN</td>\n",
              "      <td>Success</td>\n",
              "    </tr>\n",
              "    <tr>\n",
              "      <th>3</th>\n",
              "      <td>Roscosmos</td>\n",
              "      <td>Site 200/39, Baikonur Cosmodrome, Kazakhstan</td>\n",
              "      <td>Thu Jul 30, 2020 21:25 UTC</td>\n",
              "      <td>Proton-M/Briz-M | Ekspress-80 &amp; Ekspress-103</td>\n",
              "      <td>StatusActive</td>\n",
              "      <td>65.0</td>\n",
              "      <td>Success</td>\n",
              "    </tr>\n",
              "    <tr>\n",
              "      <th>4</th>\n",
              "      <td>ULA</td>\n",
              "      <td>SLC-41, Cape Canaveral AFS, Florida, USA</td>\n",
              "      <td>Thu Jul 30, 2020 11:50 UTC</td>\n",
              "      <td>Atlas V 541 | Perseverance</td>\n",
              "      <td>StatusActive</td>\n",
              "      <td>145.0</td>\n",
              "      <td>Success</td>\n",
              "    </tr>\n",
              "  </tbody>\n",
              "</table>\n",
              "</div>"
            ],
            "text/plain": [
              "  Organisation                                           Location  \\\n",
              "0       SpaceX         LC-39A, Kennedy Space Center, Florida, USA   \n",
              "1         CASC  Site 9401 (SLS-2), Jiuquan Satellite Launch Ce...   \n",
              "2       SpaceX                      Pad A, Boca Chica, Texas, USA   \n",
              "3    Roscosmos       Site 200/39, Baikonur Cosmodrome, Kazakhstan   \n",
              "4          ULA           SLC-41, Cape Canaveral AFS, Florida, USA   \n",
              "\n",
              "                         Date                                        Detail  \\\n",
              "0  Fri Aug 07, 2020 05:12 UTC  Falcon 9 Block 5 | Starlink V1 L9 & BlackSky   \n",
              "1  Thu Aug 06, 2020 04:01 UTC           Long March 2D | Gaofen-9 04 & Q-SAT   \n",
              "2  Tue Aug 04, 2020 23:57 UTC            Starship Prototype | 150 Meter Hop   \n",
              "3  Thu Jul 30, 2020 21:25 UTC  Proton-M/Briz-M | Ekspress-80 & Ekspress-103   \n",
              "4  Thu Jul 30, 2020 11:50 UTC                    Atlas V 541 | Perseverance   \n",
              "\n",
              "  Rocket_Status  Price Mission_Status  \n",
              "0  StatusActive   50.0        Success  \n",
              "1  StatusActive  29.75        Success  \n",
              "2  StatusActive    NaN        Success  \n",
              "3  StatusActive   65.0        Success  \n",
              "4  StatusActive  145.0        Success  "
            ]
          },
          "execution_count": 10,
          "metadata": {},
          "output_type": "execute_result"
        }
      ],
      "source": [
        "df_data.head()"
      ]
    },
    {
      "cell_type": "code",
      "execution_count": 11,
      "metadata": {},
      "outputs": [
        {
          "name": "stdout",
          "output_type": "stream",
          "text": [
            "<class 'pandas.core.frame.DataFrame'>\n",
            "RangeIndex: 4324 entries, 0 to 4323\n",
            "Data columns (total 7 columns):\n",
            " #   Column          Non-Null Count  Dtype \n",
            "---  ------          --------------  ----- \n",
            " 0   Organisation    4324 non-null   object\n",
            " 1   Location        4324 non-null   object\n",
            " 2   Date            4324 non-null   object\n",
            " 3   Detail          4324 non-null   object\n",
            " 4   Rocket_Status   4324 non-null   object\n",
            " 5   Price           964 non-null    object\n",
            " 6   Mission_Status  4324 non-null   object\n",
            "dtypes: object(7)\n",
            "memory usage: 236.6+ KB\n"
          ]
        }
      ],
      "source": [
        "df_data.info()"
      ]
    },
    {
      "cell_type": "markdown",
      "metadata": {
        "id": "cgCjcpeUkKPW"
      },
      "source": [
        "# Number of Launches per Company\n",
        "\n",
        "Create a chart that shows the number of space mission launches by organisation."
      ]
    },
    {
      "cell_type": "code",
      "execution_count": 12,
      "metadata": {
        "id": "rxvcIrtskxYB"
      },
      "outputs": [
        {
          "data": {
            "text/plain": [
              "Organisation\n",
              "RVSN USSR           1777\n",
              "Arianespace          279\n",
              "General Dynamics     251\n",
              "CASC                 251\n",
              "NASA                 203\n",
              "VKS RF               201\n",
              "US Air Force         161\n",
              "ULA                  140\n",
              "Boeing               136\n",
              "Martin Marietta      114\n",
              "SpaceX               100\n",
              "MHI                   84\n",
              "Northrop              83\n",
              "Lockheed              79\n",
              "ISRO                  76\n",
              "Roscosmos             55\n",
              "ILS                   46\n",
              "Sea Launch            36\n",
              "ISAS                  30\n",
              "Kosmotras             22\n",
              "US Navy               17\n",
              "Rocket Lab            13\n",
              "ISA                   13\n",
              "Eurockot              13\n",
              "ESA                   13\n",
              "Blue Origin           12\n",
              "IAI                   11\n",
              "ExPace                10\n",
              "ASI                    9\n",
              "CNES                   8\n",
              "AMBA                   8\n",
              "JAXA                   7\n",
              "Land Launch            7\n",
              "MITT                   7\n",
              "UT                     5\n",
              "CASIC                  5\n",
              "KCST                   5\n",
              "Exos                   4\n",
              "CECLES                 4\n",
              "Arm??e de l'Air        4\n",
              "SRC                    3\n",
              "KARI                   3\n",
              "AEB                    3\n",
              "RAE                    2\n",
              "Yuzhmash               2\n",
              "OKB-586                2\n",
              "Virgin Orbit           1\n",
              "IRGC                   1\n",
              "OneSpace               1\n",
              "Landspace              1\n",
              "i-Space                1\n",
              "Sandia                 1\n",
              "Starsem                1\n",
              "Khrunichev             1\n",
              "Douglas                1\n",
              "EER                    1\n",
              "Name: count, dtype: int64"
            ]
          },
          "execution_count": 12,
          "metadata": {},
          "output_type": "execute_result"
        }
      ],
      "source": [
        "org_counts = df_data.Organisation.value_counts()\n",
        "org_counts"
      ]
    },
    {
      "cell_type": "code",
      "execution_count": 13,
      "metadata": {
        "id": "qgneHUbWkw5v"
      },
      "outputs": [
        {
          "data": {
            "image/png": "[encoded data removed]",
            "text/plain": [
              "<Figure size 1800x600 with 1 Axes>"
            ]
          },
          "metadata": {},
          "output_type": "display_data"
        }
      ],
      "source": [
        "plt.figure(figsize=(18,6))\n",
        "\n",
        "plt.bar(\n",
        "    org_counts.index,\n",
        "    org_counts.values,\n",
        "    color=\"red\",\n",
        "    align=\"edge\",\n",
        ")\n",
        "\n",
        "plt.title(\"Number of Space Missions by Organisation\", fontsize=24)\n",
        "plt.xlabel(\"Organisation\", fontsize=16)\n",
        "plt.ylabel(\"Number of Missions\", fontsize=16)\n",
        "plt.xticks(rotation=45, ha=\"right\")\n",
        "plt.tight_layout()\n",
        "plt.show()"
      ]
    },
    {
      "cell_type": "markdown",
      "metadata": {
        "id": "7Gwteht2kR_h"
      },
      "source": [
        "# Number of Active versus Retired Rockets\n",
        "\n",
        "How many rockets are active compared to those that are decomissioned? "
      ]
    },
    {
      "cell_type": "code",
      "execution_count": 14,
      "metadata": {
        "id": "SxmOWS9cmTq6"
      },
      "outputs": [
        {
          "data": {
            "text/plain": [
              "Rocket_Status\n",
              "StatusRetired    3534\n",
              "StatusActive      790\n",
              "Name: count, dtype: int64"
            ]
          },
          "execution_count": 14,
          "metadata": {},
          "output_type": "execute_result"
        }
      ],
      "source": [
        "rocket_status_count = df_data.Rocket_Status.value_counts()\n",
        "rocket_status_count"
      ]
    },
    {
      "cell_type": "code",
      "execution_count": 15,
      "metadata": {
        "id": "ydj0-OZ6mToH"
      },
      "outputs": [
        {
          "name": "stdout",
          "output_type": "stream",
          "text": [
            "There are [3534] retired rockets and [790] active rockets.\n"
          ]
        }
      ],
      "source": [
        "retired_roc_count = rocket_status_count[rocket_status_count.index == 'StatusRetired'].values\n",
        "active_roc_count = rocket_status_count[rocket_status_count.index == 'StatusActive'].values\n",
        "\n",
        "print(f\"There are {retired_roc_count} retired rockets and {active_roc_count} active rockets.\")"
      ]
    },
    {
      "cell_type": "markdown",
      "metadata": {
        "id": "y9WtP5xWkYkp"
      },
      "source": [
        "# Distribution of Mission Status\n",
        "\n",
        "How many missions were successful?\n",
        "How many missions failed?"
      ]
    },
    {
      "cell_type": "code",
      "execution_count": 16,
      "metadata": {
        "id": "83kY1alqmUhb"
      },
      "outputs": [
        {
          "data": {
            "text/plain": [
              "Mission_Status\n",
              "Success              3879\n",
              "Failure               339\n",
              "Partial Failure       102\n",
              "Prelaunch Failure       4\n",
              "Name: count, dtype: int64"
            ]
          },
          "execution_count": 16,
          "metadata": {},
          "output_type": "execute_result"
        }
      ],
      "source": [
        "df_data.Mission_Status.value_counts()"
      ]
    },
    {
      "cell_type": "markdown",
      "metadata": {
        "id": "jgTCihuoa-qH",
        "papermill": {
          "duration": 0.03854,
          "end_time": "2020-10-20T21:34:05.968626",
          "exception": false,
          "start_time": "2020-10-20T21:34:05.930086",
          "status": "completed"
        },
        "tags": []
      },
      "source": [
        "# How Expensive are the Launches? \n",
        "\n",
        "Create a histogram and visualise the distribution. The price column is given in USD millions (careful of missing values). "
      ]
    },
    {
      "cell_type": "code",
      "execution_count": 17,
      "metadata": {
        "id": "PLOMhzZFnSCO"
      },
      "outputs": [],
      "source": [
        "df_data.Price = pd.to_numeric(df_data.Price, errors=\"coerce\")"
      ]
    },
    {
      "cell_type": "code",
      "execution_count": 18,
      "metadata": {
        "id": "ru0IcY4nnSFU"
      },
      "outputs": [
        {
          "data": {
            "image/png": "[encoded data removed]",
            "text/plain": [
              "<Figure size 1200x800 with 1 Axes>"
            ]
          },
          "metadata": {},
          "output_type": "display_data"
        }
      ],
      "source": [
        "plt.figure(figsize=(12,8))\n",
        "\n",
        "plt.hist(\n",
        "    df_data.Price,\n",
        "    color=\"orange\",\n",
        "    rwidth=0.8 # relative width, the gap between the bar\n",
        ")\n",
        "\n",
        "plt.xlabel(\"Price\", fontsize = 16)\n",
        "plt.ylabel(\"Count\", fontsize = 16)\n",
        "plt.title(\"Price Distribution for Launch\", fontsize = 18)\n",
        "\n",
        "plt.show()"
      ]
    },
    {
      "cell_type": "markdown",
      "metadata": {
        "id": "QiNtigQDne3E"
      },
      "source": [
        "# Use a Choropleth Map to Show the Number of Launches by Country\n",
        "\n",
        "* Create a choropleth map using [the plotly documentation](https://plotly.com/python/choropleth-maps/)\n",
        "* Experiment with [plotly's available colours](https://plotly.com/python/builtin-colorscales/). I quite like the sequential colour `matter` on this map. \n",
        "* You'll need to extract a `country` feature as well as change the country names that no longer exist.\n",
        "\n",
        "Wrangle the Country Names\n",
        "\n",
        "You'll need to use a 3 letter country code for each country. You might have to change some country names.\n",
        "\n",
        "* Russia is the Russian Federation\n",
        "* New Mexico should be USA\n",
        "* Yellow Sea refers to China\n",
        "* Shahrud Missile Test Site should be Iran\n",
        "* Pacific Missile Range Facility should be USA\n",
        "* Barents Sea should be Russian Federation\n",
        "* Gran Canaria should be USA\n",
        "\n",
        "\n",
        "You can use the iso3166 package to convert the country names to Alpha3 format."
      ]
    },
    {
      "cell_type": "code",
      "execution_count": 19,
      "metadata": {
        "id": "Y46-4GHrozhF"
      },
      "outputs": [
        {
          "data": {
            "application/vnd.microsoft.datawrangler.viewer.v0+json": {
              "columns": [
                {
                  "name": "index",
                  "rawType": "int64",
                  "type": "integer"
                },
                {
                  "name": "Organisation",
                  "rawType": "object",
                  "type": "string"
                },
                {
                  "name": "Location",
                  "rawType": "object",
                  "type": "string"
                },
                {
                  "name": "Date",
                  "rawType": "object",
                  "type": "string"
                },
                {
                  "name": "Detail",
                  "rawType": "object",
                  "type": "string"
                },
                {
                  "name": "Rocket_Status",
                  "rawType": "object",
                  "type": "string"
                },
                {
                  "name": "Price",
                  "rawType": "float64",
                  "type": "float"
                },
                {
                  "name": "Mission_Status",
                  "rawType": "object",
                  "type": "string"
                },
                {
                  "name": "Country",
                  "rawType": "object",
                  "type": "string"
                }
              ],
              "conversionMethod": "pd.DataFrame",
              "ref": "91f2bf61-f84f-41eb-af27-4d7b48f85a44",
              "rows": [
                [
                  "0",
                  "SpaceX",
                  "LC-39A, Kennedy Space Center, Florida, USA",
                  "Fri Aug 07, 2020 05:12 UTC",
                  "Falcon 9 Block 5 | Starlink V1 L9 & BlackSky",
                  "StatusActive",
                  "50.0",
                  "Success",
                  "USA"
                ],
                [
                  "1",
                  "CASC",
                  "Site 9401 (SLS-2), Jiuquan Satellite Launch Center, China",
                  "Thu Aug 06, 2020 04:01 UTC",
                  "Long March 2D | Gaofen-9 04 & Q-SAT",
                  "StatusActive",
                  "29.75",
                  "Success",
                  "China"
                ],
                [
                  "2",
                  "SpaceX",
                  "Pad A, Boca Chica, Texas, USA",
                  "Tue Aug 04, 2020 23:57 UTC",
                  "Starship Prototype | 150 Meter Hop",
                  "StatusActive",
                  null,
                  "Success",
                  "USA"
                ],
                [
                  "3",
                  "Roscosmos",
                  "Site 200/39, Baikonur Cosmodrome, Kazakhstan",
                  "Thu Jul 30, 2020 21:25 UTC",
                  "Proton-M/Briz-M | Ekspress-80 & Ekspress-103",
                  "StatusActive",
                  "65.0",
                  "Success",
                  "Kazakhstan"
                ],
                [
                  "4",
                  "ULA",
                  "SLC-41, Cape Canaveral AFS, Florida, USA",
                  "Thu Jul 30, 2020 11:50 UTC",
                  "Atlas V 541 | Perseverance",
                  "StatusActive",
                  "145.0",
                  "Success",
                  "USA"
                ],
                [
                  "5",
                  "CASC",
                  "LC-9, Taiyuan Satellite Launch Center, China",
                  "Sat Jul 25, 2020 03:13 UTC",
                  "Long March 4B | Ziyuan-3 03, Apocalypse-10 & NJU-HKU 1",
                  "StatusActive",
                  "64.68",
                  "Success",
                  "China"
                ],
                [
                  "6",
                  "Roscosmos",
                  "Site 31/6, Baikonur Cosmodrome, Kazakhstan",
                  "Thu Jul 23, 2020 14:26 UTC",
                  "Soyuz 2.1a | Progress MS-15",
                  "StatusActive",
                  "48.5",
                  "Success",
                  "Kazakhstan"
                ],
                [
                  "7",
                  "CASC",
                  "LC-101, Wenchang Satellite Launch Center, China",
                  "Thu Jul 23, 2020 04:41 UTC",
                  "Long March 5 | Tianwen-1",
                  "StatusActive",
                  null,
                  "Success",
                  "China"
                ],
                [
                  "8",
                  "SpaceX",
                  "SLC-40, Cape Canaveral AFS, Florida, USA",
                  "Mon Jul 20, 2020 21:30 UTC",
                  "Falcon 9 Block 5 | ANASIS-II",
                  "StatusActive",
                  "50.0",
                  "Success",
                  "USA"
                ],
                [
                  "9",
                  "JAXA",
                  "LA-Y1, Tanegashima Space Center, Japan",
                  "Sun Jul 19, 2020 21:58 UTC",
                  "H-IIA 202 | Hope Mars Mission",
                  "StatusActive",
                  "90.0",
                  "Success",
                  "Japan"
                ],
                [
                  "10",
                  "Northrop",
                  "LP-0B, Wallops Flight Facility, Virginia, USA",
                  "Wed Jul 15, 2020 13:46 UTC",
                  "Minotaur IV | NROL-129",
                  "StatusActive",
                  "46.0",
                  "Success",
                  "USA"
                ],
                [
                  "11",
                  "ExPace",
                  "Site 95, Jiuquan Satellite Launch Center, China",
                  "Fri Jul 10, 2020 04:17 UTC",
                  "Kuaizhou 11 | Jilin-1 02E, CentiSpace-1 S2",
                  "StatusActive",
                  "28.3",
                  "Failure",
                  "China"
                ],
                [
                  "12",
                  "CASC",
                  "LC-3, Xichang Satellite Launch Center, China",
                  "Thu Jul 09, 2020 12:11 UTC",
                  "Long March 3B/E | Apstar-6D",
                  "StatusActive",
                  "29.15",
                  "Success",
                  "China"
                ],
                [
                  "13",
                  "IAI",
                  "Pad 1, Palmachim Airbase, Israel",
                  "Mon Jul 06, 2020 01:00 UTC",
                  "Shavit-2 | Ofek-16",
                  "StatusActive",
                  null,
                  "Success",
                  "Israel"
                ],
                [
                  "14",
                  "CASC",
                  "Site 9401 (SLS-2), Jiuquan Satellite Launch Center, China",
                  "Sat Jul 04, 2020 23:44 UTC",
                  "Long March 2D | Shiyan-6 02",
                  "StatusActive",
                  "29.75",
                  "Success",
                  "China"
                ],
                [
                  "15",
                  "Rocket Lab",
                  "Rocket Lab LC-1A, M?hia Peninsula, New Zealand",
                  "Sat Jul 04, 2020 21:19 UTC",
                  "Electron/Curie | Pics Or It Didn??¦t Happen",
                  "StatusActive",
                  "7.5",
                  "Failure",
                  "New Zealand"
                ],
                [
                  "16",
                  "CASC",
                  "LC-9, Taiyuan Satellite Launch Center, China",
                  "Fri Jul 03, 2020 03:10 UTC",
                  "Long March 4B | Gaofen Duomo & BY-02",
                  "StatusActive",
                  "64.68",
                  "Success",
                  "China"
                ],
                [
                  "17",
                  "SpaceX",
                  "SLC-40, Cape Canaveral AFS, Florida, USA",
                  "Tue Jun 30, 2020 20:10 UTC",
                  "Falcon 9 Block 5 | GPS III SV03",
                  "StatusActive",
                  "50.0",
                  "Success",
                  "USA"
                ],
                [
                  "18",
                  "CASC",
                  "LC-2, Xichang Satellite Launch Center, China",
                  "Tue Jun 23, 2020 01:43 UTC",
                  "Long March 3B/E | Beidou-3 G3",
                  "StatusActive",
                  "29.15",
                  "Success",
                  "China"
                ],
                [
                  "19",
                  "CASC",
                  "Site 9401 (SLS-2), Jiuquan Satellite Launch Center, China",
                  "Wed Jun 17, 2020 07:19 UTC",
                  "Long March 2D | Gaofen-9 03, Pixing III A & HEAD-5",
                  "StatusActive",
                  "29.75",
                  "Success",
                  "China"
                ],
                [
                  "20",
                  "SpaceX",
                  "SLC-40, Cape Canaveral AFS, Florida, USA",
                  "Sat Jun 13, 2020 09:21 UTC",
                  "Falcon 9 Block 5 | Starlink V1 L8 & SkySat 16 to 18",
                  "StatusActive",
                  "50.0",
                  "Success",
                  "USA"
                ],
                [
                  "21",
                  "Rocket Lab",
                  "Rocket Lab LC-1A, M?hia Peninsula, New Zealand",
                  "Sat Jun 13, 2020 05:12 UTC",
                  "Electron/Curie | Don't stop me now!",
                  "StatusActive",
                  "7.5",
                  "Success",
                  "New Zealand"
                ],
                [
                  "22",
                  "CASC",
                  "LC-9, Taiyuan Satellite Launch Center, China",
                  "Wed Jun 10, 2020 18:31 UTC",
                  "Long March 2C | Haiyang-1D",
                  "StatusActive",
                  "30.8",
                  "Success",
                  "China"
                ],
                [
                  "23",
                  "SpaceX",
                  "SLC-40, Cape Canaveral AFS, Florida, USA",
                  "Thu Jun 04, 2020 01:25 UTC",
                  "Falcon 9 Block 5 | Starlink V1 L7",
                  "StatusActive",
                  "50.0",
                  "Success",
                  "USA"
                ],
                [
                  "24",
                  "CASC",
                  "Site 9401 (SLS-2), Jiuquan Satellite Launch Center, China",
                  "Sun May 31, 2020 08:53 UTC",
                  "Long March 2D | Gaofen-9-02 & HEAD-4",
                  "StatusActive",
                  "29.75",
                  "Success",
                  "China"
                ],
                [
                  "25",
                  "SpaceX",
                  "LC-39A, Kennedy Space Center, Florida, USA",
                  "Sat May 30, 2020 19:22 UTC",
                  "Falcon 9 Block 5 | SpaceX Demo-2",
                  "StatusActive",
                  "50.0",
                  "Success",
                  "USA"
                ],
                [
                  "26",
                  "CASC",
                  "Xichang Satellite Launch Center, China",
                  "Fri May 29, 2020 20:13 UTC",
                  "Long March 11 | XJS-G and XJS-H",
                  "StatusActive",
                  "5.3",
                  "Success",
                  "China"
                ],
                [
                  "27",
                  "Virgin Orbit",
                  "Cosmic Girl, Mojave Air and Space Port, California, USA",
                  "Mon May 25, 2020 19:50 UTC",
                  "LauncherOne | Demo Flight",
                  "StatusActive",
                  "12.0",
                  "Failure",
                  "USA"
                ],
                [
                  "28",
                  "VKS RF",
                  "Site 43/4, Plesetsk Cosmodrome, Russia",
                  "Fri May 22, 2020 07:31 UTC",
                  "Soyuz 2.1b/Fregat-M | Cosmos 2546",
                  "StatusActive",
                  null,
                  "Success",
                  "Russian Federation"
                ],
                [
                  "29",
                  "MHI",
                  "LA-Y2, Tanegashima Space Center, Japan",
                  "Wed May 20, 2020 17:31 UTC",
                  "H-IIB | HTV-9",
                  "StatusRetired",
                  "112.5",
                  "Success",
                  "Japan"
                ],
                [
                  "30",
                  "ULA",
                  "SLC-41, Cape Canaveral AFS, Florida, USA",
                  "Sun May 17, 2020 13:14 UTC",
                  "Atlas V 501 | OTV-6 (USSF-7)",
                  "StatusActive",
                  "120.0",
                  "Success",
                  "USA"
                ],
                [
                  "31",
                  "ExPace",
                  "Site 95, Jiuquan Satellite Launch Center, China",
                  "Tue May 12, 2020 01:16 UTC",
                  "Kuaizhou 1A | Xingyun-2 01 (Wuhan) & 02",
                  "StatusActive",
                  null,
                  "Success",
                  "China"
                ],
                [
                  "32",
                  "CASC",
                  "LC-101, Wenchang Satellite Launch Center, China",
                  "Tue May 05, 2020 10:00 UTC",
                  "Long March 5B | Test Flight (New Crew Capsule)",
                  "StatusActive",
                  null,
                  "Success",
                  "China"
                ],
                [
                  "33",
                  "Roscosmos",
                  "Site 31/6, Baikonur Cosmodrome, Kazakhstan",
                  "Sat Apr 25, 2020 01:51 UTC",
                  "Soyuz 2.1a | Progress MS-14",
                  "StatusActive",
                  "48.5",
                  "Success",
                  "Kazakhstan"
                ],
                [
                  "34",
                  "SpaceX",
                  "LC-39A, Kennedy Space Center, Florida, USA",
                  "Wed Apr 22, 2020 19:30 UTC",
                  "Falcon 9 Block 5 | Starlink V1 L6",
                  "StatusActive",
                  "50.0",
                  "Success",
                  "USA"
                ],
                [
                  "35",
                  "IRGC",
                  "Launch Plateform, Shahrud Missile Test Site",
                  "Wed Apr 22, 2020 03:59 UTC",
                  "Qased | Noor 1",
                  "StatusActive",
                  null,
                  "Success",
                  "Iran, Islamic Republic of"
                ],
                [
                  "36",
                  "CASC",
                  "LC-2, Xichang Satellite Launch Center, China",
                  "Thu Apr 09, 2020 11:46 UTC",
                  "Long March 3B/E | Nusantara Dua",
                  "StatusActive",
                  "29.15",
                  "Failure",
                  "China"
                ],
                [
                  "37",
                  "Roscosmos",
                  "Site 31/6, Baikonur Cosmodrome, Kazakhstan",
                  "Thu Apr 09, 2020 08:05 UTC",
                  "Soyuz 2.1a | Soyuz MS-16",
                  "StatusActive",
                  "48.5",
                  "Success",
                  "Kazakhstan"
                ],
                [
                  "38",
                  "ULA",
                  "SLC-41, Cape Canaveral AFS, Florida, USA",
                  "Thu Mar 26, 2020 20:18 UTC",
                  "Atlas V 551 | AEHF 6",
                  "StatusActive",
                  "153.0",
                  "Success",
                  "USA"
                ],
                [
                  "39",
                  "CASC",
                  "LC-3, Xichang Satellite Launch Center, China",
                  "Tue Mar 24, 2020 03:43 UTC",
                  "Long March 2C | Yaogan-30-06",
                  "StatusActive",
                  "30.8",
                  "Success",
                  "China"
                ],
                [
                  "40",
                  "Arianespace",
                  "Site 31/6, Baikonur Cosmodrome, Kazakhstan",
                  "Sat Mar 21, 2020 17:06 UTC",
                  "Soyuz 2.1b/Fregat | OneWeb #3",
                  "StatusActive",
                  "48.5",
                  "Success",
                  "Kazakhstan"
                ],
                [
                  "41",
                  "SpaceX",
                  "LC-39A, Kennedy Space Center, Florida, USA",
                  "Wed Mar 18, 2020 12:16 UTC",
                  "Falcon 9 Block 5 | Starlink V1 L5",
                  "StatusActive",
                  "50.0",
                  "Success",
                  "USA"
                ],
                [
                  "42",
                  "VKS RF",
                  "Site 43/4, Plesetsk Cosmodrome, Russia",
                  "Mon Mar 16, 2020 18:28 UTC",
                  "Soyuz 2.1b/Fregat-M | Cosmos 2545",
                  "StatusActive",
                  null,
                  "Success",
                  "Russian Federation"
                ],
                [
                  "43",
                  "CASC",
                  "LC-201, Wenchang Satellite Launch Center, China",
                  "Mon Mar 16, 2020 13:34 UTC",
                  "Long March 7A | XJY-6",
                  "StatusActive",
                  null,
                  "Failure",
                  "China"
                ],
                [
                  "44",
                  "CASC",
                  "LC-2, Xichang Satellite Launch Center, China",
                  "Mon Mar 09, 2020 11:55 UTC",
                  "Long March 3B/E | Beidou-3 G2",
                  "StatusActive",
                  "29.15",
                  "Success",
                  "China"
                ],
                [
                  "45",
                  "SpaceX",
                  "SLC-40, Cape Canaveral AFS, Florida, USA",
                  "Sat Mar 07, 2020 04:50 UTC",
                  "Falcon 9 Block 5 | CRS-20",
                  "StatusActive",
                  "50.0",
                  "Success",
                  "USA"
                ],
                [
                  "46",
                  "VKS RF",
                  "Site 43/3, Plesetsk Cosmodrome, Russia",
                  "Thu Feb 20, 2020 08:24 UTC",
                  "Soyuz 2.1a/Fregat-M | Meridian-M n†­19L",
                  "StatusActive",
                  "48.5",
                  "Success",
                  "Russian Federation"
                ],
                [
                  "47",
                  "CASC",
                  "LC-3, Xichang Satellite Launch Center, China",
                  "Wed Feb 19, 2020 21:07 UTC",
                  "Long March 2D | XJS-C to F",
                  "StatusActive",
                  "29.75",
                  "Success",
                  "China"
                ],
                [
                  "48",
                  "Arianespace",
                  "ELA-3, Guiana Space Centre, French Guiana, France",
                  "Tue Feb 18, 2020 22:18 UTC",
                  "Ariane 5 ECA | JCSAT-17 & GEO-KOMPSAT 2B",
                  "StatusActive",
                  "200.0",
                  "Success",
                  "France"
                ],
                [
                  "49",
                  "SpaceX",
                  "SLC-40, Cape Canaveral AFS, Florida, USA",
                  "Mon Feb 17, 2020 15:05 UTC",
                  "Falcon 9 Block 5 | Starlink V1 L4",
                  "StatusActive",
                  "50.0",
                  "Success",
                  "USA"
                ]
              ],
              "shape": {
                "columns": 8,
                "rows": 4324
              }
            },
            "text/html": [
              "<div>\n",
              "<style scoped>\n",
              "    .dataframe tbody tr th:only-of-type {\n",
              "        vertical-align: middle;\n",
              "    }\n",
              "\n",
              "    .dataframe tbody tr th {\n",
              "        vertical-align: top;\n",
              "    }\n",
              "\n",
              "    .dataframe thead th {\n",
              "        text-align: right;\n",
              "    }\n",
              "</style>\n",
              "<table border=\"1\" class=\"dataframe\">\n",
              "  <thead>\n",
              "    <tr style=\"text-align: right;\">\n",
              "      <th></th>\n",
              "      <th>Organisation</th>\n",
              "      <th>Location</th>\n",
              "      <th>Date</th>\n",
              "      <th>Detail</th>\n",
              "      <th>Rocket_Status</th>\n",
              "      <th>Price</th>\n",
              "      <th>Mission_Status</th>\n",
              "      <th>Country</th>\n",
              "    </tr>\n",
              "  </thead>\n",
              "  <tbody>\n",
              "    <tr>\n",
              "      <th>0</th>\n",
              "      <td>SpaceX</td>\n",
              "      <td>LC-39A, Kennedy Space Center, Florida, USA</td>\n",
              "      <td>Fri Aug 07, 2020 05:12 UTC</td>\n",
              "      <td>Falcon 9 Block 5 | Starlink V1 L9 &amp; BlackSky</td>\n",
              "      <td>StatusActive</td>\n",
              "      <td>50.00</td>\n",
              "      <td>Success</td>\n",
              "      <td>USA</td>\n",
              "    </tr>\n",
              "    <tr>\n",
              "      <th>1</th>\n",
              "      <td>CASC</td>\n",
              "      <td>Site 9401 (SLS-2), Jiuquan Satellite Launch Ce...</td>\n",
              "      <td>Thu Aug 06, 2020 04:01 UTC</td>\n",
              "      <td>Long March 2D | Gaofen-9 04 &amp; Q-SAT</td>\n",
              "      <td>StatusActive</td>\n",
              "      <td>29.75</td>\n",
              "      <td>Success</td>\n",
              "      <td>China</td>\n",
              "    </tr>\n",
              "    <tr>\n",
              "      <th>2</th>\n",
              "      <td>SpaceX</td>\n",
              "      <td>Pad A, Boca Chica, Texas, USA</td>\n",
              "      <td>Tue Aug 04, 2020 23:57 UTC</td>\n",
              "      <td>Starship Prototype | 150 Meter Hop</td>\n",
              "      <td>StatusActive</td>\n",
              "      <td>NaN</td>\n",
              "      <td>Success</td>\n",
              "      <td>USA</td>\n",
              "    </tr>\n",
              "    <tr>\n",
              "      <th>3</th>\n",
              "      <td>Roscosmos</td>\n",
              "      <td>Site 200/39, Baikonur Cosmodrome, Kazakhstan</td>\n",
              "      <td>Thu Jul 30, 2020 21:25 UTC</td>\n",
              "      <td>Proton-M/Briz-M | Ekspress-80 &amp; Ekspress-103</td>\n",
              "      <td>StatusActive</td>\n",
              "      <td>65.00</td>\n",
              "      <td>Success</td>\n",
              "      <td>Kazakhstan</td>\n",
              "    </tr>\n",
              "    <tr>\n",
              "      <th>4</th>\n",
              "      <td>ULA</td>\n",
              "      <td>SLC-41, Cape Canaveral AFS, Florida, USA</td>\n",
              "      <td>Thu Jul 30, 2020 11:50 UTC</td>\n",
              "      <td>Atlas V 541 | Perseverance</td>\n",
              "      <td>StatusActive</td>\n",
              "      <td>145.00</td>\n",
              "      <td>Success</td>\n",
              "      <td>USA</td>\n",
              "    </tr>\n",
              "    <tr>\n",
              "      <th>...</th>\n",
              "      <td>...</td>\n",
              "      <td>...</td>\n",
              "      <td>...</td>\n",
              "      <td>...</td>\n",
              "      <td>...</td>\n",
              "      <td>...</td>\n",
              "      <td>...</td>\n",
              "      <td>...</td>\n",
              "    </tr>\n",
              "    <tr>\n",
              "      <th>4319</th>\n",
              "      <td>US Navy</td>\n",
              "      <td>LC-18A, Cape Canaveral AFS, Florida, USA</td>\n",
              "      <td>Wed Feb 05, 1958 07:33 UTC</td>\n",
              "      <td>Vanguard | Vanguard TV3BU</td>\n",
              "      <td>StatusRetired</td>\n",
              "      <td>NaN</td>\n",
              "      <td>Failure</td>\n",
              "      <td>USA</td>\n",
              "    </tr>\n",
              "    <tr>\n",
              "      <th>4320</th>\n",
              "      <td>AMBA</td>\n",
              "      <td>LC-26A, Cape Canaveral AFS, Florida, USA</td>\n",
              "      <td>Sat Feb 01, 1958 03:48 UTC</td>\n",
              "      <td>Juno I | Explorer 1</td>\n",
              "      <td>StatusRetired</td>\n",
              "      <td>NaN</td>\n",
              "      <td>Success</td>\n",
              "      <td>USA</td>\n",
              "    </tr>\n",
              "    <tr>\n",
              "      <th>4321</th>\n",
              "      <td>US Navy</td>\n",
              "      <td>LC-18A, Cape Canaveral AFS, Florida, USA</td>\n",
              "      <td>Fri Dec 06, 1957 16:44 UTC</td>\n",
              "      <td>Vanguard | Vanguard TV3</td>\n",
              "      <td>StatusRetired</td>\n",
              "      <td>NaN</td>\n",
              "      <td>Failure</td>\n",
              "      <td>USA</td>\n",
              "    </tr>\n",
              "    <tr>\n",
              "      <th>4322</th>\n",
              "      <td>RVSN USSR</td>\n",
              "      <td>Site 1/5, Baikonur Cosmodrome, Kazakhstan</td>\n",
              "      <td>Sun Nov 03, 1957 02:30 UTC</td>\n",
              "      <td>Sputnik 8K71PS | Sputnik-2</td>\n",
              "      <td>StatusRetired</td>\n",
              "      <td>NaN</td>\n",
              "      <td>Success</td>\n",
              "      <td>Kazakhstan</td>\n",
              "    </tr>\n",
              "    <tr>\n",
              "      <th>4323</th>\n",
              "      <td>RVSN USSR</td>\n",
              "      <td>Site 1/5, Baikonur Cosmodrome, Kazakhstan</td>\n",
              "      <td>Fri Oct 04, 1957 19:28 UTC</td>\n",
              "      <td>Sputnik 8K71PS | Sputnik-1</td>\n",
              "      <td>StatusRetired</td>\n",
              "      <td>NaN</td>\n",
              "      <td>Success</td>\n",
              "      <td>Kazakhstan</td>\n",
              "    </tr>\n",
              "  </tbody>\n",
              "</table>\n",
              "<p>4324 rows × 8 columns</p>\n",
              "</div>"
            ],
            "text/plain": [
              "     Organisation                                           Location  \\\n",
              "0          SpaceX         LC-39A, Kennedy Space Center, Florida, USA   \n",
              "1            CASC  Site 9401 (SLS-2), Jiuquan Satellite Launch Ce...   \n",
              "2          SpaceX                      Pad A, Boca Chica, Texas, USA   \n",
              "3       Roscosmos       Site 200/39, Baikonur Cosmodrome, Kazakhstan   \n",
              "4             ULA           SLC-41, Cape Canaveral AFS, Florida, USA   \n",
              "...           ...                                                ...   \n",
              "4319      US Navy           LC-18A, Cape Canaveral AFS, Florida, USA   \n",
              "4320         AMBA           LC-26A, Cape Canaveral AFS, Florida, USA   \n",
              "4321      US Navy           LC-18A, Cape Canaveral AFS, Florida, USA   \n",
              "4322    RVSN USSR          Site 1/5, Baikonur Cosmodrome, Kazakhstan   \n",
              "4323    RVSN USSR          Site 1/5, Baikonur Cosmodrome, Kazakhstan   \n",
              "\n",
              "                            Date  \\\n",
              "0     Fri Aug 07, 2020 05:12 UTC   \n",
              "1     Thu Aug 06, 2020 04:01 UTC   \n",
              "2     Tue Aug 04, 2020 23:57 UTC   \n",
              "3     Thu Jul 30, 2020 21:25 UTC   \n",
              "4     Thu Jul 30, 2020 11:50 UTC   \n",
              "...                          ...   \n",
              "4319  Wed Feb 05, 1958 07:33 UTC   \n",
              "4320  Sat Feb 01, 1958 03:48 UTC   \n",
              "4321  Fri Dec 06, 1957 16:44 UTC   \n",
              "4322  Sun Nov 03, 1957 02:30 UTC   \n",
              "4323  Fri Oct 04, 1957 19:28 UTC   \n",
              "\n",
              "                                            Detail  Rocket_Status  Price  \\\n",
              "0     Falcon 9 Block 5 | Starlink V1 L9 & BlackSky   StatusActive  50.00   \n",
              "1              Long March 2D | Gaofen-9 04 & Q-SAT   StatusActive  29.75   \n",
              "2               Starship Prototype | 150 Meter Hop   StatusActive    NaN   \n",
              "3     Proton-M/Briz-M | Ekspress-80 & Ekspress-103   StatusActive  65.00   \n",
              "4                       Atlas V 541 | Perseverance   StatusActive 145.00   \n",
              "...                                            ...            ...    ...   \n",
              "4319                     Vanguard | Vanguard TV3BU  StatusRetired    NaN   \n",
              "4320                           Juno I | Explorer 1  StatusRetired    NaN   \n",
              "4321                       Vanguard | Vanguard TV3  StatusRetired    NaN   \n",
              "4322                    Sputnik 8K71PS | Sputnik-2  StatusRetired    NaN   \n",
              "4323                    Sputnik 8K71PS | Sputnik-1  StatusRetired    NaN   \n",
              "\n",
              "     Mission_Status     Country  \n",
              "0           Success         USA  \n",
              "1           Success       China  \n",
              "2           Success         USA  \n",
              "3           Success  Kazakhstan  \n",
              "4           Success         USA  \n",
              "...             ...         ...  \n",
              "4319        Failure         USA  \n",
              "4320        Success         USA  \n",
              "4321        Failure         USA  \n",
              "4322        Success  Kazakhstan  \n",
              "4323        Success  Kazakhstan  \n",
              "\n",
              "[4324 rows x 8 columns]"
            ]
          },
          "execution_count": 19,
          "metadata": {},
          "output_type": "execute_result"
        }
      ],
      "source": [
        "df_data[\"Country\"] = df_data.Location.str.split(\",\").str[-1].str.strip() # the last element has a space at the head.\n",
        "df_data.Country = df_data.Country.replace(\n",
        "    {\n",
        "        \"Russia\": \"Russian Federation\",\n",
        "        \"New Mexico\": \"USA\",\n",
        "        \"Yellow Sea\": \"China\",\n",
        "        \"Shahrud Missile Test Site\": \"Iran, Islamic Republic of\",\n",
        "        \"Pacific Missile Range Facility\": \"USA\",\n",
        "        \"Barents Sea\": \"Russian Federation\",\n",
        "        \"Gran Canaria\": \"USA\",\n",
        "    }\n",
        ")\n",
        "df_data"
      ]
    },
    {
      "cell_type": "code",
      "execution_count": 20,
      "metadata": {
        "id": "ESGRWiX6ozZG"
      },
      "outputs": [],
      "source": [
        "def name_to_alpha3(name):\n",
        "    try:\n",
        "        return countries.get(name).alpha3\n",
        "    except KeyError:\n",
        "        return None\n",
        "        \n",
        "df_data[\"ISO\"] = df_data.Country.apply(name_to_alpha3)"
      ]
    },
    {
      "cell_type": "code",
      "execution_count": 21,
      "metadata": {},
      "outputs": [],
      "source": [
        "country_launch_times = df_data.groupby(\"ISO\", as_index=False).agg({\"Mission_Status\": pd.Series.count})\n",
        "country_launch_times.columns = [\"Country\", \"Launch_Count\"]"
      ]
    },
    {
      "cell_type": "code",
      "execution_count": 22,
      "metadata": {},
      "outputs": [
        {
          "data": {
            "application/vnd.plotly.v1+json": {
              "config": {
                "plotlyServerURL": "https://plot.ly"
              },
              "data": [
                {
                  "coloraxis": "coloraxis",
                  "geo": "geo",
                  "hovertemplate": "Country=%{location}<br>Launch_Count=%{z}<extra></extra>",
                  "locations": [
                    "AUS",
                    "BRA",
                    "CHN",
                    "FRA",
                    "IND",
                    "IRN",
                    "ISR",
                    "JPN",
                    "KAZ",
                    "KEN",
                    "NZL",
                    "RUS",
                    "USA"
                  ],
                  "name": "",
                  "type": "choropleth",
                  "z": {
                    "bdata": "BgADAA0BLwFMAAEACwB+AL0CCQANAHYFRwU=",
                    "dtype": "i2"
                  }
                }
              ],
              "layout": {
                "coloraxis": {
                  "colorbar": {
                    "title": {
                      "text": "Launch_Count"
                    }
                  },
                  "colorscale": [
                    [
                      0,
                      "rgb(253, 237, 176)"
                    ],
                    [
                      0.09090909090909091,
                      "rgb(250, 205, 145)"
                    ],
                    [
                      0.18181818181818182,
                      "rgb(246, 173, 119)"
                    ],
                    [
                      0.2727272727272727,
                      "rgb(240, 142, 98)"
                    ],
                    [
                      0.36363636363636365,
                      "rgb(231, 109, 84)"
                    ],
                    [
                      0.45454545454545453,
                      "rgb(216, 80, 83)"
                    ],
                    [
                      0.5454545454545454,
                      "rgb(195, 56, 90)"
                    ],
                    [
                      0.6363636363636364,
                      "rgb(168, 40, 96)"
                    ],
                    [
                      0.7272727272727273,
                      "rgb(138, 29, 99)"
                    ],
                    [
                      0.8181818181818182,
                      "rgb(107, 24, 93)"
                    ],
                    [
                      0.9090909090909091,
                      "rgb(76, 21, 80)"
                    ],
                    [
                      1,
                      "rgb(47, 15, 61)"
                    ]
                  ]
                },
                "geo": {
                  "center": {},
                  "domain": {
                    "x": [
                      0,
                      1
                    ],
                    "y": [
                      0,
                      1
                    ]
                  }
                },
                "legend": {
                  "tracegroupgap": 0
                },
                "template": {
                  "data": {
                    "bar": [
                      {
                        "error_x": {
                          "color": "#2a3f5f"
                        },
                        "error_y": {
                          "color": "#2a3f5f"
                        },
                        "marker": {
                          "line": {
                            "color": "#E5ECF6",
                            "width": 0.5
                          },
                          "pattern": {
                            "fillmode": "overlay",
                            "size": 10,
                            "solidity": 0.2
                          }
                        },
                        "type": "bar"
                      }
                    ],
                    "barpolar": [
                      {
                        "marker": {
                          "line": {
                            "color": "#E5ECF6",
                            "width": 0.5
                          },
                          "pattern": {
                            "fillmode": "overlay",
                            "size": 10,
                            "solidity": 0.2
                          }
                        },
                        "type": "barpolar"
                      }
                    ],
                    "carpet": [
                      {
                        "aaxis": {
                          "endlinecolor": "#2a3f5f",
                          "gridcolor": "white",
                          "linecolor": "white",
                          "minorgridcolor": "white",
                          "startlinecolor": "#2a3f5f"
                        },
                        "baxis": {
                          "endlinecolor": "#2a3f5f",
                          "gridcolor": "white",
                          "linecolor": "white",
                          "minorgridcolor": "white",
                          "startlinecolor": "#2a3f5f"
                        },
                        "type": "carpet"
                      }
                    ],
                    "choropleth": [
                      {
                        "colorbar": {
                          "outlinewidth": 0,
                          "ticks": ""
                        },
                        "type": "choropleth"
                      }
                    ],
                    "contour": [
                      {
                        "colorbar": {
                          "outlinewidth": 0,
                          "ticks": ""
                        },
                        "colorscale": [
                          [
                            0,
                            "#0d0887"
                          ],
                          [
                            0.1111111111111111,
                            "#46039f"
                          ],
                          [
                            0.2222222222222222,
                            "#7201a8"
                          ],
                          [
                            0.3333333333333333,
                            "#9c179e"
                          ],
                          [
                            0.4444444444444444,
                            "#bd3786"
                          ],
                          [
                            0.5555555555555556,
                            "#d8576b"
                          ],
                          [
                            0.6666666666666666,
                            "#ed7953"
                          ],
                          [
                            0.7777777777777778,
                            "#fb9f3a"
                          ],
                          [
                            0.8888888888888888,
                            "#fdca26"
                          ],
                          [
                            1,
                            "#f0f921"
                          ]
                        ],
                        "type": "contour"
                      }
                    ],
                    "contourcarpet": [
                      {
                        "colorbar": {
                          "outlinewidth": 0,
                          "ticks": ""
                        },
                        "type": "contourcarpet"
                      }
                    ],
                    "heatmap": [
                      {
                        "colorbar": {
                          "outlinewidth": 0,
                          "ticks": ""
                        },
                        "colorscale": [
                          [
                            0,
                            "#0d0887"
                          ],
                          [
                            0.1111111111111111,
                            "#46039f"
                          ],
                          [
                            0.2222222222222222,
                            "#7201a8"
                          ],
                          [
                            0.3333333333333333,
                            "#9c179e"
                          ],
                          [
                            0.4444444444444444,
                            "#bd3786"
                          ],
                          [
                            0.5555555555555556,
                            "#d8576b"
                          ],
                          [
                            0.6666666666666666,
                            "#ed7953"
                          ],
                          [
                            0.7777777777777778,
                            "#fb9f3a"
                          ],
                          [
                            0.8888888888888888,
                            "#fdca26"
                          ],
                          [
                            1,
                            "#f0f921"
                          ]
                        ],
                        "type": "heatmap"
                      }
                    ],
                    "histogram": [
                      {
                        "marker": {
                          "pattern": {
                            "fillmode": "overlay",
                            "size": 10,
                            "solidity": 0.2
                          }
                        },
                        "type": "histogram"
                      }
                    ],
                    "histogram2d": [
                      {
                        "colorbar": {
                          "outlinewidth": 0,
                          "ticks": ""
                        },
                        "colorscale": [
                          [
                            0,
                            "#0d0887"
                          ],
                          [
                            0.1111111111111111,
                            "#46039f"
                          ],
                          [
                            0.2222222222222222,
                            "#7201a8"
                          ],
                          [
                            0.3333333333333333,
                            "#9c179e"
                          ],
                          [
                            0.4444444444444444,
                            "#bd3786"
                          ],
                          [
                            0.5555555555555556,
                            "#d8576b"
                          ],
                          [
                            0.6666666666666666,
                            "#ed7953"
                          ],
                          [
                            0.7777777777777778,
                            "#fb9f3a"
                          ],
                          [
                            0.8888888888888888,
                            "#fdca26"
                          ],
                          [
                            1,
                            "#f0f921"
                          ]
                        ],
                        "type": "histogram2d"
                      }
                    ],
                    "histogram2dcontour": [
                      {
                        "colorbar": {
                          "outlinewidth": 0,
                          "ticks": ""
                        },
                        "colorscale": [
                          [
                            0,
                            "#0d0887"
                          ],
                          [
                            0.1111111111111111,
                            "#46039f"
                          ],
                          [
                            0.2222222222222222,
                            "#7201a8"
                          ],
                          [
                            0.3333333333333333,
                            "#9c179e"
                          ],
                          [
                            0.4444444444444444,
                            "#bd3786"
                          ],
                          [
                            0.5555555555555556,
                            "#d8576b"
                          ],
                          [
                            0.6666666666666666,
                            "#ed7953"
                          ],
                          [
                            0.7777777777777778,
                            "#fb9f3a"
                          ],
                          [
                            0.8888888888888888,
                            "#fdca26"
                          ],
                          [
                            1,
                            "#f0f921"
                          ]
                        ],
                        "type": "histogram2dcontour"
                      }
                    ],
                    "mesh3d": [
                      {
                        "colorbar": {
                          "outlinewidth": 0,
                          "ticks": ""
                        },
                        "type": "mesh3d"
                      }
                    ],
                    "parcoords": [
                      {
                        "line": {
                          "colorbar": {
                            "outlinewidth": 0,
                            "ticks": ""
                          }
                        },
                        "type": "parcoords"
                      }
                    ],
                    "pie": [
                      {
                        "automargin": true,
                        "type": "pie"
                      }
                    ],
                    "scatter": [
                      {
                        "fillpattern": {
                          "fillmode": "overlay",
                          "size": 10,
                          "solidity": 0.2
                        },
                        "type": "scatter"
                      }
                    ],
                    "scatter3d": [
                      {
                        "line": {
                          "colorbar": {
                            "outlinewidth": 0,
                            "ticks": ""
                          }
                        },
                        "marker": {
                          "colorbar": {
                            "outlinewidth": 0,
                            "ticks": ""
                          }
                        },
                        "type": "scatter3d"
                      }
                    ],
                    "scattercarpet": [
                      {
                        "marker": {
                          "colorbar": {
                            "outlinewidth": 0,
                            "ticks": ""
                          }
                        },
                        "type": "scattercarpet"
                      }
                    ],
                    "scattergeo": [
                      {
                        "marker": {
                          "colorbar": {
                            "outlinewidth": 0,
                            "ticks": ""
                          }
                        },
                        "type": "scattergeo"
                      }
                    ],
                    "scattergl": [
                      {
                        "marker": {
                          "colorbar": {
                            "outlinewidth": 0,
                            "ticks": ""
                          }
                        },
                        "type": "scattergl"
                      }
                    ],
                    "scattermap": [
                      {
                        "marker": {
                          "colorbar": {
                            "outlinewidth": 0,
                            "ticks": ""
                          }
                        },
                        "type": "scattermap"
                      }
                    ],
                    "scattermapbox": [
                      {
                        "marker": {
                          "colorbar": {
                            "outlinewidth": 0,
                            "ticks": ""
                          }
                        },
                        "type": "scattermapbox"
                      }
                    ],
                    "scatterpolar": [
                      {
                        "marker": {
                          "colorbar": {
                            "outlinewidth": 0,
                            "ticks": ""
                          }
                        },
                        "type": "scatterpolar"
                      }
                    ],
                    "scatterpolargl": [
                      {
                        "marker": {
                          "colorbar": {
                            "outlinewidth": 0,
                            "ticks": ""
                          }
                        },
                        "type": "scatterpolargl"
                      }
                    ],
                    "scatterternary": [
                      {
                        "marker": {
                          "colorbar": {
                            "outlinewidth": 0,
                            "ticks": ""
                          }
                        },
                        "type": "scatterternary"
                      }
                    ],
                    "surface": [
                      {
                        "colorbar": {
                          "outlinewidth": 0,
                          "ticks": ""
                        },
                        "colorscale": [
                          [
                            0,
                            "#0d0887"
                          ],
                          [
                            0.1111111111111111,
                            "#46039f"
                          ],
                          [
                            0.2222222222222222,
                            "#7201a8"
                          ],
                          [
                            0.3333333333333333,
                            "#9c179e"
                          ],
                          [
                            0.4444444444444444,
                            "#bd3786"
                          ],
                          [
                            0.5555555555555556,
                            "#d8576b"
                          ],
                          [
                            0.6666666666666666,
                            "#ed7953"
                          ],
                          [
                            0.7777777777777778,
                            "#fb9f3a"
                          ],
                          [
                            0.8888888888888888,
                            "#fdca26"
                          ],
                          [
                            1,
                            "#f0f921"
                          ]
                        ],
                        "type": "surface"
                      }
                    ],
                    "table": [
                      {
                        "cells": {
                          "fill": {
                            "color": "#EBF0F8"
                          },
                          "line": {
                            "color": "white"
                          }
                        },
                        "header": {
                          "fill": {
                            "color": "#C8D4E3"
                          },
                          "line": {
                            "color": "white"
                          }
                        },
                        "type": "table"
                      }
                    ]
                  },
                  "layout": {
                    "annotationdefaults": {
                      "arrowcolor": "#2a3f5f",
                      "arrowhead": 0,
                      "arrowwidth": 1
                    },
                    "autotypenumbers": "strict",
                    "coloraxis": {
                      "colorbar": {
                        "outlinewidth": 0,
                        "ticks": ""
                      }
                    },
                    "colorscale": {
                      "diverging": [
                        [
                          0,
                          "#8e0152"
                        ],
                        [
                          0.1,
                          "#c51b7d"
                        ],
                        [
                          0.2,
                          "#de77ae"
                        ],
                        [
                          0.3,
                          "#f1b6da"
                        ],
                        [
                          0.4,
                          "#fde0ef"
                        ],
                        [
                          0.5,
                          "#f7f7f7"
                        ],
                        [
                          0.6,
                          "#e6f5d0"
                        ],
                        [
                          0.7,
                          "#b8e186"
                        ],
                        [
                          0.8,
                          "#7fbc41"
                        ],
                        [
                          0.9,
                          "#4d9221"
                        ],
                        [
                          1,
                          "#276419"
                        ]
                      ],
                      "sequential": [
                        [
                          0,
                          "#0d0887"
                        ],
                        [
                          0.1111111111111111,
                          "#46039f"
                        ],
                        [
                          0.2222222222222222,
                          "#7201a8"
                        ],
                        [
                          0.3333333333333333,
                          "#9c179e"
                        ],
                        [
                          0.4444444444444444,
                          "#bd3786"
                        ],
                        [
                          0.5555555555555556,
                          "#d8576b"
                        ],
                        [
                          0.6666666666666666,
                          "#ed7953"
                        ],
                        [
                          0.7777777777777778,
                          "#fb9f3a"
                        ],
                        [
                          0.8888888888888888,
                          "#fdca26"
                        ],
                        [
                          1,
                          "#f0f921"
                        ]
                      ],
                      "sequentialminus": [
                        [
                          0,
                          "#0d0887"
                        ],
                        [
                          0.1111111111111111,
                          "#46039f"
                        ],
                        [
                          0.2222222222222222,
                          "#7201a8"
                        ],
                        [
                          0.3333333333333333,
                          "#9c179e"
                        ],
                        [
                          0.4444444444444444,
                          "#bd3786"
                        ],
                        [
                          0.5555555555555556,
                          "#d8576b"
                        ],
                        [
                          0.6666666666666666,
                          "#ed7953"
                        ],
                        [
                          0.7777777777777778,
                          "#fb9f3a"
                        ],
                        [
                          0.8888888888888888,
                          "#fdca26"
                        ],
                        [
                          1,
                          "#f0f921"
                        ]
                      ]
                    },
                    "colorway": [
                      "#636efa",
                      "#EF553B",
                      "#00cc96",
                      "#ab63fa",
                      "#FFA15A",
                      "#19d3f3",
                      "#FF6692",
                      "#B6E880",
                      "#FF97FF",
                      "#FECB52"
                    ],
                    "font": {
                      "color": "#2a3f5f"
                    },
                    "geo": {
                      "bgcolor": "white",
                      "lakecolor": "white",
                      "landcolor": "#E5ECF6",
                      "showlakes": true,
                      "showland": true,
                      "subunitcolor": "white"
                    },
                    "hoverlabel": {
                      "align": "left"
                    },
                    "hovermode": "closest",
                    "mapbox": {
                      "style": "light"
                    },
                    "paper_bgcolor": "white",
                    "plot_bgcolor": "#E5ECF6",
                    "polar": {
                      "angularaxis": {
                        "gridcolor": "white",
                        "linecolor": "white",
                        "ticks": ""
                      },
                      "bgcolor": "#E5ECF6",
                      "radialaxis": {
                        "gridcolor": "white",
                        "linecolor": "white",
                        "ticks": ""
                      }
                    },
                    "scene": {
                      "xaxis": {
                        "backgroundcolor": "#E5ECF6",
                        "gridcolor": "white",
                        "gridwidth": 2,
                        "linecolor": "white",
                        "showbackground": true,
                        "ticks": "",
                        "zerolinecolor": "white"
                      },
                      "yaxis": {
                        "backgroundcolor": "#E5ECF6",
                        "gridcolor": "white",
                        "gridwidth": 2,
                        "linecolor": "white",
                        "showbackground": true,
                        "ticks": "",
                        "zerolinecolor": "white"
                      },
                      "zaxis": {
                        "backgroundcolor": "#E5ECF6",
                        "gridcolor": "white",
                        "gridwidth": 2,
                        "linecolor": "white",
                        "showbackground": true,
                        "ticks": "",
                        "zerolinecolor": "white"
                      }
                    },
                    "shapedefaults": {
                      "line": {
                        "color": "#2a3f5f"
                      }
                    },
                    "ternary": {
                      "aaxis": {
                        "gridcolor": "white",
                        "linecolor": "white",
                        "ticks": ""
                      },
                      "baxis": {
                        "gridcolor": "white",
                        "linecolor": "white",
                        "ticks": ""
                      },
                      "bgcolor": "#E5ECF6",
                      "caxis": {
                        "gridcolor": "white",
                        "linecolor": "white",
                        "ticks": ""
                      }
                    },
                    "title": {
                      "x": 0.05
                    },
                    "xaxis": {
                      "automargin": true,
                      "gridcolor": "white",
                      "linecolor": "white",
                      "ticks": "",
                      "title": {
                        "standoff": 15
                      },
                      "zerolinecolor": "white",
                      "zerolinewidth": 2
                    },
                    "yaxis": {
                      "automargin": true,
                      "gridcolor": "white",
                      "linecolor": "white",
                      "ticks": "",
                      "title": {
                        "standoff": 15
                      },
                      "zerolinecolor": "white",
                      "zerolinewidth": 2
                    }
                  }
                },
                "title": {
                  "text": "Number of Launch by Country"
                }
              }
            }
          },
          "metadata": {},
          "output_type": "display_data"
        },
        {
          "data": {
            "text/plain": [
              "<Figure size 1200x800 with 0 Axes>"
            ]
          },
          "metadata": {},
          "output_type": "display_data"
        }
      ],
      "source": [
        "plt.figure(figsize=(12,8))\n",
        "\n",
        "fig = px.choropleth(\n",
        "    data_frame=country_launch_times,\n",
        "    locations=\"Country\",\n",
        "    color=\"Launch_Count\",\n",
        "    color_continuous_scale=px.colors.sequential.matter,\n",
        "    title=\"Number of Launch by Country\"\n",
        ")\n",
        "\n",
        "fig.show()"
      ]
    },
    {
      "cell_type": "markdown",
      "metadata": {
        "id": "F3pwYSUlo_AK"
      },
      "source": [
        "# Use a Choropleth Map to Show the Number of Failures by Country\n"
      ]
    },
    {
      "cell_type": "code",
      "execution_count": 23,
      "metadata": {
        "id": "8BH4ICtro9I0"
      },
      "outputs": [
        {
          "data": {
            "application/vnd.microsoft.datawrangler.viewer.v0+json": {
              "columns": [
                {
                  "name": "index",
                  "rawType": "int64",
                  "type": "integer"
                },
                {
                  "name": "Country",
                  "rawType": "object",
                  "type": "string"
                },
                {
                  "name": "Failure_Launch",
                  "rawType": "int64",
                  "type": "integer"
                }
              ],
              "conversionMethod": "pd.DataFrame",
              "ref": "15754654-6c09-488c-b0f9-7f12b2bb9512",
              "rows": [
                [
                  "0",
                  "AUS",
                  "3"
                ],
                [
                  "1",
                  "BRA",
                  "3"
                ],
                [
                  "2",
                  "CHN",
                  "25"
                ],
                [
                  "3",
                  "FRA",
                  "18"
                ],
                [
                  "4",
                  "IND",
                  "13"
                ],
                [
                  "5",
                  "ISR",
                  "2"
                ],
                [
                  "6",
                  "JPN",
                  "13"
                ],
                [
                  "7",
                  "KAZ",
                  "93"
                ],
                [
                  "8",
                  "NZL",
                  "2"
                ],
                [
                  "9",
                  "RUS",
                  "93"
                ],
                [
                  "10",
                  "USA",
                  "163"
                ]
              ],
              "shape": {
                "columns": 2,
                "rows": 11
              }
            },
            "text/html": [
              "<div>\n",
              "<style scoped>\n",
              "    .dataframe tbody tr th:only-of-type {\n",
              "        vertical-align: middle;\n",
              "    }\n",
              "\n",
              "    .dataframe tbody tr th {\n",
              "        vertical-align: top;\n",
              "    }\n",
              "\n",
              "    .dataframe thead th {\n",
              "        text-align: right;\n",
              "    }\n",
              "</style>\n",
              "<table border=\"1\" class=\"dataframe\">\n",
              "  <thead>\n",
              "    <tr style=\"text-align: right;\">\n",
              "      <th></th>\n",
              "      <th>Country</th>\n",
              "      <th>Failure_Launch</th>\n",
              "    </tr>\n",
              "  </thead>\n",
              "  <tbody>\n",
              "    <tr>\n",
              "      <th>0</th>\n",
              "      <td>AUS</td>\n",
              "      <td>3</td>\n",
              "    </tr>\n",
              "    <tr>\n",
              "      <th>1</th>\n",
              "      <td>BRA</td>\n",
              "      <td>3</td>\n",
              "    </tr>\n",
              "    <tr>\n",
              "      <th>2</th>\n",
              "      <td>CHN</td>\n",
              "      <td>25</td>\n",
              "    </tr>\n",
              "    <tr>\n",
              "      <th>3</th>\n",
              "      <td>FRA</td>\n",
              "      <td>18</td>\n",
              "    </tr>\n",
              "    <tr>\n",
              "      <th>4</th>\n",
              "      <td>IND</td>\n",
              "      <td>13</td>\n",
              "    </tr>\n",
              "    <tr>\n",
              "      <th>5</th>\n",
              "      <td>ISR</td>\n",
              "      <td>2</td>\n",
              "    </tr>\n",
              "    <tr>\n",
              "      <th>6</th>\n",
              "      <td>JPN</td>\n",
              "      <td>13</td>\n",
              "    </tr>\n",
              "    <tr>\n",
              "      <th>7</th>\n",
              "      <td>KAZ</td>\n",
              "      <td>93</td>\n",
              "    </tr>\n",
              "    <tr>\n",
              "      <th>8</th>\n",
              "      <td>NZL</td>\n",
              "      <td>2</td>\n",
              "    </tr>\n",
              "    <tr>\n",
              "      <th>9</th>\n",
              "      <td>RUS</td>\n",
              "      <td>93</td>\n",
              "    </tr>\n",
              "    <tr>\n",
              "      <th>10</th>\n",
              "      <td>USA</td>\n",
              "      <td>163</td>\n",
              "    </tr>\n",
              "  </tbody>\n",
              "</table>\n",
              "</div>"
            ],
            "text/plain": [
              "   Country  Failure_Launch\n",
              "0      AUS               3\n",
              "1      BRA               3\n",
              "2      CHN              25\n",
              "3      FRA              18\n",
              "4      IND              13\n",
              "5      ISR               2\n",
              "6      JPN              13\n",
              "7      KAZ              93\n",
              "8      NZL               2\n",
              "9      RUS              93\n",
              "10     USA             163"
            ]
          },
          "execution_count": 23,
          "metadata": {},
          "output_type": "execute_result"
        }
      ],
      "source": [
        "failure_mission = df_data[df_data.Mission_Status != \"Success\"]\n",
        "country_failure = failure_mission.groupby(\"ISO\", as_index=False).agg({\"Mission_Status\": pd.Series.count})\n",
        "country_failure.columns = [\"Country\", \"Failure_Launch\"]\n",
        "country_failure"
      ]
    },
    {
      "cell_type": "code",
      "execution_count": 24,
      "metadata": {
        "id": "sfw-q7Obo9GM"
      },
      "outputs": [
        {
          "data": {
            "application/vnd.plotly.v1+json": {
              "config": {
                "plotlyServerURL": "https://plot.ly"
              },
              "data": [
                {
                  "coloraxis": "coloraxis",
                  "geo": "geo",
                  "hovertemplate": "Country=%{location}<br>Failure_Launch=%{z}<extra></extra>",
                  "locations": [
                    "AUS",
                    "BRA",
                    "CHN",
                    "FRA",
                    "IND",
                    "ISR",
                    "JPN",
                    "KAZ",
                    "NZL",
                    "RUS",
                    "USA"
                  ],
                  "name": "",
                  "type": "choropleth",
                  "z": {
                    "bdata": "AwADABkAEgANAAIADQBdAAIAXQCjAA==",
                    "dtype": "i2"
                  }
                }
              ],
              "layout": {
                "coloraxis": {
                  "colorbar": {
                    "title": {
                      "text": "Failure_Launch"
                    }
                  },
                  "colorscale": [
                    [
                      0,
                      "rgb(253, 237, 176)"
                    ],
                    [
                      0.09090909090909091,
                      "rgb(250, 205, 145)"
                    ],
                    [
                      0.18181818181818182,
                      "rgb(246, 173, 119)"
                    ],
                    [
                      0.2727272727272727,
                      "rgb(240, 142, 98)"
                    ],
                    [
                      0.36363636363636365,
                      "rgb(231, 109, 84)"
                    ],
                    [
                      0.45454545454545453,
                      "rgb(216, 80, 83)"
                    ],
                    [
                      0.5454545454545454,
                      "rgb(195, 56, 90)"
                    ],
                    [
                      0.6363636363636364,
                      "rgb(168, 40, 96)"
                    ],
                    [
                      0.7272727272727273,
                      "rgb(138, 29, 99)"
                    ],
                    [
                      0.8181818181818182,
                      "rgb(107, 24, 93)"
                    ],
                    [
                      0.9090909090909091,
                      "rgb(76, 21, 80)"
                    ],
                    [
                      1,
                      "rgb(47, 15, 61)"
                    ]
                  ]
                },
                "geo": {
                  "center": {},
                  "domain": {
                    "x": [
                      0,
                      1
                    ],
                    "y": [
                      0,
                      1
                    ]
                  }
                },
                "legend": {
                  "tracegroupgap": 0
                },
                "template": {
                  "data": {
                    "bar": [
                      {
                        "error_x": {
                          "color": "#2a3f5f"
                        },
                        "error_y": {
                          "color": "#2a3f5f"
                        },
                        "marker": {
                          "line": {
                            "color": "#E5ECF6",
                            "width": 0.5
                          },
                          "pattern": {
                            "fillmode": "overlay",
                            "size": 10,
                            "solidity": 0.2
                          }
                        },
                        "type": "bar"
                      }
                    ],
                    "barpolar": [
                      {
                        "marker": {
                          "line": {
                            "color": "#E5ECF6",
                            "width": 0.5
                          },
                          "pattern": {
                            "fillmode": "overlay",
                            "size": 10,
                            "solidity": 0.2
                          }
                        },
                        "type": "barpolar"
                      }
                    ],
                    "carpet": [
                      {
                        "aaxis": {
                          "endlinecolor": "#2a3f5f",
                          "gridcolor": "white",
                          "linecolor": "white",
                          "minorgridcolor": "white",
                          "startlinecolor": "#2a3f5f"
                        },
                        "baxis": {
                          "endlinecolor": "#2a3f5f",
                          "gridcolor": "white",
                          "linecolor": "white",
                          "minorgridcolor": "white",
                          "startlinecolor": "#2a3f5f"
                        },
                        "type": "carpet"
                      }
                    ],
                    "choropleth": [
                      {
                        "colorbar": {
                          "outlinewidth": 0,
                          "ticks": ""
                        },
                        "type": "choropleth"
                      }
                    ],
                    "contour": [
                      {
                        "colorbar": {
                          "outlinewidth": 0,
                          "ticks": ""
                        },
                        "colorscale": [
                          [
                            0,
                            "#0d0887"
                          ],
                          [
                            0.1111111111111111,
                            "#46039f"
                          ],
                          [
                            0.2222222222222222,
                            "#7201a8"
                          ],
                          [
                            0.3333333333333333,
                            "#9c179e"
                          ],
                          [
                            0.4444444444444444,
                            "#bd3786"
                          ],
                          [
                            0.5555555555555556,
                            "#d8576b"
                          ],
                          [
                            0.6666666666666666,
                            "#ed7953"
                          ],
                          [
                            0.7777777777777778,
                            "#fb9f3a"
                          ],
                          [
                            0.8888888888888888,
                            "#fdca26"
                          ],
                          [
                            1,
                            "#f0f921"
                          ]
                        ],
                        "type": "contour"
                      }
                    ],
                    "contourcarpet": [
                      {
                        "colorbar": {
                          "outlinewidth": 0,
                          "ticks": ""
                        },
                        "type": "contourcarpet"
                      }
                    ],
                    "heatmap": [
                      {
                        "colorbar": {
                          "outlinewidth": 0,
                          "ticks": ""
                        },
                        "colorscale": [
                          [
                            0,
                            "#0d0887"
                          ],
                          [
                            0.1111111111111111,
                            "#46039f"
                          ],
                          [
                            0.2222222222222222,
                            "#7201a8"
                          ],
                          [
                            0.3333333333333333,
                            "#9c179e"
                          ],
                          [
                            0.4444444444444444,
                            "#bd3786"
                          ],
                          [
                            0.5555555555555556,
                            "#d8576b"
                          ],
                          [
                            0.6666666666666666,
                            "#ed7953"
                          ],
                          [
                            0.7777777777777778,
                            "#fb9f3a"
                          ],
                          [
                            0.8888888888888888,
                            "#fdca26"
                          ],
                          [
                            1,
                            "#f0f921"
                          ]
                        ],
                        "type": "heatmap"
                      }
                    ],
                    "histogram": [
                      {
                        "marker": {
                          "pattern": {
                            "fillmode": "overlay",
                            "size": 10,
                            "solidity": 0.2
                          }
                        },
                        "type": "histogram"
                      }
                    ],
                    "histogram2d": [
                      {
                        "colorbar": {
                          "outlinewidth": 0,
                          "ticks": ""
                        },
                        "colorscale": [
                          [
                            0,
                            "#0d0887"
                          ],
                          [
                            0.1111111111111111,
                            "#46039f"
                          ],
                          [
                            0.2222222222222222,
                            "#7201a8"
                          ],
                          [
                            0.3333333333333333,
                            "#9c179e"
                          ],
                          [
                            0.4444444444444444,
                            "#bd3786"
                          ],
                          [
                            0.5555555555555556,
                            "#d8576b"
                          ],
                          [
                            0.6666666666666666,
                            "#ed7953"
                          ],
                          [
                            0.7777777777777778,
                            "#fb9f3a"
                          ],
                          [
                            0.8888888888888888,
                            "#fdca26"
                          ],
                          [
                            1,
                            "#f0f921"
                          ]
                        ],
                        "type": "histogram2d"
                      }
                    ],
                    "histogram2dcontour": [
                      {
                        "colorbar": {
                          "outlinewidth": 0,
                          "ticks": ""
                        },
                        "colorscale": [
                          [
                            0,
                            "#0d0887"
                          ],
                          [
                            0.1111111111111111,
                            "#46039f"
                          ],
                          [
                            0.2222222222222222,
                            "#7201a8"
                          ],
                          [
                            0.3333333333333333,
                            "#9c179e"
                          ],
                          [
                            0.4444444444444444,
                            "#bd3786"
                          ],
                          [
                            0.5555555555555556,
                            "#d8576b"
                          ],
                          [
                            0.6666666666666666,
                            "#ed7953"
                          ],
                          [
                            0.7777777777777778,
                            "#fb9f3a"
                          ],
                          [
                            0.8888888888888888,
                            "#fdca26"
                          ],
                          [
                            1,
                            "#f0f921"
                          ]
                        ],
                        "type": "histogram2dcontour"
                      }
                    ],
                    "mesh3d": [
                      {
                        "colorbar": {
                          "outlinewidth": 0,
                          "ticks": ""
                        },
                        "type": "mesh3d"
                      }
                    ],
                    "parcoords": [
                      {
                        "line": {
                          "colorbar": {
                            "outlinewidth": 0,
                            "ticks": ""
                          }
                        },
                        "type": "parcoords"
                      }
                    ],
                    "pie": [
                      {
                        "automargin": true,
                        "type": "pie"
                      }
                    ],
                    "scatter": [
                      {
                        "fillpattern": {
                          "fillmode": "overlay",
                          "size": 10,
                          "solidity": 0.2
                        },
                        "type": "scatter"
                      }
                    ],
                    "scatter3d": [
                      {
                        "line": {
                          "colorbar": {
                            "outlinewidth": 0,
                            "ticks": ""
                          }
                        },
                        "marker": {
                          "colorbar": {
                            "outlinewidth": 0,
                            "ticks": ""
                          }
                        },
                        "type": "scatter3d"
                      }
                    ],
                    "scattercarpet": [
                      {
                        "marker": {
                          "colorbar": {
                            "outlinewidth": 0,
                            "ticks": ""
                          }
                        },
                        "type": "scattercarpet"
                      }
                    ],
                    "scattergeo": [
                      {
                        "marker": {
                          "colorbar": {
                            "outlinewidth": 0,
                            "ticks": ""
                          }
                        },
                        "type": "scattergeo"
                      }
                    ],
                    "scattergl": [
                      {
                        "marker": {
                          "colorbar": {
                            "outlinewidth": 0,
                            "ticks": ""
                          }
                        },
                        "type": "scattergl"
                      }
                    ],
                    "scattermap": [
                      {
                        "marker": {
                          "colorbar": {
                            "outlinewidth": 0,
                            "ticks": ""
                          }
                        },
                        "type": "scattermap"
                      }
                    ],
                    "scattermapbox": [
                      {
                        "marker": {
                          "colorbar": {
                            "outlinewidth": 0,
                            "ticks": ""
                          }
                        },
                        "type": "scattermapbox"
                      }
                    ],
                    "scatterpolar": [
                      {
                        "marker": {
                          "colorbar": {
                            "outlinewidth": 0,
                            "ticks": ""
                          }
                        },
                        "type": "scatterpolar"
                      }
                    ],
                    "scatterpolargl": [
                      {
                        "marker": {
                          "colorbar": {
                            "outlinewidth": 0,
                            "ticks": ""
                          }
                        },
                        "type": "scatterpolargl"
                      }
                    ],
                    "scatterternary": [
                      {
                        "marker": {
                          "colorbar": {
                            "outlinewidth": 0,
                            "ticks": ""
                          }
                        },
                        "type": "scatterternary"
                      }
                    ],
                    "surface": [
                      {
                        "colorbar": {
                          "outlinewidth": 0,
                          "ticks": ""
                        },
                        "colorscale": [
                          [
                            0,
                            "#0d0887"
                          ],
                          [
                            0.1111111111111111,
                            "#46039f"
                          ],
                          [
                            0.2222222222222222,
                            "#7201a8"
                          ],
                          [
                            0.3333333333333333,
                            "#9c179e"
                          ],
                          [
                            0.4444444444444444,
                            "#bd3786"
                          ],
                          [
                            0.5555555555555556,
                            "#d8576b"
                          ],
                          [
                            0.6666666666666666,
                            "#ed7953"
                          ],
                          [
                            0.7777777777777778,
                            "#fb9f3a"
                          ],
                          [
                            0.8888888888888888,
                            "#fdca26"
                          ],
                          [
                            1,
                            "#f0f921"
                          ]
                        ],
                        "type": "surface"
                      }
                    ],
                    "table": [
                      {
                        "cells": {
                          "fill": {
                            "color": "#EBF0F8"
                          },
                          "line": {
                            "color": "white"
                          }
                        },
                        "header": {
                          "fill": {
                            "color": "#C8D4E3"
                          },
                          "line": {
                            "color": "white"
                          }
                        },
                        "type": "table"
                      }
                    ]
                  },
                  "layout": {
                    "annotationdefaults": {
                      "arrowcolor": "#2a3f5f",
                      "arrowhead": 0,
                      "arrowwidth": 1
                    },
                    "autotypenumbers": "strict",
                    "coloraxis": {
                      "colorbar": {
                        "outlinewidth": 0,
                        "ticks": ""
                      }
                    },
                    "colorscale": {
                      "diverging": [
                        [
                          0,
                          "#8e0152"
                        ],
                        [
                          0.1,
                          "#c51b7d"
                        ],
                        [
                          0.2,
                          "#de77ae"
                        ],
                        [
                          0.3,
                          "#f1b6da"
                        ],
                        [
                          0.4,
                          "#fde0ef"
                        ],
                        [
                          0.5,
                          "#f7f7f7"
                        ],
                        [
                          0.6,
                          "#e6f5d0"
                        ],
                        [
                          0.7,
                          "#b8e186"
                        ],
                        [
                          0.8,
                          "#7fbc41"
                        ],
                        [
                          0.9,
                          "#4d9221"
                        ],
                        [
                          1,
                          "#276419"
                        ]
                      ],
                      "sequential": [
                        [
                          0,
                          "#0d0887"
                        ],
                        [
                          0.1111111111111111,
                          "#46039f"
                        ],
                        [
                          0.2222222222222222,
                          "#7201a8"
                        ],
                        [
                          0.3333333333333333,
                          "#9c179e"
                        ],
                        [
                          0.4444444444444444,
                          "#bd3786"
                        ],
                        [
                          0.5555555555555556,
                          "#d8576b"
                        ],
                        [
                          0.6666666666666666,
                          "#ed7953"
                        ],
                        [
                          0.7777777777777778,
                          "#fb9f3a"
                        ],
                        [
                          0.8888888888888888,
                          "#fdca26"
                        ],
                        [
                          1,
                          "#f0f921"
                        ]
                      ],
                      "sequentialminus": [
                        [
                          0,
                          "#0d0887"
                        ],
                        [
                          0.1111111111111111,
                          "#46039f"
                        ],
                        [
                          0.2222222222222222,
                          "#7201a8"
                        ],
                        [
                          0.3333333333333333,
                          "#9c179e"
                        ],
                        [
                          0.4444444444444444,
                          "#bd3786"
                        ],
                        [
                          0.5555555555555556,
                          "#d8576b"
                        ],
                        [
                          0.6666666666666666,
                          "#ed7953"
                        ],
                        [
                          0.7777777777777778,
                          "#fb9f3a"
                        ],
                        [
                          0.8888888888888888,
                          "#fdca26"
                        ],
                        [
                          1,
                          "#f0f921"
                        ]
                      ]
                    },
                    "colorway": [
                      "#636efa",
                      "#EF553B",
                      "#00cc96",
                      "#ab63fa",
                      "#FFA15A",
                      "#19d3f3",
                      "#FF6692",
                      "#B6E880",
                      "#FF97FF",
                      "#FECB52"
                    ],
                    "font": {
                      "color": "#2a3f5f"
                    },
                    "geo": {
                      "bgcolor": "white",
                      "lakecolor": "white",
                      "landcolor": "#E5ECF6",
                      "showlakes": true,
                      "showland": true,
                      "subunitcolor": "white"
                    },
                    "hoverlabel": {
                      "align": "left"
                    },
                    "hovermode": "closest",
                    "mapbox": {
                      "style": "light"
                    },
                    "paper_bgcolor": "white",
                    "plot_bgcolor": "#E5ECF6",
                    "polar": {
                      "angularaxis": {
                        "gridcolor": "white",
                        "linecolor": "white",
                        "ticks": ""
                      },
                      "bgcolor": "#E5ECF6",
                      "radialaxis": {
                        "gridcolor": "white",
                        "linecolor": "white",
                        "ticks": ""
                      }
                    },
                    "scene": {
                      "xaxis": {
                        "backgroundcolor": "#E5ECF6",
                        "gridcolor": "white",
                        "gridwidth": 2,
                        "linecolor": "white",
                        "showbackground": true,
                        "ticks": "",
                        "zerolinecolor": "white"
                      },
                      "yaxis": {
                        "backgroundcolor": "#E5ECF6",
                        "gridcolor": "white",
                        "gridwidth": 2,
                        "linecolor": "white",
                        "showbackground": true,
                        "ticks": "",
                        "zerolinecolor": "white"
                      },
                      "zaxis": {
                        "backgroundcolor": "#E5ECF6",
                        "gridcolor": "white",
                        "gridwidth": 2,
                        "linecolor": "white",
                        "showbackground": true,
                        "ticks": "",
                        "zerolinecolor": "white"
                      }
                    },
                    "shapedefaults": {
                      "line": {
                        "color": "#2a3f5f"
                      }
                    },
                    "ternary": {
                      "aaxis": {
                        "gridcolor": "white",
                        "linecolor": "white",
                        "ticks": ""
                      },
                      "baxis": {
                        "gridcolor": "white",
                        "linecolor": "white",
                        "ticks": ""
                      },
                      "bgcolor": "#E5ECF6",
                      "caxis": {
                        "gridcolor": "white",
                        "linecolor": "white",
                        "ticks": ""
                      }
                    },
                    "title": {
                      "x": 0.05
                    },
                    "xaxis": {
                      "automargin": true,
                      "gridcolor": "white",
                      "linecolor": "white",
                      "ticks": "",
                      "title": {
                        "standoff": 15
                      },
                      "zerolinecolor": "white",
                      "zerolinewidth": 2
                    },
                    "yaxis": {
                      "automargin": true,
                      "gridcolor": "white",
                      "linecolor": "white",
                      "ticks": "",
                      "title": {
                        "standoff": 15
                      },
                      "zerolinecolor": "white",
                      "zerolinewidth": 2
                    }
                  }
                },
                "title": {
                  "text": "Number of Failure Launch by Country"
                }
              }
            }
          },
          "metadata": {},
          "output_type": "display_data"
        },
        {
          "data": {
            "text/plain": [
              "<Figure size 1200x800 with 0 Axes>"
            ]
          },
          "metadata": {},
          "output_type": "display_data"
        }
      ],
      "source": [
        "plt.figure(figsize=(12,8))\n",
        "\n",
        "fig = px.choropleth(\n",
        "    data_frame=country_failure,\n",
        "    locations=\"Country\",\n",
        "    color=\"Failure_Launch\",\n",
        "    color_continuous_scale=px.colors.sequential.matter,\n",
        "    title=\"Number of Failure Launch by Country\"\n",
        ")\n",
        "\n",
        "fig.show()"
      ]
    },
    {
      "cell_type": "markdown",
      "metadata": {
        "id": "9LqcqSrKa-qN",
        "papermill": {
          "duration": 0.039343,
          "end_time": "2020-10-20T21:34:06.591694",
          "exception": false,
          "start_time": "2020-10-20T21:34:06.552351",
          "status": "completed"
        },
        "tags": []
      },
      "source": [
        "# Create a Plotly Sunburst Chart of the countries, organisations, and mission status. "
      ]
    },
    {
      "cell_type": "code",
      "execution_count": 25,
      "metadata": {
        "id": "MwUfpoByo3_J"
      },
      "outputs": [
        {
          "data": {
            "application/vnd.plotly.v1+json": {
              "config": {
                "plotlyServerURL": "https://plot.ly"
              },
              "data": [
                {
                  "branchvalues": "total",
                  "customdata": [
                    [
                      "(?)"
                    ],
                    [
                      "(?)"
                    ],
                    [
                      "(?)"
                    ],
                    [
                      "(?)"
                    ],
                    [
                      "(?)"
                    ],
                    [
                      "(?)"
                    ],
                    [
                      "(?)"
                    ],
                    [
                      "(?)"
                    ],
                    [
                      "(?)"
                    ],
                    [
                      "(?)"
                    ],
                    [
                      "(?)"
                    ],
                    [
                      "(?)"
                    ],
                    [
                      "(?)"
                    ],
                    [
                      "(?)"
                    ],
                    [
                      "(?)"
                    ],
                    [
                      "(?)"
                    ],
                    [
                      "(?)"
                    ],
                    [
                      "(?)"
                    ],
                    [
                      "(?)"
                    ],
                    [
                      "(?)"
                    ],
                    [
                      "(?)"
                    ],
                    [
                      "(?)"
                    ],
                    [
                      "(?)"
                    ],
                    [
                      "(?)"
                    ],
                    [
                      "(?)"
                    ],
                    [
                      "(?)"
                    ],
                    [
                      "(?)"
                    ],
                    [
                      "(?)"
                    ],
                    [
                      "(?)"
                    ],
                    [
                      "(?)"
                    ],
                    [
                      "(?)"
                    ],
                    [
                      "(?)"
                    ],
                    [
                      "(?)"
                    ],
                    [
                      "(?)"
                    ],
                    [
                      "(?)"
                    ],
                    [
                      "(?)"
                    ],
                    [
                      "(?)"
                    ],
                    [
                      "(?)"
                    ],
                    [
                      "(?)"
                    ],
                    [
                      "(?)"
                    ],
                    [
                      "(?)"
                    ],
                    [
                      "(?)"
                    ],
                    [
                      "(?)"
                    ],
                    [
                      "(?)"
                    ],
                    [
                      "(?)"
                    ],
                    [
                      "(?)"
                    ],
                    [
                      "(?)"
                    ],
                    [
                      "(?)"
                    ],
                    [
                      "(?)"
                    ],
                    [
                      "(?)"
                    ],
                    [
                      "(?)"
                    ],
                    [
                      "(?)"
                    ],
                    [
                      "(?)"
                    ],
                    [
                      "(?)"
                    ],
                    [
                      "(?)"
                    ],
                    [
                      "(?)"
                    ],
                    [
                      "(?)"
                    ],
                    [
                      "(?)"
                    ],
                    [
                      "(?)"
                    ],
                    [
                      "(?)"
                    ],
                    [
                      "Failure"
                    ],
                    [
                      "Failure"
                    ],
                    [
                      "Failure"
                    ],
                    [
                      "Failure"
                    ],
                    [
                      "Failure"
                    ],
                    [
                      "Failure"
                    ],
                    [
                      "Failure"
                    ],
                    [
                      "Failure"
                    ],
                    [
                      "Failure"
                    ],
                    [
                      "Failure"
                    ],
                    [
                      "Failure"
                    ],
                    [
                      "Failure"
                    ],
                    [
                      "Failure"
                    ],
                    [
                      "Failure"
                    ],
                    [
                      "Failure"
                    ],
                    [
                      "Failure"
                    ],
                    [
                      "Failure"
                    ],
                    [
                      "Failure"
                    ],
                    [
                      "Failure"
                    ],
                    [
                      "Failure"
                    ],
                    [
                      "Failure"
                    ],
                    [
                      "Failure"
                    ],
                    [
                      "Failure"
                    ],
                    [
                      "Failure"
                    ],
                    [
                      "Failure"
                    ],
                    [
                      "Failure"
                    ],
                    [
                      "Failure"
                    ],
                    [
                      "Failure"
                    ],
                    [
                      "Failure"
                    ],
                    [
                      "Failure"
                    ],
                    [
                      "Failure"
                    ],
                    [
                      "Failure"
                    ],
                    [
                      "Failure"
                    ],
                    [
                      "Failure"
                    ],
                    [
                      "Failure"
                    ],
                    [
                      "Failure"
                    ],
                    [
                      "Failure"
                    ],
                    [
                      "Failure"
                    ],
                    [
                      "Failure"
                    ],
                    [
                      "Failure"
                    ],
                    [
                      "Failure"
                    ],
                    [
                      "Failure"
                    ],
                    [
                      "Failure"
                    ],
                    [
                      "Failure"
                    ],
                    [
                      "Failure"
                    ],
                    [
                      "Failure"
                    ],
                    [
                      "Failure"
                    ],
                    [
                      "Failure"
                    ],
                    [
                      "Failure"
                    ],
                    [
                      "Failure"
                    ],
                    [
                      "Failure"
                    ],
                    [
                      "Failure"
                    ],
                    [
                      "Failure"
                    ],
                    [
                      "Partial Failure"
                    ],
                    [
                      "Partial Failure"
                    ],
                    [
                      "Partial Failure"
                    ],
                    [
                      "Partial Failure"
                    ],
                    [
                      "Partial Failure"
                    ],
                    [
                      "Partial Failure"
                    ],
                    [
                      "Partial Failure"
                    ],
                    [
                      "Partial Failure"
                    ],
                    [
                      "Partial Failure"
                    ],
                    [
                      "Partial Failure"
                    ],
                    [
                      "Partial Failure"
                    ],
                    [
                      "Partial Failure"
                    ],
                    [
                      "Partial Failure"
                    ],
                    [
                      "Partial Failure"
                    ],
                    [
                      "Partial Failure"
                    ],
                    [
                      "Partial Failure"
                    ],
                    [
                      "Partial Failure"
                    ],
                    [
                      "Partial Failure"
                    ],
                    [
                      "Partial Failure"
                    ],
                    [
                      "Partial Failure"
                    ],
                    [
                      "Partial Failure"
                    ],
                    [
                      "Partial Failure"
                    ],
                    [
                      "Partial Failure"
                    ],
                    [
                      "Partial Failure"
                    ],
                    [
                      "Prelaunch Failure"
                    ],
                    [
                      "Prelaunch Failure"
                    ],
                    [
                      "Prelaunch Failure"
                    ],
                    [
                      "Prelaunch Failure"
                    ],
                    [
                      "Success"
                    ],
                    [
                      "Success"
                    ],
                    [
                      "Success"
                    ],
                    [
                      "Success"
                    ],
                    [
                      "Success"
                    ],
                    [
                      "Success"
                    ],
                    [
                      "Success"
                    ],
                    [
                      "Success"
                    ],
                    [
                      "Success"
                    ],
                    [
                      "Success"
                    ],
                    [
                      "Success"
                    ],
                    [
                      "Success"
                    ],
                    [
                      "Success"
                    ],
                    [
                      "Success"
                    ],
                    [
                      "Success"
                    ],
                    [
                      "Success"
                    ],
                    [
                      "Success"
                    ],
                    [
                      "Success"
                    ],
                    [
                      "Success"
                    ],
                    [
                      "Success"
                    ],
                    [
                      "Success"
                    ],
                    [
                      "Success"
                    ],
                    [
                      "Success"
                    ],
                    [
                      "Success"
                    ],
                    [
                      "Success"
                    ],
                    [
                      "Success"
                    ],
                    [
                      "Success"
                    ],
                    [
                      "Success"
                    ],
                    [
                      "Success"
                    ],
                    [
                      "Success"
                    ],
                    [
                      "Success"
                    ],
                    [
                      "Success"
                    ],
                    [
                      "Success"
                    ],
                    [
                      "Success"
                    ],
                    [
                      "Success"
                    ],
                    [
                      "Success"
                    ],
                    [
                      "Success"
                    ],
                    [
                      "Success"
                    ],
                    [
                      "Success"
                    ],
                    [
                      "Success"
                    ],
                    [
                      "Success"
                    ],
                    [
                      "Success"
                    ],
                    [
                      "Success"
                    ],
                    [
                      "Success"
                    ],
                    [
                      "Success"
                    ],
                    [
                      "Success"
                    ],
                    [
                      "Success"
                    ],
                    [
                      "Success"
                    ],
                    [
                      "Success"
                    ],
                    [
                      "Success"
                    ],
                    [
                      "Success"
                    ],
                    [
                      "Success"
                    ],
                    [
                      "Success"
                    ],
                    [
                      "Success"
                    ],
                    [
                      "Success"
                    ],
                    [
                      "Success"
                    ],
                    [
                      "Success"
                    ],
                    [
                      "Success"
                    ],
                    [
                      "Success"
                    ],
                    [
                      "Success"
                    ],
                    [
                      "Success"
                    ],
                    [
                      "Success"
                    ],
                    [
                      "Success"
                    ],
                    [
                      "Success"
                    ],
                    [
                      "Success"
                    ],
                    [
                      "Success"
                    ],
                    [
                      "Success"
                    ],
                    [
                      "Success"
                    ],
                    [
                      "Success"
                    ],
                    [
                      "Success"
                    ],
                    [
                      "Success"
                    ],
                    [
                      "Success"
                    ],
                    [
                      "Success"
                    ]
                  ],
                  "domain": {
                    "x": [
                      0,
                      1
                    ],
                    "y": [
                      0,
                      1
                    ]
                  },
                  "hovertemplate": "labels=%{label}<br>count=%{value}<br>parent=%{parent}<br>id=%{id}<br>Mission_Status=%{customdata[0]}<extra></extra>",
                  "ids": [
                    "Australia",
                    "South Korea/KARI",
                    "France/ESA",
                    "USA/NASA",
                    "Kazakhstan/Kosmotras",
                    "USA/Boeing",
                    "Japan/ISAS",
                    "Russian Federation/SRC",
                    "Russian Federation/MITT",
                    "USA/Lockheed",
                    "USA/Exos",
                    "Brazil/AEB",
                    "Russian Federation/RVSN USSR",
                    "USA/General Dynamics",
                    "USA/Martin Marietta",
                    "Kazakhstan/RVSN USSR",
                    "USA/US Air Force",
                    "France/CNES",
                    "Pacific Ocean/Sea Launch",
                    "Australia/RAE",
                    "North Korea/KCST",
                    "Kazakhstan/Land Launch",
                    "India/ISRO",
                    "Russian Federation/Roscosmos",
                    "Iran/ISA",
                    "France/Arianespace",
                    "Kazakhstan/VKS RF",
                    "Japan/MHI",
                    "Russian Federation/VKS RF",
                    "New Zealand/Rocket Lab",
                    "Israel/IAI",
                    "China/ExPace",
                    "USA/Northrop",
                    "Japan/JAXA",
                    "USA/ULA",
                    "Kazakhstan/Roscosmos",
                    "China/CASC",
                    "USA/SpaceX",
                    "Russian Federation/Eurockot",
                    "China/CASIC",
                    "Australia/CECLES",
                    "Kazakhstan/ILS",
                    "Russian Federation",
                    "Kazakhstan",
                    "Israel",
                    "New Zealand",
                    "USA/AMBA",
                    "France/Arm??e de l'Air",
                    "France",
                    "China",
                    "Japan",
                    "Iran",
                    "India",
                    "North Korea",
                    "Japan/UT",
                    "Pacific Ocean",
                    "South Korea",
                    "Brazil",
                    "USA",
                    "USA/US Navy",
                    "USA/US Air Force/Failure",
                    "France/CNES/Failure",
                    "Japan/JAXA/Failure",
                    "Russian Federation/RVSN USSR/Failure",
                    "France/CECLES/Failure",
                    "Kazakhstan/RVSN USSR/Failure",
                    "USA/Martin Marietta/Failure",
                    "China/OneSpace/Failure",
                    "Russian Federation/MITT/Failure",
                    "France/Arianespace/Failure",
                    "USA/Exos/Failure",
                    "USA/US Navy/Failure",
                    "Australia/CECLES/Failure",
                    "Japan/UT/Failure",
                    "USA/Sandia",
                    "Iran/ISA/Failure",
                    "USA/EER/Failure",
                    "USA/AMBA/Failure",
                    "China/Landspace",
                    "China/CASC/Failure",
                    "USA/Virgin Orbit/Failure",
                    "New Zealand/Rocket Lab/Failure",
                    "USA/Virgin Orbit",
                    "China/ExPace/Failure",
                    "China/OneSpace",
                    "Australia/RAE/Failure",
                    "France/ESA/Failure",
                    "USA/General Dynamics/Failure",
                    "Japan/MHI/Failure",
                    "Russian Federation/Roscosmos/Failure",
                    "Russian Federation/Eurockot/Failure",
                    "Russian Federation/SRC/Failure",
                    "Russian Federation/VKS RF/Failure",
                    "Israel/IAI/Failure",
                    "Kazakhstan/Roscosmos/Failure",
                    "China/CASIC/Failure",
                    "South Korea/KARI/Failure",
                    "India/ISRO/Failure",
                    "USA/EER",
                    "Pacific Ocean/Sea Launch/Failure",
                    "China/Landspace/Failure",
                    "North Korea/KCST/Failure",
                    "USA/NASA/Failure",
                    "USA/Sandia/Failure",
                    "USA/SpaceX/Failure",
                    "Kazakhstan/VKS RF/Failure",
                    "USA/Lockheed/Failure",
                    "USA/Boeing/Failure",
                    "France/CECLES",
                    "Brazil/AEB/Failure",
                    "Japan/ISAS/Failure",
                    "USA/Northrop/Failure",
                    "Kazakhstan/Kosmotras/Failure",
                    "China/CASC/Partial Failure",
                    "Kazakhstan/Land Launch/Partial Failure",
                    "Kazakhstan/Roscosmos/Partial Failure",
                    "USA/SpaceX/Partial Failure",
                    "India/ISRO/Partial Failure",
                    "USA/ULA/Partial Failure",
                    "USA/AMBA/Partial Failure",
                    "Russian Federation/VKS RF/Partial Failure",
                    "USA/US Navy/Partial Failure",
                    "France/Arm??e de l'Air/Partial Failure",
                    "Kazakhstan/ILS/Partial Failure",
                    "France/Arianespace/Partial Failure",
                    "Japan/MHI/Partial Failure",
                    "Japan/ISAS/Partial Failure",
                    "USA/Northrop/Partial Failure",
                    "USA/Exos/Partial Failure",
                    "Russian Federation/RVSN USSR/Partial Failure",
                    "USA/Martin Marietta/Partial Failure",
                    "Kazakhstan/RVSN USSR/Partial Failure",
                    "USA/US Air Force/Partial Failure",
                    "USA/NASA/Partial Failure",
                    "USA/Boeing/Partial Failure",
                    "France/ESA/Partial Failure",
                    "USA/General Dynamics/Partial Failure",
                    "Iran/ISA/Prelaunch Failure",
                    "Kazakhstan/RVSN USSR/Prelaunch Failure",
                    "Brazil/AEB/Prelaunch Failure",
                    "USA/SpaceX/Prelaunch Failure",
                    "USA/ILS",
                    "Australia/AMBA",
                    "Kazakhstan/Yuzhmash",
                    "Kazakhstan/OKB-586",
                    "Russian Federation/Kosmotras",
                    "Kenya/ASI",
                    "Russian Federation/Khrunichev",
                    "USA/Douglas",
                    "Russian Federation/Yuzhmash",
                    "Kazakhstan/Starsem",
                    "Iran, Islamic Republic of",
                    "USA/SpaceX/Success",
                    "USA/Blue Origin",
                    "Pacific Ocean/Sea Launch/Success",
                    "Russian Federation/Khrunichev/Success",
                    "Iran/ISA/Success",
                    "Russian Federation/Kosmotras/Success",
                    "North Korea/KCST/Success",
                    "China/CASIC/Success",
                    "Kazakhstan/Land Launch/Success",
                    "Russian Federation/Eurockot/Success",
                    "Kazakhstan/VKS RF/Success",
                    "Russian Federation/Roscosmos/Success",
                    "China/i-Space/Success",
                    "Kazakhstan/ILS/Success",
                    "India/ISRO/Success",
                    "USA/Blue Origin/Success",
                    "France/Arianespace/Success",
                    "Kazakhstan/Arianespace/Success",
                    "Iran, Islamic Republic of/IRGC/Success",
                    "China/ExPace/Success",
                    "Japan/MHI/Success",
                    "Russian Federation/VKS RF/Success",
                    "New Zealand/Rocket Lab/Success",
                    "Israel/IAI/Success",
                    "USA/Northrop/Success",
                    "Japan/JAXA/Success",
                    "USA/ULA/Success",
                    "Kazakhstan/Roscosmos/Success",
                    "China/CASC/Success",
                    "South Korea/KARI/Success",
                    "China/i-Space",
                    "France/ESA/Success",
                    "Kazakhstan/Kosmotras/Success",
                    "Kazakhstan/Arianespace",
                    "Iran, Islamic Republic of/IRGC",
                    "USA/AMBA/Success",
                    "USA/US Navy/Success",
                    "France/Arm??e de l'Air/Success",
                    "Australia/AMBA/Success",
                    "Kazakhstan/OKB-586/Success",
                    "Australia/CECLES/Success",
                    "Kazakhstan/Yuzhmash/Success",
                    "Japan/UT/Success",
                    "Australia/RAE/Success",
                    "France/CNES/Success",
                    "Kenya",
                    "Kenya/ASI/Success",
                    "USA/Douglas/Success",
                    "Russian Federation/Yuzhmash/Success",
                    "Kazakhstan/RVSN USSR/Success",
                    "USA/Martin Marietta/Success",
                    "USA/General Dynamics/Success",
                    "Russian Federation/RVSN USSR/Success",
                    "Kazakhstan/Starsem/Success",
                    "USA/Lockheed/Success",
                    "USA/ILS/Success",
                    "Russian Federation/MITT/Success",
                    "Russian Federation/SRC/Success",
                    "Japan/ISAS/Success",
                    "USA/Boeing/Success",
                    "USA/NASA/Success",
                    "USA/US Air Force/Success"
                  ],
                  "labels": [
                    "Australia",
                    "KARI",
                    "ESA",
                    "NASA",
                    "Kosmotras",
                    "Boeing",
                    "ISAS",
                    "SRC",
                    "MITT",
                    "Lockheed",
                    "Exos",
                    "AEB",
                    "RVSN USSR",
                    "General Dynamics",
                    "Martin Marietta",
                    "RVSN USSR",
                    "US Air Force",
                    "CNES",
                    "Sea Launch",
                    "RAE",
                    "KCST",
                    "Land Launch",
                    "ISRO",
                    "Roscosmos",
                    "ISA",
                    "Arianespace",
                    "VKS RF",
                    "MHI",
                    "VKS RF",
                    "Rocket Lab",
                    "IAI",
                    "ExPace",
                    "Northrop",
                    "JAXA",
                    "ULA",
                    "Roscosmos",
                    "CASC",
                    "SpaceX",
                    "Eurockot",
                    "CASIC",
                    "CECLES",
                    "ILS",
                    "Russian Federation",
                    "Kazakhstan",
                    "Israel",
                    "New Zealand",
                    "AMBA",
                    "Arm??e de l'Air",
                    "France",
                    "China",
                    "Japan",
                    "Iran",
                    "India",
                    "North Korea",
                    "UT",
                    "Pacific Ocean",
                    "South Korea",
                    "Brazil",
                    "USA",
                    "US Navy",
                    "Failure",
                    "Failure",
                    "Failure",
                    "Failure",
                    "Failure",
                    "Failure",
                    "Failure",
                    "Failure",
                    "Failure",
                    "Failure",
                    "Failure",
                    "Failure",
                    "Failure",
                    "Failure",
                    "Sandia",
                    "Failure",
                    "Failure",
                    "Failure",
                    "Landspace",
                    "Failure",
                    "Failure",
                    "Failure",
                    "Virgin Orbit",
                    "Failure",
                    "OneSpace",
                    "Failure",
                    "Failure",
                    "Failure",
                    "Failure",
                    "Failure",
                    "Failure",
                    "Failure",
                    "Failure",
                    "Failure",
                    "Failure",
                    "Failure",
                    "Failure",
                    "Failure",
                    "EER",
                    "Failure",
                    "Failure",
                    "Failure",
                    "Failure",
                    "Failure",
                    "Failure",
                    "Failure",
                    "Failure",
                    "Failure",
                    "CECLES",
                    "Failure",
                    "Failure",
                    "Failure",
                    "Failure",
                    "Partial Failure",
                    "Partial Failure",
                    "Partial Failure",
                    "Partial Failure",
                    "Partial Failure",
                    "Partial Failure",
                    "Partial Failure",
                    "Partial Failure",
                    "Partial Failure",
                    "Partial Failure",
                    "Partial Failure",
                    "Partial Failure",
                    "Partial Failure",
                    "Partial Failure",
                    "Partial Failure",
                    "Partial Failure",
                    "Partial Failure",
                    "Partial Failure",
                    "Partial Failure",
                    "Partial Failure",
                    "Partial Failure",
                    "Partial Failure",
                    "Partial Failure",
                    "Partial Failure",
                    "Prelaunch Failure",
                    "Prelaunch Failure",
                    "Prelaunch Failure",
                    "Prelaunch Failure",
                    "ILS",
                    "AMBA",
                    "Yuzhmash",
                    "OKB-586",
                    "Kosmotras",
                    "ASI",
                    "Khrunichev",
                    "Douglas",
                    "Yuzhmash",
                    "Starsem",
                    "Iran, Islamic Republic of",
                    "Success",
                    "Blue Origin",
                    "Success",
                    "Success",
                    "Success",
                    "Success",
                    "Success",
                    "Success",
                    "Success",
                    "Success",
                    "Success",
                    "Success",
                    "Success",
                    "Success",
                    "Success",
                    "Success",
                    "Success",
                    "Success",
                    "Success",
                    "Success",
                    "Success",
                    "Success",
                    "Success",
                    "Success",
                    "Success",
                    "Success",
                    "Success",
                    "Success",
                    "Success",
                    "Success",
                    "i-Space",
                    "Success",
                    "Success",
                    "Arianespace",
                    "IRGC",
                    "Success",
                    "Success",
                    "Success",
                    "Success",
                    "Success",
                    "Success",
                    "Success",
                    "Success",
                    "Success",
                    "Success",
                    "Kenya",
                    "Success",
                    "Success",
                    "Success",
                    "Success",
                    "Success",
                    "Success",
                    "Success",
                    "Success",
                    "Success",
                    "Success",
                    "Success",
                    "Success",
                    "Success",
                    "Success",
                    "Success",
                    "Success"
                  ],
                  "marker": {
                    "colors": [
                      "#636efa",
                      "#636efa",
                      "#636efa",
                      "#636efa",
                      "#636efa",
                      "#636efa",
                      "#636efa",
                      "#636efa",
                      "#636efa",
                      "#636efa",
                      "#636efa",
                      "#636efa",
                      "#636efa",
                      "#636efa",
                      "#636efa",
                      "#636efa",
                      "#636efa",
                      "#636efa",
                      "#636efa",
                      "#636efa",
                      "#636efa",
                      "#636efa",
                      "#636efa",
                      "#636efa",
                      "#636efa",
                      "#636efa",
                      "#636efa",
                      "#636efa",
                      "#636efa",
                      "#636efa",
                      "#636efa",
                      "#636efa",
                      "#636efa",
                      "#636efa",
                      "#636efa",
                      "#636efa",
                      "#636efa",
                      "#636efa",
                      "#636efa",
                      "#636efa",
                      "#636efa",
                      "#636efa",
                      "#636efa",
                      "#636efa",
                      "#636efa",
                      "#636efa",
                      "#636efa",
                      "#636efa",
                      "#636efa",
                      "#636efa",
                      "#636efa",
                      "#636efa",
                      "#636efa",
                      "#636efa",
                      "#636efa",
                      "#636efa",
                      "#636efa",
                      "#636efa",
                      "#636efa",
                      "#636efa",
                      "#EF553B",
                      "#EF553B",
                      "#EF553B",
                      "#EF553B",
                      "#EF553B",
                      "#EF553B",
                      "#EF553B",
                      "#EF553B",
                      "#EF553B",
                      "#EF553B",
                      "#EF553B",
                      "#EF553B",
                      "#EF553B",
                      "#EF553B",
                      "#EF553B",
                      "#EF553B",
                      "#EF553B",
                      "#EF553B",
                      "#EF553B",
                      "#EF553B",
                      "#EF553B",
                      "#EF553B",
                      "#EF553B",
                      "#EF553B",
                      "#EF553B",
                      "#EF553B",
                      "#EF553B",
                      "#EF553B",
                      "#EF553B",
                      "#EF553B",
                      "#EF553B",
                      "#EF553B",
                      "#EF553B",
                      "#EF553B",
                      "#EF553B",
                      "#EF553B",
                      "#EF553B",
                      "#EF553B",
                      "#EF553B",
                      "#EF553B",
                      "#EF553B",
                      "#EF553B",
                      "#EF553B",
                      "#EF553B",
                      "#EF553B",
                      "#EF553B",
                      "#EF553B",
                      "#EF553B",
                      "#EF553B",
                      "#EF553B",
                      "#EF553B",
                      "#EF553B",
                      "#EF553B",
                      "#00cc96",
                      "#00cc96",
                      "#00cc96",
                      "#00cc96",
                      "#00cc96",
                      "#00cc96",
                      "#00cc96",
                      "#00cc96",
                      "#00cc96",
                      "#00cc96",
                      "#00cc96",
                      "#00cc96",
                      "#00cc96",
                      "#00cc96",
                      "#00cc96",
                      "#00cc96",
                      "#00cc96",
                      "#00cc96",
                      "#00cc96",
                      "#00cc96",
                      "#00cc96",
                      "#00cc96",
                      "#00cc96",
                      "#00cc96",
                      "#ab63fa",
                      "#ab63fa",
                      "#ab63fa",
                      "#ab63fa",
                      "#FFA15A",
                      "#FFA15A",
                      "#FFA15A",
                      "#FFA15A",
                      "#FFA15A",
                      "#FFA15A",
                      "#FFA15A",
                      "#FFA15A",
                      "#FFA15A",
                      "#FFA15A",
                      "#FFA15A",
                      "#FFA15A",
                      "#FFA15A",
                      "#FFA15A",
                      "#FFA15A",
                      "#FFA15A",
                      "#FFA15A",
                      "#FFA15A",
                      "#FFA15A",
                      "#FFA15A",
                      "#FFA15A",
                      "#FFA15A",
                      "#FFA15A",
                      "#FFA15A",
                      "#FFA15A",
                      "#FFA15A",
                      "#FFA15A",
                      "#FFA15A",
                      "#FFA15A",
                      "#FFA15A",
                      "#FFA15A",
                      "#FFA15A",
                      "#FFA15A",
                      "#FFA15A",
                      "#FFA15A",
                      "#FFA15A",
                      "#FFA15A",
                      "#FFA15A",
                      "#FFA15A",
                      "#FFA15A",
                      "#FFA15A",
                      "#FFA15A",
                      "#FFA15A",
                      "#FFA15A",
                      "#FFA15A",
                      "#FFA15A",
                      "#FFA15A",
                      "#FFA15A",
                      "#FFA15A",
                      "#FFA15A",
                      "#FFA15A",
                      "#FFA15A",
                      "#FFA15A",
                      "#FFA15A",
                      "#FFA15A",
                      "#FFA15A",
                      "#FFA15A",
                      "#FFA15A",
                      "#FFA15A",
                      "#FFA15A",
                      "#FFA15A",
                      "#FFA15A",
                      "#FFA15A",
                      "#FFA15A",
                      "#FFA15A",
                      "#FFA15A",
                      "#FFA15A",
                      "#FFA15A",
                      "#FFA15A",
                      "#FFA15A",
                      "#FFA15A",
                      "#FFA15A",
                      "#FFA15A"
                    ]
                  },
                  "name": "",
                  "parents": [
                    "",
                    "South Korea",
                    "France",
                    "USA",
                    "Kazakhstan",
                    "USA",
                    "Japan",
                    "Russian Federation",
                    "Russian Federation",
                    "USA",
                    "USA",
                    "Brazil",
                    "Russian Federation",
                    "USA",
                    "USA",
                    "Kazakhstan",
                    "USA",
                    "France",
                    "Pacific Ocean",
                    "Australia",
                    "North Korea",
                    "Kazakhstan",
                    "India",
                    "Russian Federation",
                    "Iran",
                    "France",
                    "Kazakhstan",
                    "Japan",
                    "Russian Federation",
                    "New Zealand",
                    "Israel",
                    "China",
                    "USA",
                    "Japan",
                    "USA",
                    "Kazakhstan",
                    "China",
                    "USA",
                    "Russian Federation",
                    "China",
                    "Australia",
                    "Kazakhstan",
                    "",
                    "",
                    "",
                    "",
                    "USA",
                    "France",
                    "",
                    "",
                    "",
                    "",
                    "",
                    "",
                    "Japan",
                    "",
                    "",
                    "",
                    "",
                    "USA",
                    "USA/US Air Force",
                    "France/CNES",
                    "Japan/JAXA",
                    "Russian Federation/RVSN USSR",
                    "France/CECLES",
                    "Kazakhstan/RVSN USSR",
                    "USA/Martin Marietta",
                    "China/OneSpace",
                    "Russian Federation/MITT",
                    "France/Arianespace",
                    "USA/Exos",
                    "USA/US Navy",
                    "Australia/CECLES",
                    "Japan/UT",
                    "USA",
                    "Iran/ISA",
                    "USA/EER",
                    "USA/AMBA",
                    "China",
                    "China/CASC",
                    "USA/Virgin Orbit",
                    "New Zealand/Rocket Lab",
                    "USA",
                    "China/ExPace",
                    "China",
                    "Australia/RAE",
                    "France/ESA",
                    "USA/General Dynamics",
                    "Japan/MHI",
                    "Russian Federation/Roscosmos",
                    "Russian Federation/Eurockot",
                    "Russian Federation/SRC",
                    "Russian Federation/VKS RF",
                    "Israel/IAI",
                    "Kazakhstan/Roscosmos",
                    "China/CASIC",
                    "South Korea/KARI",
                    "India/ISRO",
                    "USA",
                    "Pacific Ocean/Sea Launch",
                    "China/Landspace",
                    "North Korea/KCST",
                    "USA/NASA",
                    "USA/Sandia",
                    "USA/SpaceX",
                    "Kazakhstan/VKS RF",
                    "USA/Lockheed",
                    "USA/Boeing",
                    "France",
                    "Brazil/AEB",
                    "Japan/ISAS",
                    "USA/Northrop",
                    "Kazakhstan/Kosmotras",
                    "China/CASC",
                    "Kazakhstan/Land Launch",
                    "Kazakhstan/Roscosmos",
                    "USA/SpaceX",
                    "India/ISRO",
                    "USA/ULA",
                    "USA/AMBA",
                    "Russian Federation/VKS RF",
                    "USA/US Navy",
                    "France/Arm??e de l'Air",
                    "Kazakhstan/ILS",
                    "France/Arianespace",
                    "Japan/MHI",
                    "Japan/ISAS",
                    "USA/Northrop",
                    "USA/Exos",
                    "Russian Federation/RVSN USSR",
                    "USA/Martin Marietta",
                    "Kazakhstan/RVSN USSR",
                    "USA/US Air Force",
                    "USA/NASA",
                    "USA/Boeing",
                    "France/ESA",
                    "USA/General Dynamics",
                    "Iran/ISA",
                    "Kazakhstan/RVSN USSR",
                    "Brazil/AEB",
                    "USA/SpaceX",
                    "USA",
                    "Australia",
                    "Kazakhstan",
                    "Kazakhstan",
                    "Russian Federation",
                    "Kenya",
                    "Russian Federation",
                    "USA",
                    "Russian Federation",
                    "Kazakhstan",
                    "",
                    "USA/SpaceX",
                    "USA",
                    "Pacific Ocean/Sea Launch",
                    "Russian Federation/Khrunichev",
                    "Iran/ISA",
                    "Russian Federation/Kosmotras",
                    "North Korea/KCST",
                    "China/CASIC",
                    "Kazakhstan/Land Launch",
                    "Russian Federation/Eurockot",
                    "Kazakhstan/VKS RF",
                    "Russian Federation/Roscosmos",
                    "China/i-Space",
                    "Kazakhstan/ILS",
                    "India/ISRO",
                    "USA/Blue Origin",
                    "France/Arianespace",
                    "Kazakhstan/Arianespace",
                    "Iran, Islamic Republic of/IRGC",
                    "China/ExPace",
                    "Japan/MHI",
                    "Russian Federation/VKS RF",
                    "New Zealand/Rocket Lab",
                    "Israel/IAI",
                    "USA/Northrop",
                    "Japan/JAXA",
                    "USA/ULA",
                    "Kazakhstan/Roscosmos",
                    "China/CASC",
                    "South Korea/KARI",
                    "China",
                    "France/ESA",
                    "Kazakhstan/Kosmotras",
                    "Kazakhstan",
                    "Iran, Islamic Republic of",
                    "USA/AMBA",
                    "USA/US Navy",
                    "France/Arm??e de l'Air",
                    "Australia/AMBA",
                    "Kazakhstan/OKB-586",
                    "Australia/CECLES",
                    "Kazakhstan/Yuzhmash",
                    "Japan/UT",
                    "Australia/RAE",
                    "France/CNES",
                    "",
                    "Kenya/ASI",
                    "USA/Douglas",
                    "Russian Federation/Yuzhmash",
                    "Kazakhstan/RVSN USSR",
                    "USA/Martin Marietta",
                    "USA/General Dynamics",
                    "Russian Federation/RVSN USSR",
                    "Kazakhstan/Starsem",
                    "USA/Lockheed",
                    "USA/ILS",
                    "Russian Federation/MITT",
                    "Russian Federation/SRC",
                    "Japan/ISAS",
                    "USA/Boeing",
                    "USA/NASA",
                    "USA/US Air Force"
                  ],
                  "type": "sunburst",
                  "values": {
                    "bdata": "BgADAA0AywAMAIgAHgADAAcATwAEAAMArgT7AHIAQwKhAAgAJAACAAUABwBMAAgADQAVASwAVACdAA0ACwAKAFMABwCMAC8A+wBkAA0ABQADAAYAdgW9AgsADQAHAAQALwENAX4ADQBMAAUABQAkAAMAAwBHBREAHgACAAEANwABAEIACwABAAEABwABAA4AAgAEAAEACAABAAMAAQAOAAEAAgABAAEAAQABAAMAJQACAAEAAQABAAQAAgACAAIAAgAIAAEAAwABAAMACwABAAQAAwAFAAMAAQACAAMABwABAAYAAQABAAEABQABAAEABgABAAEAAQADAAIAAQACAAMAGAADABEAAgAGAAIAAQALAAEAAQABAAEAKAABAAEAAgAKAAkAAQABAAEAAQABAF4ADAAhAAEABAAKAAIAAwAGAAwAKQAHAAEABQA/AAwACwECAAEACQBQAJMACwAJAEoABgCLACwA5wABAAEACQALAAIAAQADAAIAAwABAAIAAQABAAEAAQAGAAkACQABAAEA7wFkAMsAXwQBAEoAKAAGAAIAGgCDALoAgQA=",
                    "dtype": "i2"
                  }
                }
              ],
              "layout": {
                "legend": {
                  "tracegroupgap": 0
                },
                "margin": {
                  "t": 60
                },
                "template": {
                  "data": {
                    "bar": [
                      {
                        "error_x": {
                          "color": "#2a3f5f"
                        },
                        "error_y": {
                          "color": "#2a3f5f"
                        },
                        "marker": {
                          "line": {
                            "color": "#E5ECF6",
                            "width": 0.5
                          },
                          "pattern": {
                            "fillmode": "overlay",
                            "size": 10,
                            "solidity": 0.2
                          }
                        },
                        "type": "bar"
                      }
                    ],
                    "barpolar": [
                      {
                        "marker": {
                          "line": {
                            "color": "#E5ECF6",
                            "width": 0.5
                          },
                          "pattern": {
                            "fillmode": "overlay",
                            "size": 10,
                            "solidity": 0.2
                          }
                        },
                        "type": "barpolar"
                      }
                    ],
                    "carpet": [
                      {
                        "aaxis": {
                          "endlinecolor": "#2a3f5f",
                          "gridcolor": "white",
                          "linecolor": "white",
                          "minorgridcolor": "white",
                          "startlinecolor": "#2a3f5f"
                        },
                        "baxis": {
                          "endlinecolor": "#2a3f5f",
                          "gridcolor": "white",
                          "linecolor": "white",
                          "minorgridcolor": "white",
                          "startlinecolor": "#2a3f5f"
                        },
                        "type": "carpet"
                      }
                    ],
                    "choropleth": [
                      {
                        "colorbar": {
                          "outlinewidth": 0,
                          "ticks": ""
                        },
                        "type": "choropleth"
                      }
                    ],
                    "contour": [
                      {
                        "colorbar": {
                          "outlinewidth": 0,
                          "ticks": ""
                        },
                        "colorscale": [
                          [
                            0,
                            "#0d0887"
                          ],
                          [
                            0.1111111111111111,
                            "#46039f"
                          ],
                          [
                            0.2222222222222222,
                            "#7201a8"
                          ],
                          [
                            0.3333333333333333,
                            "#9c179e"
                          ],
                          [
                            0.4444444444444444,
                            "#bd3786"
                          ],
                          [
                            0.5555555555555556,
                            "#d8576b"
                          ],
                          [
                            0.6666666666666666,
                            "#ed7953"
                          ],
                          [
                            0.7777777777777778,
                            "#fb9f3a"
                          ],
                          [
                            0.8888888888888888,
                            "#fdca26"
                          ],
                          [
                            1,
                            "#f0f921"
                          ]
                        ],
                        "type": "contour"
                      }
                    ],
                    "contourcarpet": [
                      {
                        "colorbar": {
                          "outlinewidth": 0,
                          "ticks": ""
                        },
                        "type": "contourcarpet"
                      }
                    ],
                    "heatmap": [
                      {
                        "colorbar": {
                          "outlinewidth": 0,
                          "ticks": ""
                        },
                        "colorscale": [
                          [
                            0,
                            "#0d0887"
                          ],
                          [
                            0.1111111111111111,
                            "#46039f"
                          ],
                          [
                            0.2222222222222222,
                            "#7201a8"
                          ],
                          [
                            0.3333333333333333,
                            "#9c179e"
                          ],
                          [
                            0.4444444444444444,
                            "#bd3786"
                          ],
                          [
                            0.5555555555555556,
                            "#d8576b"
                          ],
                          [
                            0.6666666666666666,
                            "#ed7953"
                          ],
                          [
                            0.7777777777777778,
                            "#fb9f3a"
                          ],
                          [
                            0.8888888888888888,
                            "#fdca26"
                          ],
                          [
                            1,
                            "#f0f921"
                          ]
                        ],
                        "type": "heatmap"
                      }
                    ],
                    "histogram": [
                      {
                        "marker": {
                          "pattern": {
                            "fillmode": "overlay",
                            "size": 10,
                            "solidity": 0.2
                          }
                        },
                        "type": "histogram"
                      }
                    ],
                    "histogram2d": [
                      {
                        "colorbar": {
                          "outlinewidth": 0,
                          "ticks": ""
                        },
                        "colorscale": [
                          [
                            0,
                            "#0d0887"
                          ],
                          [
                            0.1111111111111111,
                            "#46039f"
                          ],
                          [
                            0.2222222222222222,
                            "#7201a8"
                          ],
                          [
                            0.3333333333333333,
                            "#9c179e"
                          ],
                          [
                            0.4444444444444444,
                            "#bd3786"
                          ],
                          [
                            0.5555555555555556,
                            "#d8576b"
                          ],
                          [
                            0.6666666666666666,
                            "#ed7953"
                          ],
                          [
                            0.7777777777777778,
                            "#fb9f3a"
                          ],
                          [
                            0.8888888888888888,
                            "#fdca26"
                          ],
                          [
                            1,
                            "#f0f921"
                          ]
                        ],
                        "type": "histogram2d"
                      }
                    ],
                    "histogram2dcontour": [
                      {
                        "colorbar": {
                          "outlinewidth": 0,
                          "ticks": ""
                        },
                        "colorscale": [
                          [
                            0,
                            "#0d0887"
                          ],
                          [
                            0.1111111111111111,
                            "#46039f"
                          ],
                          [
                            0.2222222222222222,
                            "#7201a8"
                          ],
                          [
                            0.3333333333333333,
                            "#9c179e"
                          ],
                          [
                            0.4444444444444444,
                            "#bd3786"
                          ],
                          [
                            0.5555555555555556,
                            "#d8576b"
                          ],
                          [
                            0.6666666666666666,
                            "#ed7953"
                          ],
                          [
                            0.7777777777777778,
                            "#fb9f3a"
                          ],
                          [
                            0.8888888888888888,
                            "#fdca26"
                          ],
                          [
                            1,
                            "#f0f921"
                          ]
                        ],
                        "type": "histogram2dcontour"
                      }
                    ],
                    "mesh3d": [
                      {
                        "colorbar": {
                          "outlinewidth": 0,
                          "ticks": ""
                        },
                        "type": "mesh3d"
                      }
                    ],
                    "parcoords": [
                      {
                        "line": {
                          "colorbar": {
                            "outlinewidth": 0,
                            "ticks": ""
                          }
                        },
                        "type": "parcoords"
                      }
                    ],
                    "pie": [
                      {
                        "automargin": true,
                        "type": "pie"
                      }
                    ],
                    "scatter": [
                      {
                        "fillpattern": {
                          "fillmode": "overlay",
                          "size": 10,
                          "solidity": 0.2
                        },
                        "type": "scatter"
                      }
                    ],
                    "scatter3d": [
                      {
                        "line": {
                          "colorbar": {
                            "outlinewidth": 0,
                            "ticks": ""
                          }
                        },
                        "marker": {
                          "colorbar": {
                            "outlinewidth": 0,
                            "ticks": ""
                          }
                        },
                        "type": "scatter3d"
                      }
                    ],
                    "scattercarpet": [
                      {
                        "marker": {
                          "colorbar": {
                            "outlinewidth": 0,
                            "ticks": ""
                          }
                        },
                        "type": "scattercarpet"
                      }
                    ],
                    "scattergeo": [
                      {
                        "marker": {
                          "colorbar": {
                            "outlinewidth": 0,
                            "ticks": ""
                          }
                        },
                        "type": "scattergeo"
                      }
                    ],
                    "scattergl": [
                      {
                        "marker": {
                          "colorbar": {
                            "outlinewidth": 0,
                            "ticks": ""
                          }
                        },
                        "type": "scattergl"
                      }
                    ],
                    "scattermap": [
                      {
                        "marker": {
                          "colorbar": {
                            "outlinewidth": 0,
                            "ticks": ""
                          }
                        },
                        "type": "scattermap"
                      }
                    ],
                    "scattermapbox": [
                      {
                        "marker": {
                          "colorbar": {
                            "outlinewidth": 0,
                            "ticks": ""
                          }
                        },
                        "type": "scattermapbox"
                      }
                    ],
                    "scatterpolar": [
                      {
                        "marker": {
                          "colorbar": {
                            "outlinewidth": 0,
                            "ticks": ""
                          }
                        },
                        "type": "scatterpolar"
                      }
                    ],
                    "scatterpolargl": [
                      {
                        "marker": {
                          "colorbar": {
                            "outlinewidth": 0,
                            "ticks": ""
                          }
                        },
                        "type": "scatterpolargl"
                      }
                    ],
                    "scatterternary": [
                      {
                        "marker": {
                          "colorbar": {
                            "outlinewidth": 0,
                            "ticks": ""
                          }
                        },
                        "type": "scatterternary"
                      }
                    ],
                    "surface": [
                      {
                        "colorbar": {
                          "outlinewidth": 0,
                          "ticks": ""
                        },
                        "colorscale": [
                          [
                            0,
                            "#0d0887"
                          ],
                          [
                            0.1111111111111111,
                            "#46039f"
                          ],
                          [
                            0.2222222222222222,
                            "#7201a8"
                          ],
                          [
                            0.3333333333333333,
                            "#9c179e"
                          ],
                          [
                            0.4444444444444444,
                            "#bd3786"
                          ],
                          [
                            0.5555555555555556,
                            "#d8576b"
                          ],
                          [
                            0.6666666666666666,
                            "#ed7953"
                          ],
                          [
                            0.7777777777777778,
                            "#fb9f3a"
                          ],
                          [
                            0.8888888888888888,
                            "#fdca26"
                          ],
                          [
                            1,
                            "#f0f921"
                          ]
                        ],
                        "type": "surface"
                      }
                    ],
                    "table": [
                      {
                        "cells": {
                          "fill": {
                            "color": "#EBF0F8"
                          },
                          "line": {
                            "color": "white"
                          }
                        },
                        "header": {
                          "fill": {
                            "color": "#C8D4E3"
                          },
                          "line": {
                            "color": "white"
                          }
                        },
                        "type": "table"
                      }
                    ]
                  },
                  "layout": {
                    "annotationdefaults": {
                      "arrowcolor": "#2a3f5f",
                      "arrowhead": 0,
                      "arrowwidth": 1
                    },
                    "autotypenumbers": "strict",
                    "coloraxis": {
                      "colorbar": {
                        "outlinewidth": 0,
                        "ticks": ""
                      }
                    },
                    "colorscale": {
                      "diverging": [
                        [
                          0,
                          "#8e0152"
                        ],
                        [
                          0.1,
                          "#c51b7d"
                        ],
                        [
                          0.2,
                          "#de77ae"
                        ],
                        [
                          0.3,
                          "#f1b6da"
                        ],
                        [
                          0.4,
                          "#fde0ef"
                        ],
                        [
                          0.5,
                          "#f7f7f7"
                        ],
                        [
                          0.6,
                          "#e6f5d0"
                        ],
                        [
                          0.7,
                          "#b8e186"
                        ],
                        [
                          0.8,
                          "#7fbc41"
                        ],
                        [
                          0.9,
                          "#4d9221"
                        ],
                        [
                          1,
                          "#276419"
                        ]
                      ],
                      "sequential": [
                        [
                          0,
                          "#0d0887"
                        ],
                        [
                          0.1111111111111111,
                          "#46039f"
                        ],
                        [
                          0.2222222222222222,
                          "#7201a8"
                        ],
                        [
                          0.3333333333333333,
                          "#9c179e"
                        ],
                        [
                          0.4444444444444444,
                          "#bd3786"
                        ],
                        [
                          0.5555555555555556,
                          "#d8576b"
                        ],
                        [
                          0.6666666666666666,
                          "#ed7953"
                        ],
                        [
                          0.7777777777777778,
                          "#fb9f3a"
                        ],
                        [
                          0.8888888888888888,
                          "#fdca26"
                        ],
                        [
                          1,
                          "#f0f921"
                        ]
                      ],
                      "sequentialminus": [
                        [
                          0,
                          "#0d0887"
                        ],
                        [
                          0.1111111111111111,
                          "#46039f"
                        ],
                        [
                          0.2222222222222222,
                          "#7201a8"
                        ],
                        [
                          0.3333333333333333,
                          "#9c179e"
                        ],
                        [
                          0.4444444444444444,
                          "#bd3786"
                        ],
                        [
                          0.5555555555555556,
                          "#d8576b"
                        ],
                        [
                          0.6666666666666666,
                          "#ed7953"
                        ],
                        [
                          0.7777777777777778,
                          "#fb9f3a"
                        ],
                        [
                          0.8888888888888888,
                          "#fdca26"
                        ],
                        [
                          1,
                          "#f0f921"
                        ]
                      ]
                    },
                    "colorway": [
                      "#636efa",
                      "#EF553B",
                      "#00cc96",
                      "#ab63fa",
                      "#FFA15A",
                      "#19d3f3",
                      "#FF6692",
                      "#B6E880",
                      "#FF97FF",
                      "#FECB52"
                    ],
                    "font": {
                      "color": "#2a3f5f"
                    },
                    "geo": {
                      "bgcolor": "white",
                      "lakecolor": "white",
                      "landcolor": "#E5ECF6",
                      "showlakes": true,
                      "showland": true,
                      "subunitcolor": "white"
                    },
                    "hoverlabel": {
                      "align": "left"
                    },
                    "hovermode": "closest",
                    "mapbox": {
                      "style": "light"
                    },
                    "paper_bgcolor": "white",
                    "plot_bgcolor": "#E5ECF6",
                    "polar": {
                      "angularaxis": {
                        "gridcolor": "white",
                        "linecolor": "white",
                        "ticks": ""
                      },
                      "bgcolor": "#E5ECF6",
                      "radialaxis": {
                        "gridcolor": "white",
                        "linecolor": "white",
                        "ticks": ""
                      }
                    },
                    "scene": {
                      "xaxis": {
                        "backgroundcolor": "#E5ECF6",
                        "gridcolor": "white",
                        "gridwidth": 2,
                        "linecolor": "white",
                        "showbackground": true,
                        "ticks": "",
                        "zerolinecolor": "white"
                      },
                      "yaxis": {
                        "backgroundcolor": "#E5ECF6",
                        "gridcolor": "white",
                        "gridwidth": 2,
                        "linecolor": "white",
                        "showbackground": true,
                        "ticks": "",
                        "zerolinecolor": "white"
                      },
                      "zaxis": {
                        "backgroundcolor": "#E5ECF6",
                        "gridcolor": "white",
                        "gridwidth": 2,
                        "linecolor": "white",
                        "showbackground": true,
                        "ticks": "",
                        "zerolinecolor": "white"
                      }
                    },
                    "shapedefaults": {
                      "line": {
                        "color": "#2a3f5f"
                      }
                    },
                    "ternary": {
                      "aaxis": {
                        "gridcolor": "white",
                        "linecolor": "white",
                        "ticks": ""
                      },
                      "baxis": {
                        "gridcolor": "white",
                        "linecolor": "white",
                        "ticks": ""
                      },
                      "bgcolor": "#E5ECF6",
                      "caxis": {
                        "gridcolor": "white",
                        "linecolor": "white",
                        "ticks": ""
                      }
                    },
                    "title": {
                      "x": 0.05
                    },
                    "xaxis": {
                      "automargin": true,
                      "gridcolor": "white",
                      "linecolor": "white",
                      "ticks": "",
                      "title": {
                        "standoff": 15
                      },
                      "zerolinecolor": "white",
                      "zerolinewidth": 2
                    },
                    "yaxis": {
                      "automargin": true,
                      "gridcolor": "white",
                      "linecolor": "white",
                      "ticks": "",
                      "title": {
                        "standoff": 15
                      },
                      "zerolinecolor": "white",
                      "zerolinewidth": 2
                    }
                  }
                }
              }
            }
          },
          "metadata": {},
          "output_type": "display_data"
        }
      ],
      "source": [
        "fig = px.sunburst(\n",
        "    df_data,\n",
        "    path=['Country', 'Organisation', 'Mission_Status'],\n",
        "    values=None,\n",
        "    color=\"Mission_Status\"\n",
        ")\n",
        "\n",
        "fig.show()"
      ]
    },
    {
      "cell_type": "markdown",
      "metadata": {
        "id": "70pG1BCZa-qY",
        "papermill": {
          "duration": 0.062712,
          "end_time": "2020-10-20T21:34:07.951200",
          "exception": false,
          "start_time": "2020-10-20T21:34:07.888488",
          "status": "completed"
        },
        "tags": []
      },
      "source": [
        "# Analyse the Total Amount of Money Spent by Organisation on Space Missions"
      ]
    },
    {
      "cell_type": "code",
      "execution_count": 26,
      "metadata": {
        "id": "IaJYxwEVpKHy"
      },
      "outputs": [
        {
          "data": {
            "application/vnd.microsoft.datawrangler.viewer.v0+json": {
              "columns": [
                {
                  "name": "index",
                  "rawType": "int64",
                  "type": "integer"
                },
                {
                  "name": "Organisation",
                  "rawType": "object",
                  "type": "string"
                },
                {
                  "name": "Price",
                  "rawType": "float64",
                  "type": "float"
                }
              ],
              "conversionMethod": "pd.DataFrame",
              "ref": "21001c41-4a27-4ca7-8223-8af741523429",
              "rows": [
                [
                  "35",
                  "NASA",
                  "61200.0"
                ],
                [
                  "3",
                  "Arianespace",
                  "16345.0"
                ],
                [
                  "48",
                  "ULA",
                  "14798.0"
                ],
                [
                  "7",
                  "CASC",
                  "6340.26"
                ],
                [
                  "46",
                  "SpaceX",
                  "5444.0"
                ],
                [
                  "36",
                  "Northrop",
                  "3930.0"
                ],
                [
                  "32",
                  "MHI",
                  "3532.5"
                ],
                [
                  "23",
                  "ISRO",
                  "2177.0"
                ],
                [
                  "49",
                  "US Air Force",
                  "1550.92"
                ],
                [
                  "52",
                  "VKS RF",
                  "1548.9"
                ],
                [
                  "19",
                  "ILS",
                  "1320.0"
                ],
                [
                  "6",
                  "Boeing",
                  "1241.0"
                ],
                [
                  "42",
                  "Roscosmos",
                  "1187.5"
                ],
                [
                  "34",
                  "Martin Marietta",
                  "721.4"
                ],
                [
                  "28",
                  "Kosmotras",
                  "638.0"
                ],
                [
                  "14",
                  "Eurockot",
                  "543.4"
                ],
                [
                  "31",
                  "Lockheed",
                  "280.0"
                ],
                [
                  "24",
                  "JAXA",
                  "168.0"
                ],
                [
                  "41",
                  "Rocket Lab",
                  "97.5"
                ],
                [
                  "13",
                  "ESA",
                  "37.0"
                ],
                [
                  "15",
                  "ExPace",
                  "28.3"
                ],
                [
                  "12",
                  "EER",
                  "20.0"
                ],
                [
                  "44",
                  "Sandia",
                  "15.0"
                ],
                [
                  "53",
                  "Virgin Orbit",
                  "12.0"
                ],
                [
                  "22",
                  "ISAS",
                  "0.0"
                ],
                [
                  "21",
                  "ISA",
                  "0.0"
                ],
                [
                  "20",
                  "IRGC",
                  "0.0"
                ],
                [
                  "18",
                  "IAI",
                  "0.0"
                ],
                [
                  "16",
                  "Exos",
                  "0.0"
                ],
                [
                  "17",
                  "General Dynamics",
                  "0.0"
                ],
                [
                  "9",
                  "CECLES",
                  "0.0"
                ],
                [
                  "8",
                  "CASIC",
                  "0.0"
                ],
                [
                  "10",
                  "CNES",
                  "0.0"
                ],
                [
                  "11",
                  "Douglas",
                  "0.0"
                ],
                [
                  "5",
                  "Blue Origin",
                  "0.0"
                ],
                [
                  "0",
                  "AEB",
                  "0.0"
                ],
                [
                  "2",
                  "ASI",
                  "0.0"
                ],
                [
                  "1",
                  "AMBA",
                  "0.0"
                ],
                [
                  "4",
                  "Arm??e de l'Air",
                  "0.0"
                ],
                [
                  "25",
                  "KARI",
                  "0.0"
                ],
                [
                  "39",
                  "RAE",
                  "0.0"
                ],
                [
                  "38",
                  "OneSpace",
                  "0.0"
                ],
                [
                  "37",
                  "OKB-586",
                  "0.0"
                ],
                [
                  "33",
                  "MITT",
                  "0.0"
                ],
                [
                  "27",
                  "Khrunichev",
                  "0.0"
                ],
                [
                  "26",
                  "KCST",
                  "0.0"
                ],
                [
                  "29",
                  "Land Launch",
                  "0.0"
                ],
                [
                  "30",
                  "Landspace",
                  "0.0"
                ],
                [
                  "47",
                  "Starsem",
                  "0.0"
                ],
                [
                  "45",
                  "Sea Launch",
                  "0.0"
                ]
              ],
              "shape": {
                "columns": 2,
                "rows": 56
              }
            },
            "text/html": [
              "<div>\n",
              "<style scoped>\n",
              "    .dataframe tbody tr th:only-of-type {\n",
              "        vertical-align: middle;\n",
              "    }\n",
              "\n",
              "    .dataframe tbody tr th {\n",
              "        vertical-align: top;\n",
              "    }\n",
              "\n",
              "    .dataframe thead th {\n",
              "        text-align: right;\n",
              "    }\n",
              "</style>\n",
              "<table border=\"1\" class=\"dataframe\">\n",
              "  <thead>\n",
              "    <tr style=\"text-align: right;\">\n",
              "      <th></th>\n",
              "      <th>Organisation</th>\n",
              "      <th>Price</th>\n",
              "    </tr>\n",
              "  </thead>\n",
              "  <tbody>\n",
              "    <tr>\n",
              "      <th>35</th>\n",
              "      <td>NASA</td>\n",
              "      <td>61,200.00</td>\n",
              "    </tr>\n",
              "    <tr>\n",
              "      <th>3</th>\n",
              "      <td>Arianespace</td>\n",
              "      <td>16,345.00</td>\n",
              "    </tr>\n",
              "    <tr>\n",
              "      <th>48</th>\n",
              "      <td>ULA</td>\n",
              "      <td>14,798.00</td>\n",
              "    </tr>\n",
              "    <tr>\n",
              "      <th>7</th>\n",
              "      <td>CASC</td>\n",
              "      <td>6,340.26</td>\n",
              "    </tr>\n",
              "    <tr>\n",
              "      <th>46</th>\n",
              "      <td>SpaceX</td>\n",
              "      <td>5,444.00</td>\n",
              "    </tr>\n",
              "    <tr>\n",
              "      <th>36</th>\n",
              "      <td>Northrop</td>\n",
              "      <td>3,930.00</td>\n",
              "    </tr>\n",
              "    <tr>\n",
              "      <th>32</th>\n",
              "      <td>MHI</td>\n",
              "      <td>3,532.50</td>\n",
              "    </tr>\n",
              "    <tr>\n",
              "      <th>23</th>\n",
              "      <td>ISRO</td>\n",
              "      <td>2,177.00</td>\n",
              "    </tr>\n",
              "    <tr>\n",
              "      <th>49</th>\n",
              "      <td>US Air Force</td>\n",
              "      <td>1,550.92</td>\n",
              "    </tr>\n",
              "    <tr>\n",
              "      <th>52</th>\n",
              "      <td>VKS RF</td>\n",
              "      <td>1,548.90</td>\n",
              "    </tr>\n",
              "    <tr>\n",
              "      <th>19</th>\n",
              "      <td>ILS</td>\n",
              "      <td>1,320.00</td>\n",
              "    </tr>\n",
              "    <tr>\n",
              "      <th>6</th>\n",
              "      <td>Boeing</td>\n",
              "      <td>1,241.00</td>\n",
              "    </tr>\n",
              "    <tr>\n",
              "      <th>42</th>\n",
              "      <td>Roscosmos</td>\n",
              "      <td>1,187.50</td>\n",
              "    </tr>\n",
              "    <tr>\n",
              "      <th>34</th>\n",
              "      <td>Martin Marietta</td>\n",
              "      <td>721.40</td>\n",
              "    </tr>\n",
              "    <tr>\n",
              "      <th>28</th>\n",
              "      <td>Kosmotras</td>\n",
              "      <td>638.00</td>\n",
              "    </tr>\n",
              "    <tr>\n",
              "      <th>14</th>\n",
              "      <td>Eurockot</td>\n",
              "      <td>543.40</td>\n",
              "    </tr>\n",
              "    <tr>\n",
              "      <th>31</th>\n",
              "      <td>Lockheed</td>\n",
              "      <td>280.00</td>\n",
              "    </tr>\n",
              "    <tr>\n",
              "      <th>24</th>\n",
              "      <td>JAXA</td>\n",
              "      <td>168.00</td>\n",
              "    </tr>\n",
              "    <tr>\n",
              "      <th>41</th>\n",
              "      <td>Rocket Lab</td>\n",
              "      <td>97.50</td>\n",
              "    </tr>\n",
              "    <tr>\n",
              "      <th>13</th>\n",
              "      <td>ESA</td>\n",
              "      <td>37.00</td>\n",
              "    </tr>\n",
              "    <tr>\n",
              "      <th>15</th>\n",
              "      <td>ExPace</td>\n",
              "      <td>28.30</td>\n",
              "    </tr>\n",
              "    <tr>\n",
              "      <th>12</th>\n",
              "      <td>EER</td>\n",
              "      <td>20.00</td>\n",
              "    </tr>\n",
              "    <tr>\n",
              "      <th>44</th>\n",
              "      <td>Sandia</td>\n",
              "      <td>15.00</td>\n",
              "    </tr>\n",
              "    <tr>\n",
              "      <th>53</th>\n",
              "      <td>Virgin Orbit</td>\n",
              "      <td>12.00</td>\n",
              "    </tr>\n",
              "    <tr>\n",
              "      <th>22</th>\n",
              "      <td>ISAS</td>\n",
              "      <td>0.00</td>\n",
              "    </tr>\n",
              "    <tr>\n",
              "      <th>21</th>\n",
              "      <td>ISA</td>\n",
              "      <td>0.00</td>\n",
              "    </tr>\n",
              "    <tr>\n",
              "      <th>20</th>\n",
              "      <td>IRGC</td>\n",
              "      <td>0.00</td>\n",
              "    </tr>\n",
              "    <tr>\n",
              "      <th>18</th>\n",
              "      <td>IAI</td>\n",
              "      <td>0.00</td>\n",
              "    </tr>\n",
              "    <tr>\n",
              "      <th>16</th>\n",
              "      <td>Exos</td>\n",
              "      <td>0.00</td>\n",
              "    </tr>\n",
              "    <tr>\n",
              "      <th>17</th>\n",
              "      <td>General Dynamics</td>\n",
              "      <td>0.00</td>\n",
              "    </tr>\n",
              "    <tr>\n",
              "      <th>9</th>\n",
              "      <td>CECLES</td>\n",
              "      <td>0.00</td>\n",
              "    </tr>\n",
              "    <tr>\n",
              "      <th>8</th>\n",
              "      <td>CASIC</td>\n",
              "      <td>0.00</td>\n",
              "    </tr>\n",
              "    <tr>\n",
              "      <th>10</th>\n",
              "      <td>CNES</td>\n",
              "      <td>0.00</td>\n",
              "    </tr>\n",
              "    <tr>\n",
              "      <th>11</th>\n",
              "      <td>Douglas</td>\n",
              "      <td>0.00</td>\n",
              "    </tr>\n",
              "    <tr>\n",
              "      <th>5</th>\n",
              "      <td>Blue Origin</td>\n",
              "      <td>0.00</td>\n",
              "    </tr>\n",
              "    <tr>\n",
              "      <th>0</th>\n",
              "      <td>AEB</td>\n",
              "      <td>0.00</td>\n",
              "    </tr>\n",
              "    <tr>\n",
              "      <th>2</th>\n",
              "      <td>ASI</td>\n",
              "      <td>0.00</td>\n",
              "    </tr>\n",
              "    <tr>\n",
              "      <th>1</th>\n",
              "      <td>AMBA</td>\n",
              "      <td>0.00</td>\n",
              "    </tr>\n",
              "    <tr>\n",
              "      <th>4</th>\n",
              "      <td>Arm??e de l'Air</td>\n",
              "      <td>0.00</td>\n",
              "    </tr>\n",
              "    <tr>\n",
              "      <th>25</th>\n",
              "      <td>KARI</td>\n",
              "      <td>0.00</td>\n",
              "    </tr>\n",
              "    <tr>\n",
              "      <th>39</th>\n",
              "      <td>RAE</td>\n",
              "      <td>0.00</td>\n",
              "    </tr>\n",
              "    <tr>\n",
              "      <th>38</th>\n",
              "      <td>OneSpace</td>\n",
              "      <td>0.00</td>\n",
              "    </tr>\n",
              "    <tr>\n",
              "      <th>37</th>\n",
              "      <td>OKB-586</td>\n",
              "      <td>0.00</td>\n",
              "    </tr>\n",
              "    <tr>\n",
              "      <th>33</th>\n",
              "      <td>MITT</td>\n",
              "      <td>0.00</td>\n",
              "    </tr>\n",
              "    <tr>\n",
              "      <th>27</th>\n",
              "      <td>Khrunichev</td>\n",
              "      <td>0.00</td>\n",
              "    </tr>\n",
              "    <tr>\n",
              "      <th>26</th>\n",
              "      <td>KCST</td>\n",
              "      <td>0.00</td>\n",
              "    </tr>\n",
              "    <tr>\n",
              "      <th>29</th>\n",
              "      <td>Land Launch</td>\n",
              "      <td>0.00</td>\n",
              "    </tr>\n",
              "    <tr>\n",
              "      <th>30</th>\n",
              "      <td>Landspace</td>\n",
              "      <td>0.00</td>\n",
              "    </tr>\n",
              "    <tr>\n",
              "      <th>47</th>\n",
              "      <td>Starsem</td>\n",
              "      <td>0.00</td>\n",
              "    </tr>\n",
              "    <tr>\n",
              "      <th>45</th>\n",
              "      <td>Sea Launch</td>\n",
              "      <td>0.00</td>\n",
              "    </tr>\n",
              "    <tr>\n",
              "      <th>40</th>\n",
              "      <td>RVSN USSR</td>\n",
              "      <td>0.00</td>\n",
              "    </tr>\n",
              "    <tr>\n",
              "      <th>43</th>\n",
              "      <td>SRC</td>\n",
              "      <td>0.00</td>\n",
              "    </tr>\n",
              "    <tr>\n",
              "      <th>51</th>\n",
              "      <td>UT</td>\n",
              "      <td>0.00</td>\n",
              "    </tr>\n",
              "    <tr>\n",
              "      <th>50</th>\n",
              "      <td>US Navy</td>\n",
              "      <td>0.00</td>\n",
              "    </tr>\n",
              "    <tr>\n",
              "      <th>54</th>\n",
              "      <td>Yuzhmash</td>\n",
              "      <td>0.00</td>\n",
              "    </tr>\n",
              "    <tr>\n",
              "      <th>55</th>\n",
              "      <td>i-Space</td>\n",
              "      <td>0.00</td>\n",
              "    </tr>\n",
              "  </tbody>\n",
              "</table>\n",
              "</div>"
            ],
            "text/plain": [
              "        Organisation     Price\n",
              "35              NASA 61,200.00\n",
              "3        Arianespace 16,345.00\n",
              "48               ULA 14,798.00\n",
              "7               CASC  6,340.26\n",
              "46            SpaceX  5,444.00\n",
              "36          Northrop  3,930.00\n",
              "32               MHI  3,532.50\n",
              "23              ISRO  2,177.00\n",
              "49      US Air Force  1,550.92\n",
              "52            VKS RF  1,548.90\n",
              "19               ILS  1,320.00\n",
              "6             Boeing  1,241.00\n",
              "42         Roscosmos  1,187.50\n",
              "34   Martin Marietta    721.40\n",
              "28         Kosmotras    638.00\n",
              "14          Eurockot    543.40\n",
              "31          Lockheed    280.00\n",
              "24              JAXA    168.00\n",
              "41        Rocket Lab     97.50\n",
              "13               ESA     37.00\n",
              "15            ExPace     28.30\n",
              "12               EER     20.00\n",
              "44            Sandia     15.00\n",
              "53      Virgin Orbit     12.00\n",
              "22              ISAS      0.00\n",
              "21               ISA      0.00\n",
              "20              IRGC      0.00\n",
              "18               IAI      0.00\n",
              "16              Exos      0.00\n",
              "17  General Dynamics      0.00\n",
              "9             CECLES      0.00\n",
              "8              CASIC      0.00\n",
              "10              CNES      0.00\n",
              "11           Douglas      0.00\n",
              "5        Blue Origin      0.00\n",
              "0                AEB      0.00\n",
              "2                ASI      0.00\n",
              "1               AMBA      0.00\n",
              "4    Arm??e de l'Air      0.00\n",
              "25              KARI      0.00\n",
              "39               RAE      0.00\n",
              "38          OneSpace      0.00\n",
              "37           OKB-586      0.00\n",
              "33              MITT      0.00\n",
              "27        Khrunichev      0.00\n",
              "26              KCST      0.00\n",
              "29       Land Launch      0.00\n",
              "30         Landspace      0.00\n",
              "47           Starsem      0.00\n",
              "45        Sea Launch      0.00\n",
              "40         RVSN USSR      0.00\n",
              "43               SRC      0.00\n",
              "51                UT      0.00\n",
              "50           US Navy      0.00\n",
              "54          Yuzhmash      0.00\n",
              "55           i-Space      0.00"
            ]
          },
          "execution_count": 26,
          "metadata": {},
          "output_type": "execute_result"
        }
      ],
      "source": [
        "organization_spend = df_data.groupby(\"Organisation\", as_index=False).agg({\"Price\": pd.Series.sum})\n",
        "organization_spend = organization_spend.sort_values(\"Price\", ascending=False)\n",
        "organization_spend"
      ]
    },
    {
      "cell_type": "code",
      "execution_count": 27,
      "metadata": {
        "id": "orIFf-appPDL"
      },
      "outputs": [
        {
          "data": {
            "application/vnd.plotly.v1+json": {
              "config": {
                "plotlyServerURL": "https://plot.ly"
              },
              "data": [
                {
                  "hovertemplate": "x=%{x}<br>y=%{y}<br>color=%{marker.color}<extra></extra>",
                  "legendgroup": "",
                  "marker": {
                    "color": {
                      "bdata": "AAAAAADi7UAAAAAAgOzPQAAAAAAA58xA9ihcj0LEuEAAAAAAAES1QAAAAAAAtK5AAAAAAACZq0AAAAAAAAKhQEjhehSuO5hAmpmZmZkzmEAAAAAAAKCUQAAAAAAAZJNAAAAAAACOkkAzMzMzM4uGQAAAAAAA8INAMzMzMzP7gEAAAAAAAIBxQAAAAAAAAGVAAAAAAABgWEAAAAAAAIBCQM3MzMzMTDxAAAAAAAAANEAAAAAAAAAuQAAAAAAAAChAAAAAAAAAAAAAAAAAAAAAAAAAAAAAAAAAAAAAAAAAAAAAAAAAAAAAAAAAAAAAAAAAAAAAAAAAAAAAAAAAAAAAAAAAAAAAAAAAAAAAAAAAAAAAAAAAAAAAAAAAAAAAAAAAAAAAAAAAAAAAAAAAAAAAAAAAAAAAAAAAAAAAAAAAAAAAAAAAAAAAAAAAAAAAAAAAAAAAAAAAAAAAAAAAAAAAAAAAAAAAAAAAAAAAAAAAAAAAAAAAAAAAAAAAAAAAAAAAAAAAAAAAAAAAAAAAAAAAAAAAAAAAAAAAAAAAAAAAAAAAAAAAAAAAAAAAAAAAAAAAAAAAAAAAAAAAAAAAAAAAAA==",
                      "dtype": "f8"
                    },
                    "coloraxis": "coloraxis",
                    "pattern": {
                      "shape": ""
                    }
                  },
                  "name": "",
                  "orientation": "v",
                  "showlegend": false,
                  "textposition": "auto",
                  "type": "bar",
                  "x": [
                    "NASA",
                    "Arianespace",
                    "ULA",
                    "CASC",
                    "SpaceX",
                    "Northrop",
                    "MHI",
                    "ISRO",
                    "US Air Force",
                    "VKS RF",
                    "ILS",
                    "Boeing",
                    "Roscosmos",
                    "Martin Marietta",
                    "Kosmotras",
                    "Eurockot",
                    "Lockheed",
                    "JAXA",
                    "Rocket Lab",
                    "ESA",
                    "ExPace",
                    "EER",
                    "Sandia",
                    "Virgin Orbit",
                    "ISAS",
                    "ISA",
                    "IRGC",
                    "IAI",
                    "Exos",
                    "General Dynamics",
                    "CECLES",
                    "CASIC",
                    "CNES",
                    "Douglas",
                    "Blue Origin",
                    "AEB",
                    "ASI",
                    "AMBA",
                    "Arm??e de l'Air",
                    "KARI",
                    "RAE",
                    "OneSpace",
                    "OKB-586",
                    "MITT",
                    "Khrunichev",
                    "KCST",
                    "Land Launch",
                    "Landspace",
                    "Starsem",
                    "Sea Launch",
                    "RVSN USSR",
                    "SRC",
                    "UT",
                    "US Navy",
                    "Yuzhmash",
                    "i-Space"
                  ],
                  "xaxis": "x",
                  "y": {
                    "bdata": "AAAAAADi7UAAAAAAgOzPQAAAAAAA58xA9ihcj0LEuEAAAAAAAES1QAAAAAAAtK5AAAAAAACZq0AAAAAAAAKhQEjhehSuO5hAmpmZmZkzmEAAAAAAAKCUQAAAAAAAZJNAAAAAAACOkkAzMzMzM4uGQAAAAAAA8INAMzMzMzP7gEAAAAAAAIBxQAAAAAAAAGVAAAAAAABgWEAAAAAAAIBCQM3MzMzMTDxAAAAAAAAANEAAAAAAAAAuQAAAAAAAAChAAAAAAAAAAAAAAAAAAAAAAAAAAAAAAAAAAAAAAAAAAAAAAAAAAAAAAAAAAAAAAAAAAAAAAAAAAAAAAAAAAAAAAAAAAAAAAAAAAAAAAAAAAAAAAAAAAAAAAAAAAAAAAAAAAAAAAAAAAAAAAAAAAAAAAAAAAAAAAAAAAAAAAAAAAAAAAAAAAAAAAAAAAAAAAAAAAAAAAAAAAAAAAAAAAAAAAAAAAAAAAAAAAAAAAAAAAAAAAAAAAAAAAAAAAAAAAAAAAAAAAAAAAAAAAAAAAAAAAAAAAAAAAAAAAAAAAAAAAAAAAAAAAAAAAAAAAAAAAAAAAAAAAAAAAAAAAAAAAAAAAA==",
                    "dtype": "f8"
                  },
                  "yaxis": "y"
                }
              ],
              "layout": {
                "barmode": "relative",
                "coloraxis": {
                  "colorbar": {
                    "title": {
                      "text": "color"
                    }
                  },
                  "colorscale": [
                    [
                      0,
                      "#0d0887"
                    ],
                    [
                      0.1111111111111111,
                      "#46039f"
                    ],
                    [
                      0.2222222222222222,
                      "#7201a8"
                    ],
                    [
                      0.3333333333333333,
                      "#9c179e"
                    ],
                    [
                      0.4444444444444444,
                      "#bd3786"
                    ],
                    [
                      0.5555555555555556,
                      "#d8576b"
                    ],
                    [
                      0.6666666666666666,
                      "#ed7953"
                    ],
                    [
                      0.7777777777777778,
                      "#fb9f3a"
                    ],
                    [
                      0.8888888888888888,
                      "#fdca26"
                    ],
                    [
                      1,
                      "#f0f921"
                    ]
                  ]
                },
                "legend": {
                  "tracegroupgap": 0
                },
                "margin": {
                  "t": 60
                },
                "template": {
                  "data": {
                    "bar": [
                      {
                        "error_x": {
                          "color": "#2a3f5f"
                        },
                        "error_y": {
                          "color": "#2a3f5f"
                        },
                        "marker": {
                          "line": {
                            "color": "#E5ECF6",
                            "width": 0.5
                          },
                          "pattern": {
                            "fillmode": "overlay",
                            "size": 10,
                            "solidity": 0.2
                          }
                        },
                        "type": "bar"
                      }
                    ],
                    "barpolar": [
                      {
                        "marker": {
                          "line": {
                            "color": "#E5ECF6",
                            "width": 0.5
                          },
                          "pattern": {
                            "fillmode": "overlay",
                            "size": 10,
                            "solidity": 0.2
                          }
                        },
                        "type": "barpolar"
                      }
                    ],
                    "carpet": [
                      {
                        "aaxis": {
                          "endlinecolor": "#2a3f5f",
                          "gridcolor": "white",
                          "linecolor": "white",
                          "minorgridcolor": "white",
                          "startlinecolor": "#2a3f5f"
                        },
                        "baxis": {
                          "endlinecolor": "#2a3f5f",
                          "gridcolor": "white",
                          "linecolor": "white",
                          "minorgridcolor": "white",
                          "startlinecolor": "#2a3f5f"
                        },
                        "type": "carpet"
                      }
                    ],
                    "choropleth": [
                      {
                        "colorbar": {
                          "outlinewidth": 0,
                          "ticks": ""
                        },
                        "type": "choropleth"
                      }
                    ],
                    "contour": [
                      {
                        "colorbar": {
                          "outlinewidth": 0,
                          "ticks": ""
                        },
                        "colorscale": [
                          [
                            0,
                            "#0d0887"
                          ],
                          [
                            0.1111111111111111,
                            "#46039f"
                          ],
                          [
                            0.2222222222222222,
                            "#7201a8"
                          ],
                          [
                            0.3333333333333333,
                            "#9c179e"
                          ],
                          [
                            0.4444444444444444,
                            "#bd3786"
                          ],
                          [
                            0.5555555555555556,
                            "#d8576b"
                          ],
                          [
                            0.6666666666666666,
                            "#ed7953"
                          ],
                          [
                            0.7777777777777778,
                            "#fb9f3a"
                          ],
                          [
                            0.8888888888888888,
                            "#fdca26"
                          ],
                          [
                            1,
                            "#f0f921"
                          ]
                        ],
                        "type": "contour"
                      }
                    ],
                    "contourcarpet": [
                      {
                        "colorbar": {
                          "outlinewidth": 0,
                          "ticks": ""
                        },
                        "type": "contourcarpet"
                      }
                    ],
                    "heatmap": [
                      {
                        "colorbar": {
                          "outlinewidth": 0,
                          "ticks": ""
                        },
                        "colorscale": [
                          [
                            0,
                            "#0d0887"
                          ],
                          [
                            0.1111111111111111,
                            "#46039f"
                          ],
                          [
                            0.2222222222222222,
                            "#7201a8"
                          ],
                          [
                            0.3333333333333333,
                            "#9c179e"
                          ],
                          [
                            0.4444444444444444,
                            "#bd3786"
                          ],
                          [
                            0.5555555555555556,
                            "#d8576b"
                          ],
                          [
                            0.6666666666666666,
                            "#ed7953"
                          ],
                          [
                            0.7777777777777778,
                            "#fb9f3a"
                          ],
                          [
                            0.8888888888888888,
                            "#fdca26"
                          ],
                          [
                            1,
                            "#f0f921"
                          ]
                        ],
                        "type": "heatmap"
                      }
                    ],
                    "histogram": [
                      {
                        "marker": {
                          "pattern": {
                            "fillmode": "overlay",
                            "size": 10,
                            "solidity": 0.2
                          }
                        },
                        "type": "histogram"
                      }
                    ],
                    "histogram2d": [
                      {
                        "colorbar": {
                          "outlinewidth": 0,
                          "ticks": ""
                        },
                        "colorscale": [
                          [
                            0,
                            "#0d0887"
                          ],
                          [
                            0.1111111111111111,
                            "#46039f"
                          ],
                          [
                            0.2222222222222222,
                            "#7201a8"
                          ],
                          [
                            0.3333333333333333,
                            "#9c179e"
                          ],
                          [
                            0.4444444444444444,
                            "#bd3786"
                          ],
                          [
                            0.5555555555555556,
                            "#d8576b"
                          ],
                          [
                            0.6666666666666666,
                            "#ed7953"
                          ],
                          [
                            0.7777777777777778,
                            "#fb9f3a"
                          ],
                          [
                            0.8888888888888888,
                            "#fdca26"
                          ],
                          [
                            1,
                            "#f0f921"
                          ]
                        ],
                        "type": "histogram2d"
                      }
                    ],
                    "histogram2dcontour": [
                      {
                        "colorbar": {
                          "outlinewidth": 0,
                          "ticks": ""
                        },
                        "colorscale": [
                          [
                            0,
                            "#0d0887"
                          ],
                          [
                            0.1111111111111111,
                            "#46039f"
                          ],
                          [
                            0.2222222222222222,
                            "#7201a8"
                          ],
                          [
                            0.3333333333333333,
                            "#9c179e"
                          ],
                          [
                            0.4444444444444444,
                            "#bd3786"
                          ],
                          [
                            0.5555555555555556,
                            "#d8576b"
                          ],
                          [
                            0.6666666666666666,
                            "#ed7953"
                          ],
                          [
                            0.7777777777777778,
                            "#fb9f3a"
                          ],
                          [
                            0.8888888888888888,
                            "#fdca26"
                          ],
                          [
                            1,
                            "#f0f921"
                          ]
                        ],
                        "type": "histogram2dcontour"
                      }
                    ],
                    "mesh3d": [
                      {
                        "colorbar": {
                          "outlinewidth": 0,
                          "ticks": ""
                        },
                        "type": "mesh3d"
                      }
                    ],
                    "parcoords": [
                      {
                        "line": {
                          "colorbar": {
                            "outlinewidth": 0,
                            "ticks": ""
                          }
                        },
                        "type": "parcoords"
                      }
                    ],
                    "pie": [
                      {
                        "automargin": true,
                        "type": "pie"
                      }
                    ],
                    "scatter": [
                      {
                        "fillpattern": {
                          "fillmode": "overlay",
                          "size": 10,
                          "solidity": 0.2
                        },
                        "type": "scatter"
                      }
                    ],
                    "scatter3d": [
                      {
                        "line": {
                          "colorbar": {
                            "outlinewidth": 0,
                            "ticks": ""
                          }
                        },
                        "marker": {
                          "colorbar": {
                            "outlinewidth": 0,
                            "ticks": ""
                          }
                        },
                        "type": "scatter3d"
                      }
                    ],
                    "scattercarpet": [
                      {
                        "marker": {
                          "colorbar": {
                            "outlinewidth": 0,
                            "ticks": ""
                          }
                        },
                        "type": "scattercarpet"
                      }
                    ],
                    "scattergeo": [
                      {
                        "marker": {
                          "colorbar": {
                            "outlinewidth": 0,
                            "ticks": ""
                          }
                        },
                        "type": "scattergeo"
                      }
                    ],
                    "scattergl": [
                      {
                        "marker": {
                          "colorbar": {
                            "outlinewidth": 0,
                            "ticks": ""
                          }
                        },
                        "type": "scattergl"
                      }
                    ],
                    "scattermap": [
                      {
                        "marker": {
                          "colorbar": {
                            "outlinewidth": 0,
                            "ticks": ""
                          }
                        },
                        "type": "scattermap"
                      }
                    ],
                    "scattermapbox": [
                      {
                        "marker": {
                          "colorbar": {
                            "outlinewidth": 0,
                            "ticks": ""
                          }
                        },
                        "type": "scattermapbox"
                      }
                    ],
                    "scatterpolar": [
                      {
                        "marker": {
                          "colorbar": {
                            "outlinewidth": 0,
                            "ticks": ""
                          }
                        },
                        "type": "scatterpolar"
                      }
                    ],
                    "scatterpolargl": [
                      {
                        "marker": {
                          "colorbar": {
                            "outlinewidth": 0,
                            "ticks": ""
                          }
                        },
                        "type": "scatterpolargl"
                      }
                    ],
                    "scatterternary": [
                      {
                        "marker": {
                          "colorbar": {
                            "outlinewidth": 0,
                            "ticks": ""
                          }
                        },
                        "type": "scatterternary"
                      }
                    ],
                    "surface": [
                      {
                        "colorbar": {
                          "outlinewidth": 0,
                          "ticks": ""
                        },
                        "colorscale": [
                          [
                            0,
                            "#0d0887"
                          ],
                          [
                            0.1111111111111111,
                            "#46039f"
                          ],
                          [
                            0.2222222222222222,
                            "#7201a8"
                          ],
                          [
                            0.3333333333333333,
                            "#9c179e"
                          ],
                          [
                            0.4444444444444444,
                            "#bd3786"
                          ],
                          [
                            0.5555555555555556,
                            "#d8576b"
                          ],
                          [
                            0.6666666666666666,
                            "#ed7953"
                          ],
                          [
                            0.7777777777777778,
                            "#fb9f3a"
                          ],
                          [
                            0.8888888888888888,
                            "#fdca26"
                          ],
                          [
                            1,
                            "#f0f921"
                          ]
                        ],
                        "type": "surface"
                      }
                    ],
                    "table": [
                      {
                        "cells": {
                          "fill": {
                            "color": "#EBF0F8"
                          },
                          "line": {
                            "color": "white"
                          }
                        },
                        "header": {
                          "fill": {
                            "color": "#C8D4E3"
                          },
                          "line": {
                            "color": "white"
                          }
                        },
                        "type": "table"
                      }
                    ]
                  },
                  "layout": {
                    "annotationdefaults": {
                      "arrowcolor": "#2a3f5f",
                      "arrowhead": 0,
                      "arrowwidth": 1
                    },
                    "autotypenumbers": "strict",
                    "coloraxis": {
                      "colorbar": {
                        "outlinewidth": 0,
                        "ticks": ""
                      }
                    },
                    "colorscale": {
                      "diverging": [
                        [
                          0,
                          "#8e0152"
                        ],
                        [
                          0.1,
                          "#c51b7d"
                        ],
                        [
                          0.2,
                          "#de77ae"
                        ],
                        [
                          0.3,
                          "#f1b6da"
                        ],
                        [
                          0.4,
                          "#fde0ef"
                        ],
                        [
                          0.5,
                          "#f7f7f7"
                        ],
                        [
                          0.6,
                          "#e6f5d0"
                        ],
                        [
                          0.7,
                          "#b8e186"
                        ],
                        [
                          0.8,
                          "#7fbc41"
                        ],
                        [
                          0.9,
                          "#4d9221"
                        ],
                        [
                          1,
                          "#276419"
                        ]
                      ],
                      "sequential": [
                        [
                          0,
                          "#0d0887"
                        ],
                        [
                          0.1111111111111111,
                          "#46039f"
                        ],
                        [
                          0.2222222222222222,
                          "#7201a8"
                        ],
                        [
                          0.3333333333333333,
                          "#9c179e"
                        ],
                        [
                          0.4444444444444444,
                          "#bd3786"
                        ],
                        [
                          0.5555555555555556,
                          "#d8576b"
                        ],
                        [
                          0.6666666666666666,
                          "#ed7953"
                        ],
                        [
                          0.7777777777777778,
                          "#fb9f3a"
                        ],
                        [
                          0.8888888888888888,
                          "#fdca26"
                        ],
                        [
                          1,
                          "#f0f921"
                        ]
                      ],
                      "sequentialminus": [
                        [
                          0,
                          "#0d0887"
                        ],
                        [
                          0.1111111111111111,
                          "#46039f"
                        ],
                        [
                          0.2222222222222222,
                          "#7201a8"
                        ],
                        [
                          0.3333333333333333,
                          "#9c179e"
                        ],
                        [
                          0.4444444444444444,
                          "#bd3786"
                        ],
                        [
                          0.5555555555555556,
                          "#d8576b"
                        ],
                        [
                          0.6666666666666666,
                          "#ed7953"
                        ],
                        [
                          0.7777777777777778,
                          "#fb9f3a"
                        ],
                        [
                          0.8888888888888888,
                          "#fdca26"
                        ],
                        [
                          1,
                          "#f0f921"
                        ]
                      ]
                    },
                    "colorway": [
                      "#636efa",
                      "#EF553B",
                      "#00cc96",
                      "#ab63fa",
                      "#FFA15A",
                      "#19d3f3",
                      "#FF6692",
                      "#B6E880",
                      "#FF97FF",
                      "#FECB52"
                    ],
                    "font": {
                      "color": "#2a3f5f"
                    },
                    "geo": {
                      "bgcolor": "white",
                      "lakecolor": "white",
                      "landcolor": "#E5ECF6",
                      "showlakes": true,
                      "showland": true,
                      "subunitcolor": "white"
                    },
                    "hoverlabel": {
                      "align": "left"
                    },
                    "hovermode": "closest",
                    "mapbox": {
                      "style": "light"
                    },
                    "paper_bgcolor": "white",
                    "plot_bgcolor": "#E5ECF6",
                    "polar": {
                      "angularaxis": {
                        "gridcolor": "white",
                        "linecolor": "white",
                        "ticks": ""
                      },
                      "bgcolor": "#E5ECF6",
                      "radialaxis": {
                        "gridcolor": "white",
                        "linecolor": "white",
                        "ticks": ""
                      }
                    },
                    "scene": {
                      "xaxis": {
                        "backgroundcolor": "#E5ECF6",
                        "gridcolor": "white",
                        "gridwidth": 2,
                        "linecolor": "white",
                        "showbackground": true,
                        "ticks": "",
                        "zerolinecolor": "white"
                      },
                      "yaxis": {
                        "backgroundcolor": "#E5ECF6",
                        "gridcolor": "white",
                        "gridwidth": 2,
                        "linecolor": "white",
                        "showbackground": true,
                        "ticks": "",
                        "zerolinecolor": "white"
                      },
                      "zaxis": {
                        "backgroundcolor": "#E5ECF6",
                        "gridcolor": "white",
                        "gridwidth": 2,
                        "linecolor": "white",
                        "showbackground": true,
                        "ticks": "",
                        "zerolinecolor": "white"
                      }
                    },
                    "shapedefaults": {
                      "line": {
                        "color": "#2a3f5f"
                      }
                    },
                    "ternary": {
                      "aaxis": {
                        "gridcolor": "white",
                        "linecolor": "white",
                        "ticks": ""
                      },
                      "baxis": {
                        "gridcolor": "white",
                        "linecolor": "white",
                        "ticks": ""
                      },
                      "bgcolor": "#E5ECF6",
                      "caxis": {
                        "gridcolor": "white",
                        "linecolor": "white",
                        "ticks": ""
                      }
                    },
                    "title": {
                      "x": 0.05
                    },
                    "xaxis": {
                      "automargin": true,
                      "gridcolor": "white",
                      "linecolor": "white",
                      "ticks": "",
                      "title": {
                        "standoff": 15
                      },
                      "zerolinecolor": "white",
                      "zerolinewidth": 2
                    },
                    "yaxis": {
                      "automargin": true,
                      "gridcolor": "white",
                      "linecolor": "white",
                      "ticks": "",
                      "title": {
                        "standoff": 15
                      },
                      "zerolinecolor": "white",
                      "zerolinewidth": 2
                    }
                  }
                },
                "xaxis": {
                  "anchor": "y",
                  "domain": [
                    0,
                    1
                  ],
                  "title": {
                    "text": "Organization"
                  }
                },
                "yaxis": {
                  "anchor": "x",
                  "domain": [
                    0,
                    1
                  ],
                  "title": {
                    "text": "Price"
                  }
                }
              }
            }
          },
          "metadata": {},
          "output_type": "display_data"
        }
      ],
      "source": [
        "fig = px.bar(\n",
        "    x=organization_spend.Organisation,\n",
        "    y=organization_spend.Price,\n",
        "    color=organization_spend.Price,\n",
        ")\n",
        "\n",
        "fig.update_layout(\n",
        "    xaxis_title = \"Organization\",\n",
        "    yaxis_title = \"Price\",\n",
        ")\n",
        "\n",
        "fig.show()"
      ]
    },
    {
      "cell_type": "markdown",
      "metadata": {
        "id": "DpsWkPxzpPXs"
      },
      "source": [
        "# Analyse the Amount of Money Spent by Organisation per Launch"
      ]
    },
    {
      "cell_type": "code",
      "execution_count": 28,
      "metadata": {
        "id": "opYJ6GiRpTk5"
      },
      "outputs": [],
      "source": [
        "organization_per_launch = df_data.groupby(\"Organisation\", as_index=False).agg({\"Price\": pd.Series.sum, \"Mission_Status\": pd.Series.count})\n",
        "organization_per_launch[\"Price_Per_Launch\"] = organization_per_launch.Price / organization_per_launch.Mission_Status\n",
        "organization_per_launch = organization_per_launch.sort_values(\"Price_Per_Launch\", ascending=False)"
      ]
    },
    {
      "cell_type": "code",
      "execution_count": 29,
      "metadata": {
        "id": "VEkHzAk2pTvj"
      },
      "outputs": [
        {
          "data": {
            "application/vnd.plotly.v1+json": {
              "config": {
                "plotlyServerURL": "https://plot.ly"
              },
              "data": [
                {
                  "hovertemplate": "x=%{x}<br>y=%{y}<br>color=%{marker.color}<extra></extra>",
                  "legendgroup": "",
                  "marker": {
                    "color": {
                      "bdata": "wVW0M6XXckDNzMzMzGxaQCArVwfISk1AuB6F61E4S0Cq82sPuaxHQG7btm3bBkVAZmZmZmbmREAAAAAAAAA9QAtZyEIWsjxAUV5DeQ2lPEDD9Shcj0I5QAAAAAAAADhAF1100UWXNUAAAAAAAAA0QAAAAAAAAC5AAAAAAAAAKEAuJ1hGHkQjQAAAAAAAQCJA8vy71unSHkAAAAAAAAAeQP80yaDxTxlAtbgJ87taDEBP7MRO7MQGQKRwPQrXowZAAAAAAAAAAAAAAAAAAAAAAAAAAAAAAAAAAAAAAAAAAAAAAAAAAAAAAAAAAAAAAAAAAAAAAAAAAAAAAAAAAAAAAAAAAAAAAAAAAAAAAAAAAAAAAAAAAAAAAAAAAAAAAAAAAAAAAAAAAAAAAAAAAAAAAAAAAAAAAAAAAAAAAAAAAAAAAAAAAAAAAAAAAAAAAAAAAAAAAAAAAAAAAAAAAAAAAAAAAAAAAAAAAAAAAAAAAAAAAAAAAAAAAAAAAAAAAAAAAAAAAAAAAAAAAAAAAAAAAAAAAAAAAAAAAAAAAAAAAAAAAAAAAAAAAAAAAAAAAAAAAAAAAAAAAAAAAAAAAAAAAA==",
                      "dtype": "f8"
                    },
                    "coloraxis": "coloraxis",
                    "pattern": {
                      "shape": ""
                    }
                  },
                  "name": "",
                  "orientation": "v",
                  "showlegend": false,
                  "textposition": "auto",
                  "type": "bar",
                  "x": [
                    "NASA",
                    "ULA",
                    "Arianespace",
                    "SpaceX",
                    "Northrop",
                    "MHI",
                    "Eurockot",
                    "Kosmotras",
                    "ILS",
                    "ISRO",
                    "CASC",
                    "JAXA",
                    "Roscosmos",
                    "EER",
                    "Sandia",
                    "Virgin Orbit",
                    "US Air Force",
                    "Boeing",
                    "VKS RF",
                    "Rocket Lab",
                    "Martin Marietta",
                    "Lockheed",
                    "ESA",
                    "ExPace",
                    "ISAS",
                    "ISA",
                    "IRGC",
                    "IAI",
                    "Exos",
                    "General Dynamics",
                    "CECLES",
                    "CASIC",
                    "CNES",
                    "Douglas",
                    "Blue Origin",
                    "AEB",
                    "ASI",
                    "AMBA",
                    "Arm??e de l'Air",
                    "KARI",
                    "RAE",
                    "OneSpace",
                    "OKB-586",
                    "MITT",
                    "Khrunichev",
                    "KCST",
                    "Land Launch",
                    "Landspace",
                    "Starsem",
                    "Sea Launch",
                    "RVSN USSR",
                    "SRC",
                    "UT",
                    "US Navy",
                    "Yuzhmash",
                    "i-Space"
                  ],
                  "xaxis": "x",
                  "y": {
                    "bdata": "wVW0M6XXckDNzMzMzGxaQCArVwfISk1AuB6F61E4S0Cq82sPuaxHQG7btm3bBkVAZmZmZmbmREAAAAAAAAA9QAtZyEIWsjxAUV5DeQ2lPEDD9Shcj0I5QAAAAAAAADhAF1100UWXNUAAAAAAAAA0QAAAAAAAAC5AAAAAAAAAKEAuJ1hGHkQjQAAAAAAAQCJA8vy71unSHkAAAAAAAAAeQP80yaDxTxlAtbgJ87taDEBP7MRO7MQGQKRwPQrXowZAAAAAAAAAAAAAAAAAAAAAAAAAAAAAAAAAAAAAAAAAAAAAAAAAAAAAAAAAAAAAAAAAAAAAAAAAAAAAAAAAAAAAAAAAAAAAAAAAAAAAAAAAAAAAAAAAAAAAAAAAAAAAAAAAAAAAAAAAAAAAAAAAAAAAAAAAAAAAAAAAAAAAAAAAAAAAAAAAAAAAAAAAAAAAAAAAAAAAAAAAAAAAAAAAAAAAAAAAAAAAAAAAAAAAAAAAAAAAAAAAAAAAAAAAAAAAAAAAAAAAAAAAAAAAAAAAAAAAAAAAAAAAAAAAAAAAAAAAAAAAAAAAAAAAAAAAAAAAAAAAAAAAAAAAAAAAAAAAAAAAAA==",
                    "dtype": "f8"
                  },
                  "yaxis": "y"
                }
              ],
              "layout": {
                "barmode": "relative",
                "coloraxis": {
                  "colorbar": {
                    "title": {
                      "text": "color"
                    }
                  },
                  "colorscale": [
                    [
                      0,
                      "#0d0887"
                    ],
                    [
                      0.1111111111111111,
                      "#46039f"
                    ],
                    [
                      0.2222222222222222,
                      "#7201a8"
                    ],
                    [
                      0.3333333333333333,
                      "#9c179e"
                    ],
                    [
                      0.4444444444444444,
                      "#bd3786"
                    ],
                    [
                      0.5555555555555556,
                      "#d8576b"
                    ],
                    [
                      0.6666666666666666,
                      "#ed7953"
                    ],
                    [
                      0.7777777777777778,
                      "#fb9f3a"
                    ],
                    [
                      0.8888888888888888,
                      "#fdca26"
                    ],
                    [
                      1,
                      "#f0f921"
                    ]
                  ]
                },
                "legend": {
                  "tracegroupgap": 0
                },
                "margin": {
                  "t": 60
                },
                "template": {
                  "data": {
                    "bar": [
                      {
                        "error_x": {
                          "color": "#2a3f5f"
                        },
                        "error_y": {
                          "color": "#2a3f5f"
                        },
                        "marker": {
                          "line": {
                            "color": "#E5ECF6",
                            "width": 0.5
                          },
                          "pattern": {
                            "fillmode": "overlay",
                            "size": 10,
                            "solidity": 0.2
                          }
                        },
                        "type": "bar"
                      }
                    ],
                    "barpolar": [
                      {
                        "marker": {
                          "line": {
                            "color": "#E5ECF6",
                            "width": 0.5
                          },
                          "pattern": {
                            "fillmode": "overlay",
                            "size": 10,
                            "solidity": 0.2
                          }
                        },
                        "type": "barpolar"
                      }
                    ],
                    "carpet": [
                      {
                        "aaxis": {
                          "endlinecolor": "#2a3f5f",
                          "gridcolor": "white",
                          "linecolor": "white",
                          "minorgridcolor": "white",
                          "startlinecolor": "#2a3f5f"
                        },
                        "baxis": {
                          "endlinecolor": "#2a3f5f",
                          "gridcolor": "white",
                          "linecolor": "white",
                          "minorgridcolor": "white",
                          "startlinecolor": "#2a3f5f"
                        },
                        "type": "carpet"
                      }
                    ],
                    "choropleth": [
                      {
                        "colorbar": {
                          "outlinewidth": 0,
                          "ticks": ""
                        },
                        "type": "choropleth"
                      }
                    ],
                    "contour": [
                      {
                        "colorbar": {
                          "outlinewidth": 0,
                          "ticks": ""
                        },
                        "colorscale": [
                          [
                            0,
                            "#0d0887"
                          ],
                          [
                            0.1111111111111111,
                            "#46039f"
                          ],
                          [
                            0.2222222222222222,
                            "#7201a8"
                          ],
                          [
                            0.3333333333333333,
                            "#9c179e"
                          ],
                          [
                            0.4444444444444444,
                            "#bd3786"
                          ],
                          [
                            0.5555555555555556,
                            "#d8576b"
                          ],
                          [
                            0.6666666666666666,
                            "#ed7953"
                          ],
                          [
                            0.7777777777777778,
                            "#fb9f3a"
                          ],
                          [
                            0.8888888888888888,
                            "#fdca26"
                          ],
                          [
                            1,
                            "#f0f921"
                          ]
                        ],
                        "type": "contour"
                      }
                    ],
                    "contourcarpet": [
                      {
                        "colorbar": {
                          "outlinewidth": 0,
                          "ticks": ""
                        },
                        "type": "contourcarpet"
                      }
                    ],
                    "heatmap": [
                      {
                        "colorbar": {
                          "outlinewidth": 0,
                          "ticks": ""
                        },
                        "colorscale": [
                          [
                            0,
                            "#0d0887"
                          ],
                          [
                            0.1111111111111111,
                            "#46039f"
                          ],
                          [
                            0.2222222222222222,
                            "#7201a8"
                          ],
                          [
                            0.3333333333333333,
                            "#9c179e"
                          ],
                          [
                            0.4444444444444444,
                            "#bd3786"
                          ],
                          [
                            0.5555555555555556,
                            "#d8576b"
                          ],
                          [
                            0.6666666666666666,
                            "#ed7953"
                          ],
                          [
                            0.7777777777777778,
                            "#fb9f3a"
                          ],
                          [
                            0.8888888888888888,
                            "#fdca26"
                          ],
                          [
                            1,
                            "#f0f921"
                          ]
                        ],
                        "type": "heatmap"
                      }
                    ],
                    "histogram": [
                      {
                        "marker": {
                          "pattern": {
                            "fillmode": "overlay",
                            "size": 10,
                            "solidity": 0.2
                          }
                        },
                        "type": "histogram"
                      }
                    ],
                    "histogram2d": [
                      {
                        "colorbar": {
                          "outlinewidth": 0,
                          "ticks": ""
                        },
                        "colorscale": [
                          [
                            0,
                            "#0d0887"
                          ],
                          [
                            0.1111111111111111,
                            "#46039f"
                          ],
                          [
                            0.2222222222222222,
                            "#7201a8"
                          ],
                          [
                            0.3333333333333333,
                            "#9c179e"
                          ],
                          [
                            0.4444444444444444,
                            "#bd3786"
                          ],
                          [
                            0.5555555555555556,
                            "#d8576b"
                          ],
                          [
                            0.6666666666666666,
                            "#ed7953"
                          ],
                          [
                            0.7777777777777778,
                            "#fb9f3a"
                          ],
                          [
                            0.8888888888888888,
                            "#fdca26"
                          ],
                          [
                            1,
                            "#f0f921"
                          ]
                        ],
                        "type": "histogram2d"
                      }
                    ],
                    "histogram2dcontour": [
                      {
                        "colorbar": {
                          "outlinewidth": 0,
                          "ticks": ""
                        },
                        "colorscale": [
                          [
                            0,
                            "#0d0887"
                          ],
                          [
                            0.1111111111111111,
                            "#46039f"
                          ],
                          [
                            0.2222222222222222,
                            "#7201a8"
                          ],
                          [
                            0.3333333333333333,
                            "#9c179e"
                          ],
                          [
                            0.4444444444444444,
                            "#bd3786"
                          ],
                          [
                            0.5555555555555556,
                            "#d8576b"
                          ],
                          [
                            0.6666666666666666,
                            "#ed7953"
                          ],
                          [
                            0.7777777777777778,
                            "#fb9f3a"
                          ],
                          [
                            0.8888888888888888,
                            "#fdca26"
                          ],
                          [
                            1,
                            "#f0f921"
                          ]
                        ],
                        "type": "histogram2dcontour"
                      }
                    ],
                    "mesh3d": [
                      {
                        "colorbar": {
                          "outlinewidth": 0,
                          "ticks": ""
                        },
                        "type": "mesh3d"
                      }
                    ],
                    "parcoords": [
                      {
                        "line": {
                          "colorbar": {
                            "outlinewidth": 0,
                            "ticks": ""
                          }
                        },
                        "type": "parcoords"
                      }
                    ],
                    "pie": [
                      {
                        "automargin": true,
                        "type": "pie"
                      }
                    ],
                    "scatter": [
                      {
                        "fillpattern": {
                          "fillmode": "overlay",
                          "size": 10,
                          "solidity": 0.2
                        },
                        "type": "scatter"
                      }
                    ],
                    "scatter3d": [
                      {
                        "line": {
                          "colorbar": {
                            "outlinewidth": 0,
                            "ticks": ""
                          }
                        },
                        "marker": {
                          "colorbar": {
                            "outlinewidth": 0,
                            "ticks": ""
                          }
                        },
                        "type": "scatter3d"
                      }
                    ],
                    "scattercarpet": [
                      {
                        "marker": {
                          "colorbar": {
                            "outlinewidth": 0,
                            "ticks": ""
                          }
                        },
                        "type": "scattercarpet"
                      }
                    ],
                    "scattergeo": [
                      {
                        "marker": {
                          "colorbar": {
                            "outlinewidth": 0,
                            "ticks": ""
                          }
                        },
                        "type": "scattergeo"
                      }
                    ],
                    "scattergl": [
                      {
                        "marker": {
                          "colorbar": {
                            "outlinewidth": 0,
                            "ticks": ""
                          }
                        },
                        "type": "scattergl"
                      }
                    ],
                    "scattermap": [
                      {
                        "marker": {
                          "colorbar": {
                            "outlinewidth": 0,
                            "ticks": ""
                          }
                        },
                        "type": "scattermap"
                      }
                    ],
                    "scattermapbox": [
                      {
                        "marker": {
                          "colorbar": {
                            "outlinewidth": 0,
                            "ticks": ""
                          }
                        },
                        "type": "scattermapbox"
                      }
                    ],
                    "scatterpolar": [
                      {
                        "marker": {
                          "colorbar": {
                            "outlinewidth": 0,
                            "ticks": ""
                          }
                        },
                        "type": "scatterpolar"
                      }
                    ],
                    "scatterpolargl": [
                      {
                        "marker": {
                          "colorbar": {
                            "outlinewidth": 0,
                            "ticks": ""
                          }
                        },
                        "type": "scatterpolargl"
                      }
                    ],
                    "scatterternary": [
                      {
                        "marker": {
                          "colorbar": {
                            "outlinewidth": 0,
                            "ticks": ""
                          }
                        },
                        "type": "scatterternary"
                      }
                    ],
                    "surface": [
                      {
                        "colorbar": {
                          "outlinewidth": 0,
                          "ticks": ""
                        },
                        "colorscale": [
                          [
                            0,
                            "#0d0887"
                          ],
                          [
                            0.1111111111111111,
                            "#46039f"
                          ],
                          [
                            0.2222222222222222,
                            "#7201a8"
                          ],
                          [
                            0.3333333333333333,
                            "#9c179e"
                          ],
                          [
                            0.4444444444444444,
                            "#bd3786"
                          ],
                          [
                            0.5555555555555556,
                            "#d8576b"
                          ],
                          [
                            0.6666666666666666,
                            "#ed7953"
                          ],
                          [
                            0.7777777777777778,
                            "#fb9f3a"
                          ],
                          [
                            0.8888888888888888,
                            "#fdca26"
                          ],
                          [
                            1,
                            "#f0f921"
                          ]
                        ],
                        "type": "surface"
                      }
                    ],
                    "table": [
                      {
                        "cells": {
                          "fill": {
                            "color": "#EBF0F8"
                          },
                          "line": {
                            "color": "white"
                          }
                        },
                        "header": {
                          "fill": {
                            "color": "#C8D4E3"
                          },
                          "line": {
                            "color": "white"
                          }
                        },
                        "type": "table"
                      }
                    ]
                  },
                  "layout": {
                    "annotationdefaults": {
                      "arrowcolor": "#2a3f5f",
                      "arrowhead": 0,
                      "arrowwidth": 1
                    },
                    "autotypenumbers": "strict",
                    "coloraxis": {
                      "colorbar": {
                        "outlinewidth": 0,
                        "ticks": ""
                      }
                    },
                    "colorscale": {
                      "diverging": [
                        [
                          0,
                          "#8e0152"
                        ],
                        [
                          0.1,
                          "#c51b7d"
                        ],
                        [
                          0.2,
                          "#de77ae"
                        ],
                        [
                          0.3,
                          "#f1b6da"
                        ],
                        [
                          0.4,
                          "#fde0ef"
                        ],
                        [
                          0.5,
                          "#f7f7f7"
                        ],
                        [
                          0.6,
                          "#e6f5d0"
                        ],
                        [
                          0.7,
                          "#b8e186"
                        ],
                        [
                          0.8,
                          "#7fbc41"
                        ],
                        [
                          0.9,
                          "#4d9221"
                        ],
                        [
                          1,
                          "#276419"
                        ]
                      ],
                      "sequential": [
                        [
                          0,
                          "#0d0887"
                        ],
                        [
                          0.1111111111111111,
                          "#46039f"
                        ],
                        [
                          0.2222222222222222,
                          "#7201a8"
                        ],
                        [
                          0.3333333333333333,
                          "#9c179e"
                        ],
                        [
                          0.4444444444444444,
                          "#bd3786"
                        ],
                        [
                          0.5555555555555556,
                          "#d8576b"
                        ],
                        [
                          0.6666666666666666,
                          "#ed7953"
                        ],
                        [
                          0.7777777777777778,
                          "#fb9f3a"
                        ],
                        [
                          0.8888888888888888,
                          "#fdca26"
                        ],
                        [
                          1,
                          "#f0f921"
                        ]
                      ],
                      "sequentialminus": [
                        [
                          0,
                          "#0d0887"
                        ],
                        [
                          0.1111111111111111,
                          "#46039f"
                        ],
                        [
                          0.2222222222222222,
                          "#7201a8"
                        ],
                        [
                          0.3333333333333333,
                          "#9c179e"
                        ],
                        [
                          0.4444444444444444,
                          "#bd3786"
                        ],
                        [
                          0.5555555555555556,
                          "#d8576b"
                        ],
                        [
                          0.6666666666666666,
                          "#ed7953"
                        ],
                        [
                          0.7777777777777778,
                          "#fb9f3a"
                        ],
                        [
                          0.8888888888888888,
                          "#fdca26"
                        ],
                        [
                          1,
                          "#f0f921"
                        ]
                      ]
                    },
                    "colorway": [
                      "#636efa",
                      "#EF553B",
                      "#00cc96",
                      "#ab63fa",
                      "#FFA15A",
                      "#19d3f3",
                      "#FF6692",
                      "#B6E880",
                      "#FF97FF",
                      "#FECB52"
                    ],
                    "font": {
                      "color": "#2a3f5f"
                    },
                    "geo": {
                      "bgcolor": "white",
                      "lakecolor": "white",
                      "landcolor": "#E5ECF6",
                      "showlakes": true,
                      "showland": true,
                      "subunitcolor": "white"
                    },
                    "hoverlabel": {
                      "align": "left"
                    },
                    "hovermode": "closest",
                    "mapbox": {
                      "style": "light"
                    },
                    "paper_bgcolor": "white",
                    "plot_bgcolor": "#E5ECF6",
                    "polar": {
                      "angularaxis": {
                        "gridcolor": "white",
                        "linecolor": "white",
                        "ticks": ""
                      },
                      "bgcolor": "#E5ECF6",
                      "radialaxis": {
                        "gridcolor": "white",
                        "linecolor": "white",
                        "ticks": ""
                      }
                    },
                    "scene": {
                      "xaxis": {
                        "backgroundcolor": "#E5ECF6",
                        "gridcolor": "white",
                        "gridwidth": 2,
                        "linecolor": "white",
                        "showbackground": true,
                        "ticks": "",
                        "zerolinecolor": "white"
                      },
                      "yaxis": {
                        "backgroundcolor": "#E5ECF6",
                        "gridcolor": "white",
                        "gridwidth": 2,
                        "linecolor": "white",
                        "showbackground": true,
                        "ticks": "",
                        "zerolinecolor": "white"
                      },
                      "zaxis": {
                        "backgroundcolor": "#E5ECF6",
                        "gridcolor": "white",
                        "gridwidth": 2,
                        "linecolor": "white",
                        "showbackground": true,
                        "ticks": "",
                        "zerolinecolor": "white"
                      }
                    },
                    "shapedefaults": {
                      "line": {
                        "color": "#2a3f5f"
                      }
                    },
                    "ternary": {
                      "aaxis": {
                        "gridcolor": "white",
                        "linecolor": "white",
                        "ticks": ""
                      },
                      "baxis": {
                        "gridcolor": "white",
                        "linecolor": "white",
                        "ticks": ""
                      },
                      "bgcolor": "#E5ECF6",
                      "caxis": {
                        "gridcolor": "white",
                        "linecolor": "white",
                        "ticks": ""
                      }
                    },
                    "title": {
                      "x": 0.05
                    },
                    "xaxis": {
                      "automargin": true,
                      "gridcolor": "white",
                      "linecolor": "white",
                      "ticks": "",
                      "title": {
                        "standoff": 15
                      },
                      "zerolinecolor": "white",
                      "zerolinewidth": 2
                    },
                    "yaxis": {
                      "automargin": true,
                      "gridcolor": "white",
                      "linecolor": "white",
                      "ticks": "",
                      "title": {
                        "standoff": 15
                      },
                      "zerolinecolor": "white",
                      "zerolinewidth": 2
                    }
                  }
                },
                "xaxis": {
                  "anchor": "y",
                  "domain": [
                    0,
                    1
                  ],
                  "title": {
                    "text": "Organization"
                  }
                },
                "yaxis": {
                  "anchor": "x",
                  "domain": [
                    0,
                    1
                  ],
                  "title": {
                    "text": "Price per launch"
                  }
                }
              }
            }
          },
          "metadata": {},
          "output_type": "display_data"
        }
      ],
      "source": [
        "fig = px.bar(\n",
        "    x=organization_per_launch.Organisation,\n",
        "    y=organization_per_launch.Price_Per_Launch,\n",
        "    color=organization_per_launch.Price_Per_Launch,\n",
        ")\n",
        "\n",
        "fig.update_layout(\n",
        "    xaxis_title = \"Organization\",\n",
        "    yaxis_title = \"Price per launch\",\n",
        ")\n",
        "\n",
        "fig.show()"
      ]
    },
    {
      "cell_type": "markdown",
      "metadata": {
        "id": "yRa1BbPoa-qf",
        "papermill": {
          "duration": 0.042662,
          "end_time": "2020-10-20T21:34:09.943196",
          "exception": false,
          "start_time": "2020-10-20T21:34:09.900534",
          "status": "completed"
        },
        "tags": []
      },
      "source": [
        "# Chart the Number of Launches per Year"
      ]
    },
    {
      "cell_type": "code",
      "execution_count": 95,
      "metadata": {},
      "outputs": [
        {
          "data": {
            "application/vnd.microsoft.datawrangler.viewer.v0+json": {
              "columns": [
                {
                  "name": "index",
                  "rawType": "int64",
                  "type": "integer"
                },
                {
                  "name": "Organisation",
                  "rawType": "object",
                  "type": "string"
                },
                {
                  "name": "Location",
                  "rawType": "object",
                  "type": "string"
                },
                {
                  "name": "Date",
                  "rawType": "datetime64[ns, UTC]",
                  "type": "unknown"
                },
                {
                  "name": "Detail",
                  "rawType": "object",
                  "type": "string"
                },
                {
                  "name": "Rocket_Status",
                  "rawType": "object",
                  "type": "string"
                },
                {
                  "name": "Price",
                  "rawType": "float64",
                  "type": "float"
                },
                {
                  "name": "Mission_Status",
                  "rawType": "object",
                  "type": "string"
                },
                {
                  "name": "Country",
                  "rawType": "object",
                  "type": "string"
                },
                {
                  "name": "ISO",
                  "rawType": "object",
                  "type": "string"
                }
              ],
              "conversionMethod": "pd.DataFrame",
              "ref": "5b021074-d269-44c6-a7a1-9e1ef3bbbf4d",
              "rows": [
                [
                  "0",
                  "SpaceX",
                  "LC-39A, Kennedy Space Center, Florida, USA",
                  "2020-08-07 00:00:00+00:00",
                  "Falcon 9 Block 5 | Starlink V1 L9 & BlackSky",
                  "StatusActive",
                  "50.0",
                  "Success",
                  "USA",
                  "USA"
                ],
                [
                  "1",
                  "CASC",
                  "Site 9401 (SLS-2), Jiuquan Satellite Launch Center, China",
                  "2020-08-06 00:00:00+00:00",
                  "Long March 2D | Gaofen-9 04 & Q-SAT",
                  "StatusActive",
                  "29.75",
                  "Success",
                  "China",
                  "CHN"
                ],
                [
                  "2",
                  "SpaceX",
                  "Pad A, Boca Chica, Texas, USA",
                  "2020-08-04 00:00:00+00:00",
                  "Starship Prototype | 150 Meter Hop",
                  "StatusActive",
                  null,
                  "Success",
                  "USA",
                  "USA"
                ],
                [
                  "3",
                  "Roscosmos",
                  "Site 200/39, Baikonur Cosmodrome, Kazakhstan",
                  "2020-07-30 00:00:00+00:00",
                  "Proton-M/Briz-M | Ekspress-80 & Ekspress-103",
                  "StatusActive",
                  "65.0",
                  "Success",
                  "Kazakhstan",
                  "KAZ"
                ],
                [
                  "4",
                  "ULA",
                  "SLC-41, Cape Canaveral AFS, Florida, USA",
                  "2020-07-30 00:00:00+00:00",
                  "Atlas V 541 | Perseverance",
                  "StatusActive",
                  "145.0",
                  "Success",
                  "USA",
                  "USA"
                ]
              ],
              "shape": {
                "columns": 9,
                "rows": 5
              }
            },
            "text/html": [
              "<div>\n",
              "<style scoped>\n",
              "    .dataframe tbody tr th:only-of-type {\n",
              "        vertical-align: middle;\n",
              "    }\n",
              "\n",
              "    .dataframe tbody tr th {\n",
              "        vertical-align: top;\n",
              "    }\n",
              "\n",
              "    .dataframe thead th {\n",
              "        text-align: right;\n",
              "    }\n",
              "</style>\n",
              "<table border=\"1\" class=\"dataframe\">\n",
              "  <thead>\n",
              "    <tr style=\"text-align: right;\">\n",
              "      <th></th>\n",
              "      <th>Organisation</th>\n",
              "      <th>Location</th>\n",
              "      <th>Date</th>\n",
              "      <th>Detail</th>\n",
              "      <th>Rocket_Status</th>\n",
              "      <th>Price</th>\n",
              "      <th>Mission_Status</th>\n",
              "      <th>Country</th>\n",
              "      <th>ISO</th>\n",
              "    </tr>\n",
              "  </thead>\n",
              "  <tbody>\n",
              "    <tr>\n",
              "      <th>0</th>\n",
              "      <td>SpaceX</td>\n",
              "      <td>LC-39A, Kennedy Space Center, Florida, USA</td>\n",
              "      <td>2020-08-07 00:00:00+00:00</td>\n",
              "      <td>Falcon 9 Block 5 | Starlink V1 L9 &amp; BlackSky</td>\n",
              "      <td>StatusActive</td>\n",
              "      <td>50.00</td>\n",
              "      <td>Success</td>\n",
              "      <td>USA</td>\n",
              "      <td>USA</td>\n",
              "    </tr>\n",
              "    <tr>\n",
              "      <th>1</th>\n",
              "      <td>CASC</td>\n",
              "      <td>Site 9401 (SLS-2), Jiuquan Satellite Launch Ce...</td>\n",
              "      <td>2020-08-06 00:00:00+00:00</td>\n",
              "      <td>Long March 2D | Gaofen-9 04 &amp; Q-SAT</td>\n",
              "      <td>StatusActive</td>\n",
              "      <td>29.75</td>\n",
              "      <td>Success</td>\n",
              "      <td>China</td>\n",
              "      <td>CHN</td>\n",
              "    </tr>\n",
              "    <tr>\n",
              "      <th>2</th>\n",
              "      <td>SpaceX</td>\n",
              "      <td>Pad A, Boca Chica, Texas, USA</td>\n",
              "      <td>2020-08-04 00:00:00+00:00</td>\n",
              "      <td>Starship Prototype | 150 Meter Hop</td>\n",
              "      <td>StatusActive</td>\n",
              "      <td>NaN</td>\n",
              "      <td>Success</td>\n",
              "      <td>USA</td>\n",
              "      <td>USA</td>\n",
              "    </tr>\n",
              "    <tr>\n",
              "      <th>3</th>\n",
              "      <td>Roscosmos</td>\n",
              "      <td>Site 200/39, Baikonur Cosmodrome, Kazakhstan</td>\n",
              "      <td>2020-07-30 00:00:00+00:00</td>\n",
              "      <td>Proton-M/Briz-M | Ekspress-80 &amp; Ekspress-103</td>\n",
              "      <td>StatusActive</td>\n",
              "      <td>65.00</td>\n",
              "      <td>Success</td>\n",
              "      <td>Kazakhstan</td>\n",
              "      <td>KAZ</td>\n",
              "    </tr>\n",
              "    <tr>\n",
              "      <th>4</th>\n",
              "      <td>ULA</td>\n",
              "      <td>SLC-41, Cape Canaveral AFS, Florida, USA</td>\n",
              "      <td>2020-07-30 00:00:00+00:00</td>\n",
              "      <td>Atlas V 541 | Perseverance</td>\n",
              "      <td>StatusActive</td>\n",
              "      <td>145.00</td>\n",
              "      <td>Success</td>\n",
              "      <td>USA</td>\n",
              "      <td>USA</td>\n",
              "    </tr>\n",
              "  </tbody>\n",
              "</table>\n",
              "</div>"
            ],
            "text/plain": [
              "  Organisation                                           Location  \\\n",
              "0       SpaceX         LC-39A, Kennedy Space Center, Florida, USA   \n",
              "1         CASC  Site 9401 (SLS-2), Jiuquan Satellite Launch Ce...   \n",
              "2       SpaceX                      Pad A, Boca Chica, Texas, USA   \n",
              "3    Roscosmos       Site 200/39, Baikonur Cosmodrome, Kazakhstan   \n",
              "4          ULA           SLC-41, Cape Canaveral AFS, Florida, USA   \n",
              "\n",
              "                       Date                                        Detail  \\\n",
              "0 2020-08-07 00:00:00+00:00  Falcon 9 Block 5 | Starlink V1 L9 & BlackSky   \n",
              "1 2020-08-06 00:00:00+00:00           Long March 2D | Gaofen-9 04 & Q-SAT   \n",
              "2 2020-08-04 00:00:00+00:00            Starship Prototype | 150 Meter Hop   \n",
              "3 2020-07-30 00:00:00+00:00  Proton-M/Briz-M | Ekspress-80 & Ekspress-103   \n",
              "4 2020-07-30 00:00:00+00:00                    Atlas V 541 | Perseverance   \n",
              "\n",
              "  Rocket_Status  Price Mission_Status     Country  ISO  \n",
              "0  StatusActive  50.00        Success         USA  USA  \n",
              "1  StatusActive  29.75        Success       China  CHN  \n",
              "2  StatusActive    NaN        Success         USA  USA  \n",
              "3  StatusActive  65.00        Success  Kazakhstan  KAZ  \n",
              "4  StatusActive 145.00        Success         USA  USA  "
            ]
          },
          "execution_count": 95,
          "metadata": {},
          "output_type": "execute_result"
        }
      ],
      "source": [
        "df_data.Date = pd.to_datetime(df_data.Date, errors=\"coerce\", utc=True)\n",
        "df_data.head()"
      ]
    },
    {
      "cell_type": "code",
      "execution_count": 105,
      "metadata": {
        "id": "b2pggcZBpb4x"
      },
      "outputs": [
        {
          "data": {
            "image/png": "[encoded data removed]",
            "text/plain": [
              "<Figure size 1600x800 with 1 Axes>"
            ]
          },
          "metadata": {},
          "output_type": "display_data"
        }
      ],
      "source": [
        "launch_count_per_year = df_data.Date.dt.year.value_counts().sort_index()\n",
        "\n",
        "plt.figure(figsize=(16,8))\n",
        "launch_count_per_year.plot(kind=\"bar\")\n",
        "plt.xticks(rotation=45)\n",
        "plt.xlabel(\"Year\")\n",
        "plt.ylabel(\"Launch Count\")\n",
        "plt.title(\"Launch Times per Year\")\n",
        "plt.show()"
      ]
    },
    {
      "cell_type": "markdown",
      "metadata": {
        "id": "NomJVLi3tIaM"
      },
      "source": [
        "# Chart the Number of Launches Month-on-Month until the Present\n",
        "\n",
        "Which month has seen the highest number of launches in all time? Superimpose a rolling average on the month on month time series chart. "
      ]
    },
    {
      "cell_type": "code",
      "execution_count": 106,
      "metadata": {
        "id": "H1N2aBs5tH9z"
      },
      "outputs": [],
      "source": [
        "monthly_counts = df_data.resample(\"ME\", on=\"Date\").size().rename(\"Launches\")\n",
        "rolling_avg = monthly_counts.rolling(window=12, min_periods=1).mean().rename(\"12-Month Rolling Avg\")"
      ]
    },
    {
      "cell_type": "code",
      "execution_count": 107,
      "metadata": {},
      "outputs": [
        {
          "data": {
            "image/png": "[encoded data removed]",
            "text/plain": [
              "<Figure size 1200x600 with 1 Axes>"
            ]
          },
          "metadata": {},
          "output_type": "display_data"
        }
      ],
      "source": [
        "fig, ax = plt.subplots(figsize=(12,6))\n",
        "\n",
        "monthly_counts.plot(kind='bar', ax=ax, alpha=0.5, label='Monthly Launches', width=0.8)\n",
        "\n",
        "rolling_avg.plot(ax=ax, color='red', linewidth=2, label='Rolling Average')\n",
        "\n",
        "ax.set_title('Rocket Launches Month-on-Month with Rolling Average')\n",
        "ax.set_xlabel('Year-Month')\n",
        "ax.set_ylabel('Number of Launches')\n",
        "ax.legend()\n",
        "plt.xticks(rotation=45)\n",
        "plt.tight_layout()\n",
        "plt.show()\n"
      ]
    },
    {
      "cell_type": "markdown",
      "metadata": {
        "id": "t-avMIZoa-qh",
        "papermill": {
          "duration": 0.044409,
          "end_time": "2020-10-20T21:34:10.162592",
          "exception": false,
          "start_time": "2020-10-20T21:34:10.118183",
          "status": "completed"
        },
        "tags": []
      },
      "source": [
        "# Launches per Month: Which months are most popular and least popular for launches?\n",
        "\n",
        "Some months have better weather than others. Which time of year seems to be best for space missions?"
      ]
    },
    {
      "cell_type": "code",
      "execution_count": null,
      "metadata": {
        "id": "fnk2m_cpppJo"
      },
      "outputs": [],
      "source": []
    },
    {
      "cell_type": "markdown",
      "metadata": {
        "id": "dPQ_N_sfa-qo",
        "papermill": {
          "duration": 0.067915,
          "end_time": "2020-10-20T21:34:11.122539",
          "exception": false,
          "start_time": "2020-10-20T21:34:11.054624",
          "status": "completed"
        },
        "tags": []
      },
      "source": [
        "# How has the Launch Price varied Over Time? \n",
        "\n",
        "Create a line chart that shows the average price of rocket launches over time. "
      ]
    },
    {
      "cell_type": "code",
      "execution_count": null,
      "metadata": {
        "id": "hFc-2M5-qCrv"
      },
      "outputs": [],
      "source": []
    },
    {
      "cell_type": "code",
      "execution_count": null,
      "metadata": {
        "id": "ggYFiAsEqC6J"
      },
      "outputs": [],
      "source": []
    },
    {
      "cell_type": "markdown",
      "metadata": {
        "id": "8OYrWyiOa-qs",
        "papermill": {
          "duration": 0.047152,
          "end_time": "2020-10-20T21:34:11.681371",
          "exception": false,
          "start_time": "2020-10-20T21:34:11.634219",
          "status": "completed"
        },
        "tags": []
      },
      "source": [
        "# Chart the Number of Launches over Time by the Top 10 Organisations. \n",
        "\n",
        "How has the dominance of launches changed over time between the different players? "
      ]
    },
    {
      "cell_type": "code",
      "execution_count": null,
      "metadata": {
        "id": "RcsrPPpAqVFj"
      },
      "outputs": [],
      "source": []
    },
    {
      "cell_type": "code",
      "execution_count": null,
      "metadata": {
        "id": "1IgfafiyqWEe"
      },
      "outputs": [],
      "source": []
    },
    {
      "cell_type": "code",
      "execution_count": null,
      "metadata": {
        "id": "akCDKT8CqVjG"
      },
      "outputs": [],
      "source": []
    },
    {
      "cell_type": "markdown",
      "metadata": {
        "id": "6Cm8_ch6a-q7",
        "papermill": {
          "duration": 0.052399,
          "end_time": "2020-10-20T21:34:13.756781",
          "exception": false,
          "start_time": "2020-10-20T21:34:13.704382",
          "status": "completed"
        },
        "tags": []
      },
      "source": [
        "# Cold War Space Race: USA vs USSR\n",
        "\n",
        "The cold war lasted from the start of the dataset up until 1991. "
      ]
    },
    {
      "cell_type": "code",
      "execution_count": null,
      "metadata": {
        "id": "AcE_U8csrICL"
      },
      "outputs": [],
      "source": []
    },
    {
      "cell_type": "code",
      "execution_count": null,
      "metadata": {
        "id": "cOe_t4OmrHr9"
      },
      "outputs": [],
      "source": []
    },
    {
      "cell_type": "markdown",
      "metadata": {
        "id": "Os-3A5vLa-q9",
        "papermill": {
          "duration": 0.054318,
          "end_time": "2020-10-20T21:34:14.089604",
          "exception": false,
          "start_time": "2020-10-20T21:34:14.035286",
          "status": "completed"
        },
        "tags": []
      },
      "source": [
        "## Create a Plotly Pie Chart comparing the total number of launches of the USSR and the USA\n",
        "\n",
        "Hint: Remember to include former Soviet Republics like Kazakhstan when analysing the total number of launches. "
      ]
    },
    {
      "cell_type": "code",
      "execution_count": null,
      "metadata": {
        "id": "1irc6_W9rD59"
      },
      "outputs": [],
      "source": []
    },
    {
      "cell_type": "code",
      "execution_count": null,
      "metadata": {
        "id": "OhhuLQycrEE-"
      },
      "outputs": [],
      "source": []
    },
    {
      "cell_type": "markdown",
      "metadata": {
        "id": "0C29Zz4xa-rA",
        "papermill": {
          "duration": 0.052921,
          "end_time": "2020-10-20T21:34:14.340085",
          "exception": false,
          "start_time": "2020-10-20T21:34:14.287164",
          "status": "completed"
        },
        "tags": []
      },
      "source": [
        "## Create a Chart that Shows the Total Number of Launches Year-On-Year by the Two Superpowers"
      ]
    },
    {
      "cell_type": "code",
      "execution_count": null,
      "metadata": {
        "id": "9ISKvOiCrS73"
      },
      "outputs": [],
      "source": []
    },
    {
      "cell_type": "code",
      "execution_count": null,
      "metadata": {
        "id": "oCc7VTzGrTK-"
      },
      "outputs": [],
      "source": []
    },
    {
      "cell_type": "markdown",
      "metadata": {
        "id": "eWv4iZmra-rE",
        "papermill": {
          "duration": 0.079311,
          "end_time": "2020-10-20T21:34:14.933058",
          "exception": false,
          "start_time": "2020-10-20T21:34:14.853747",
          "status": "completed"
        },
        "tags": []
      },
      "source": [
        "## Chart the Total Number of Mission Failures Year on Year."
      ]
    },
    {
      "cell_type": "code",
      "execution_count": null,
      "metadata": {
        "id": "I-Zss5-Mre-4"
      },
      "outputs": [],
      "source": []
    },
    {
      "cell_type": "code",
      "execution_count": null,
      "metadata": {
        "id": "7Ps9Iq_crfYl"
      },
      "outputs": [],
      "source": []
    },
    {
      "cell_type": "markdown",
      "metadata": {
        "id": "XNp-NkrJriEF"
      },
      "source": [
        "## Chart the Percentage of Failures over Time\n",
        "\n",
        "Did failures go up or down over time? Did the countries get better at minimising risk and improving their chances of success over time? "
      ]
    },
    {
      "cell_type": "code",
      "execution_count": null,
      "metadata": {
        "id": "Kj3-zsI0rhOS"
      },
      "outputs": [],
      "source": []
    },
    {
      "cell_type": "code",
      "execution_count": null,
      "metadata": {
        "id": "nxnnzx89rwvH"
      },
      "outputs": [],
      "source": []
    },
    {
      "cell_type": "code",
      "execution_count": null,
      "metadata": {
        "id": "_TPWaaJ5r1Fz"
      },
      "outputs": [],
      "source": []
    },
    {
      "cell_type": "markdown",
      "metadata": {
        "id": "S5aOC7bGr2OX"
      },
      "source": [
        "# For Every Year Show which Country was in the Lead in terms of Total Number of Launches up to and including including 2020)\n",
        "\n",
        "Do the results change if we only look at the number of successful launches? "
      ]
    },
    {
      "cell_type": "code",
      "execution_count": null,
      "metadata": {
        "id": "_h0grIXKsOz_"
      },
      "outputs": [],
      "source": []
    },
    {
      "cell_type": "code",
      "execution_count": null,
      "metadata": {
        "id": "zgVysedmsOp4"
      },
      "outputs": [],
      "source": []
    },
    {
      "cell_type": "markdown",
      "metadata": {
        "id": "jQcqBfJ8serG"
      },
      "source": [
        "# Create a Year-on-Year Chart Showing the Organisation Doing the Most Number of Launches\n",
        "\n",
        "Which organisation was dominant in the 1970s and 1980s? Which organisation was dominant in 2018, 2019 and 2020? "
      ]
    },
    {
      "cell_type": "code",
      "execution_count": null,
      "metadata": {
        "id": "jc9ImQEWsztG"
      },
      "outputs": [],
      "source": []
    },
    {
      "cell_type": "code",
      "execution_count": null,
      "metadata": {
        "id": "r5frxzwlsz5W"
      },
      "outputs": [],
      "source": []
    },
    {
      "cell_type": "code",
      "execution_count": null,
      "metadata": {
        "id": "8vHKpuc5a-rc",
        "papermill": {
          "duration": 0.092403,
          "end_time": "2020-10-20T21:34:26.709168",
          "exception": false,
          "start_time": "2020-10-20T21:34:26.616765",
          "status": "completed"
        },
        "tags": []
      },
      "outputs": [],
      "source": []
    }
  ],
  "metadata": {
    "colab": {
      "name": "Space Missions Analysis (start).ipynb",
      "provenance": []
    },
    "kernelspec": {
      "display_name": "Python 3",
      "language": "python",
      "name": "python3"
    },
    "language_info": {
      "codemirror_mode": {
        "name": "ipython",
        "version": 3
      },
      "file_extension": ".py",
      "mimetype": "text/x-python",
      "name": "python",
      "nbconvert_exporter": "python",
      "pygments_lexer": "ipython3",
      "version": "3.11.9"
    },
    "papermill": {
      "duration": 28.468597,
      "end_time": "2020-10-20T21:34:26.910951",
      "environment_variables": {},
      "exception": null,
      "input_path": "__notebook__.ipynb",
      "output_path": "__notebook__.ipynb",
      "parameters": {},
      "start_time": "2020-10-20T21:33:58.442354",
      "version": "2.1.0"
    }
  },
  "nbformat": 4,
  "nbformat_minor": 0
}
